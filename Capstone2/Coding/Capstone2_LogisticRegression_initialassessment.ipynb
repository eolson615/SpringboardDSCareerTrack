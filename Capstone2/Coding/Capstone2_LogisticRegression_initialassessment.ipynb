{
  "nbformat": 4,
  "nbformat_minor": 0,
  "metadata": {
    "colab": {
      "name": "Capstone2_LogisticRegression_initialassessment.ipynb",
      "provenance": [],
      "collapsed_sections": [],
      "mount_file_id": "13dgI4izI8mcf9WNWOvesH38bVmSO9X1R",
      "authorship_tag": "ABX9TyNgUcg/CO5eenLlcd509Q50",
      "include_colab_link": true
    },
    "kernelspec": {
      "name": "python3",
      "display_name": "Python 3"
    }
  },
  "cells": [
    {
      "cell_type": "markdown",
      "metadata": {
        "id": "view-in-github",
        "colab_type": "text"
      },
      "source": [
        "<a href=\"https://colab.research.google.com/github/eolson615/SpringboardDSCareerTrack/blob/master/Capstone2_LogisticRegression_initialassessment.ipynb\" target=\"_parent\"><img src=\"https://colab.research.google.com/assets/colab-badge.svg\" alt=\"Open In Colab\"/></a>"
      ]
    },
    {
      "cell_type": "markdown",
      "metadata": {
        "id": "grnxQMHW9RwM",
        "colab_type": "text"
      },
      "source": [
        "#This notebook contains the preprocessing, pipeline creation, model training, and model testing along with subsequent analysis using a logistic regression model on the Telco Customer Churn dataset. I have already done the data cleaning and EDA in previous notebooks."
      ]
    },
    {
      "cell_type": "code",
      "metadata": {
        "id": "SPFI83WO9H3K",
        "colab_type": "code",
        "colab": {
          "base_uri": "https://localhost:8080/",
          "height": 51
        },
        "outputId": "cdd560e5-9c60-42d7-d572-0003bc240612"
      },
      "source": [
        "import pandas as pd\n",
        "import numpy as np\n",
        "import matplotlib.pyplot as plt\n",
        "import seaborn as sns\n",
        "sns.set()\n",
        "from sklearn.model_selection import cross_val_score\n",
        "from sklearn.model_selection import GridSearchCV\n",
        "from sklearn.model_selection import RandomizedSearchCV\n",
        "from sklearn.model_selection import train_test_split\n",
        "from sklearn.compose import make_column_transformer\n",
        "from sklearn.preprocessing import OneHotEncoder\n",
        "from sklearn.preprocessing import StandardScaler\n",
        "from sklearn.linear_model import LogisticRegression\n",
        "from sklearn.pipeline import make_pipeline\n",
        "from sklearn import metrics\n",
        "from sklearn.metrics import classification_report"
      ],
      "execution_count": null,
      "outputs": [
        {
          "output_type": "stream",
          "text": [
            "/usr/local/lib/python3.6/dist-packages/statsmodels/tools/_testing.py:19: FutureWarning: pandas.util.testing is deprecated. Use the functions in the public API at pandas.testing instead.\n",
            "  import pandas.util.testing as tm\n"
          ],
          "name": "stderr"
        }
      ]
    },
    {
      "cell_type": "code",
      "metadata": {
        "id": "0JPMZNed_LLa",
        "colab_type": "code",
        "colab": {
          "base_uri": "https://localhost:8080/",
          "height": 34
        },
        "outputId": "4e39c700-5f6f-46bb-ff92-a2b9411b298e"
      },
      "source": [
        "from google.colab import drive\n",
        "drive.mount('/content/drive')"
      ],
      "execution_count": null,
      "outputs": [
        {
          "output_type": "stream",
          "text": [
            "Drive already mounted at /content/drive; to attempt to forcibly remount, call drive.mount(\"/content/drive\", force_remount=True).\n"
          ],
          "name": "stdout"
        }
      ]
    },
    {
      "cell_type": "code",
      "metadata": {
        "id": "HcLOo5Ch_Z4i",
        "colab_type": "code",
        "colab": {
          "base_uri": "https://localhost:8080/",
          "height": 292
        },
        "outputId": "13a4ddb8-1330-402a-daab-c3fdaa91faf1"
      },
      "source": [
        "df_url = '/content/drive/My Drive/Colab Notebooks/Capstone2/telcodata_posteda.csv'\n",
        "df = pd.read_csv(df_url, index_col=[0])\n",
        "df.head()"
      ],
      "execution_count": null,
      "outputs": [
        {
          "output_type": "execute_result",
          "data": {
            "text/html": [
              "<div>\n",
              "<style scoped>\n",
              "    .dataframe tbody tr th:only-of-type {\n",
              "        vertical-align: middle;\n",
              "    }\n",
              "\n",
              "    .dataframe tbody tr th {\n",
              "        vertical-align: top;\n",
              "    }\n",
              "\n",
              "    .dataframe thead th {\n",
              "        text-align: right;\n",
              "    }\n",
              "</style>\n",
              "<table border=\"1\" class=\"dataframe\">\n",
              "  <thead>\n",
              "    <tr style=\"text-align: right;\">\n",
              "      <th></th>\n",
              "      <th>gender</th>\n",
              "      <th>SeniorCitizen</th>\n",
              "      <th>Partner</th>\n",
              "      <th>Dependents</th>\n",
              "      <th>tenure</th>\n",
              "      <th>PhoneService</th>\n",
              "      <th>MultipleLines</th>\n",
              "      <th>InternetService</th>\n",
              "      <th>OnlineSecurity</th>\n",
              "      <th>OnlineBackup</th>\n",
              "      <th>DeviceProtection</th>\n",
              "      <th>TechSupport</th>\n",
              "      <th>StreamingTV</th>\n",
              "      <th>StreamingMovies</th>\n",
              "      <th>Contract</th>\n",
              "      <th>PaperlessBilling</th>\n",
              "      <th>PaymentMethod</th>\n",
              "      <th>MonthlyCharges</th>\n",
              "      <th>TotalCharges</th>\n",
              "      <th>Churn</th>\n",
              "    </tr>\n",
              "  </thead>\n",
              "  <tbody>\n",
              "    <tr>\n",
              "      <th>0</th>\n",
              "      <td>Female</td>\n",
              "      <td>0</td>\n",
              "      <td>Yes</td>\n",
              "      <td>No</td>\n",
              "      <td>1</td>\n",
              "      <td>No</td>\n",
              "      <td>No phone service</td>\n",
              "      <td>DSL</td>\n",
              "      <td>No</td>\n",
              "      <td>Yes</td>\n",
              "      <td>No</td>\n",
              "      <td>No</td>\n",
              "      <td>No</td>\n",
              "      <td>No</td>\n",
              "      <td>Month-to-month</td>\n",
              "      <td>Yes</td>\n",
              "      <td>Electronic check</td>\n",
              "      <td>29.85</td>\n",
              "      <td>29.85</td>\n",
              "      <td>No</td>\n",
              "    </tr>\n",
              "    <tr>\n",
              "      <th>1</th>\n",
              "      <td>Male</td>\n",
              "      <td>0</td>\n",
              "      <td>No</td>\n",
              "      <td>No</td>\n",
              "      <td>34</td>\n",
              "      <td>Yes</td>\n",
              "      <td>No</td>\n",
              "      <td>DSL</td>\n",
              "      <td>Yes</td>\n",
              "      <td>No</td>\n",
              "      <td>Yes</td>\n",
              "      <td>No</td>\n",
              "      <td>No</td>\n",
              "      <td>No</td>\n",
              "      <td>One year</td>\n",
              "      <td>No</td>\n",
              "      <td>Mailed check</td>\n",
              "      <td>56.95</td>\n",
              "      <td>1889.50</td>\n",
              "      <td>No</td>\n",
              "    </tr>\n",
              "    <tr>\n",
              "      <th>2</th>\n",
              "      <td>Male</td>\n",
              "      <td>0</td>\n",
              "      <td>No</td>\n",
              "      <td>No</td>\n",
              "      <td>2</td>\n",
              "      <td>Yes</td>\n",
              "      <td>No</td>\n",
              "      <td>DSL</td>\n",
              "      <td>Yes</td>\n",
              "      <td>Yes</td>\n",
              "      <td>No</td>\n",
              "      <td>No</td>\n",
              "      <td>No</td>\n",
              "      <td>No</td>\n",
              "      <td>Month-to-month</td>\n",
              "      <td>Yes</td>\n",
              "      <td>Mailed check</td>\n",
              "      <td>53.85</td>\n",
              "      <td>108.15</td>\n",
              "      <td>Yes</td>\n",
              "    </tr>\n",
              "    <tr>\n",
              "      <th>3</th>\n",
              "      <td>Male</td>\n",
              "      <td>0</td>\n",
              "      <td>No</td>\n",
              "      <td>No</td>\n",
              "      <td>45</td>\n",
              "      <td>No</td>\n",
              "      <td>No phone service</td>\n",
              "      <td>DSL</td>\n",
              "      <td>Yes</td>\n",
              "      <td>No</td>\n",
              "      <td>Yes</td>\n",
              "      <td>Yes</td>\n",
              "      <td>No</td>\n",
              "      <td>No</td>\n",
              "      <td>One year</td>\n",
              "      <td>No</td>\n",
              "      <td>Bank transfer (automatic)</td>\n",
              "      <td>42.30</td>\n",
              "      <td>1840.75</td>\n",
              "      <td>No</td>\n",
              "    </tr>\n",
              "    <tr>\n",
              "      <th>4</th>\n",
              "      <td>Female</td>\n",
              "      <td>0</td>\n",
              "      <td>No</td>\n",
              "      <td>No</td>\n",
              "      <td>2</td>\n",
              "      <td>Yes</td>\n",
              "      <td>No</td>\n",
              "      <td>Fiber optic</td>\n",
              "      <td>No</td>\n",
              "      <td>No</td>\n",
              "      <td>No</td>\n",
              "      <td>No</td>\n",
              "      <td>No</td>\n",
              "      <td>No</td>\n",
              "      <td>Month-to-month</td>\n",
              "      <td>Yes</td>\n",
              "      <td>Electronic check</td>\n",
              "      <td>70.70</td>\n",
              "      <td>151.65</td>\n",
              "      <td>Yes</td>\n",
              "    </tr>\n",
              "  </tbody>\n",
              "</table>\n",
              "</div>"
            ],
            "text/plain": [
              "   gender  SeniorCitizen Partner  ... MonthlyCharges  TotalCharges Churn\n",
              "0  Female              0     Yes  ...          29.85         29.85    No\n",
              "1    Male              0      No  ...          56.95       1889.50    No\n",
              "2    Male              0      No  ...          53.85        108.15   Yes\n",
              "3    Male              0      No  ...          42.30       1840.75    No\n",
              "4  Female              0      No  ...          70.70        151.65   Yes\n",
              "\n",
              "[5 rows x 20 columns]"
            ]
          },
          "metadata": {
            "tags": []
          },
          "execution_count": 3
        }
      ]
    },
    {
      "cell_type": "code",
      "metadata": {
        "id": "lWcHLJGiOG1r",
        "colab_type": "code",
        "colab": {
          "base_uri": "https://localhost:8080/",
          "height": 34
        },
        "outputId": "63730dcd-6f03-4f78-cd23-73c835bbde27"
      },
      "source": [
        "df.shape"
      ],
      "execution_count": null,
      "outputs": [
        {
          "output_type": "execute_result",
          "data": {
            "text/plain": [
              "(7043, 20)"
            ]
          },
          "metadata": {
            "tags": []
          },
          "execution_count": 4
        }
      ]
    },
    {
      "cell_type": "markdown",
      "metadata": {
        "id": "6ffBsFS1OgBb",
        "colab_type": "text"
      },
      "source": [
        "###I will first check out the shape and types of my X and y datasets to make sure they are compatable and there are no unexpected idiosyncrasies."
      ]
    },
    {
      "cell_type": "code",
      "metadata": {
        "id": "qU3ILhXyNQAH",
        "colab_type": "code",
        "colab": {
          "base_uri": "https://localhost:8080/",
          "height": 153
        },
        "outputId": "131c2b9c-d323-4551-d164-b746791cbcd1"
      },
      "source": [
        "Xcheck = df.drop(columns='Churn').values\n",
        "Xcheck"
      ],
      "execution_count": null,
      "outputs": [
        {
          "output_type": "execute_result",
          "data": {
            "text/plain": [
              "array([['Female', 0, 'Yes', ..., 'Electronic check', 29.85, 29.85],\n",
              "       ['Male', 0, 'No', ..., 'Mailed check', 56.95, 1889.5],\n",
              "       ['Male', 0, 'No', ..., 'Mailed check', 53.85, 108.15],\n",
              "       ...,\n",
              "       ['Female', 0, 'Yes', ..., 'Electronic check', 29.6, 346.45],\n",
              "       ['Male', 1, 'Yes', ..., 'Mailed check', 74.4, 306.6],\n",
              "       ['Male', 0, 'No', ..., 'Bank transfer (automatic)', 105.65,\n",
              "        6844.5]], dtype=object)"
            ]
          },
          "metadata": {
            "tags": []
          },
          "execution_count": 5
        }
      ]
    },
    {
      "cell_type": "code",
      "metadata": {
        "id": "uaZh0DHJNweY",
        "colab_type": "code",
        "colab": {
          "base_uri": "https://localhost:8080/",
          "height": 34
        },
        "outputId": "59fec3ff-b7b0-4974-8507-330377fe6958"
      },
      "source": [
        "type(Xcheck), Xcheck.shape"
      ],
      "execution_count": null,
      "outputs": [
        {
          "output_type": "execute_result",
          "data": {
            "text/plain": [
              "(numpy.ndarray, (7043, 19))"
            ]
          },
          "metadata": {
            "tags": []
          },
          "execution_count": 6
        }
      ]
    },
    {
      "cell_type": "code",
      "metadata": {
        "id": "jrBuM0h9LNr9",
        "colab_type": "code",
        "colab": {
          "base_uri": "https://localhost:8080/",
          "height": 34
        },
        "outputId": "77ecd4fc-3f02-4ee1-c341-086b8b24f1f8"
      },
      "source": [
        "ycheck = (df.Churn == 'Yes').values\n",
        "ycheck"
      ],
      "execution_count": null,
      "outputs": [
        {
          "output_type": "execute_result",
          "data": {
            "text/plain": [
              "array([False, False,  True, ..., False,  True, False])"
            ]
          },
          "metadata": {
            "tags": []
          },
          "execution_count": 7
        }
      ]
    },
    {
      "cell_type": "code",
      "metadata": {
        "id": "vEAUMC0ON5EO",
        "colab_type": "code",
        "colab": {
          "base_uri": "https://localhost:8080/",
          "height": 34
        },
        "outputId": "0e9f6e35-1ccc-4674-bd79-a80f613bbc38"
      },
      "source": [
        "type(ycheck), ycheck.shape"
      ],
      "execution_count": null,
      "outputs": [
        {
          "output_type": "execute_result",
          "data": {
            "text/plain": [
              "(numpy.ndarray, (7043,))"
            ]
          },
          "metadata": {
            "tags": []
          },
          "execution_count": 8
        }
      ]
    },
    {
      "cell_type": "markdown",
      "metadata": {
        "id": "nVPsfRdDPAfA",
        "colab_type": "text"
      },
      "source": [
        "###Everything looked good. The number for rows and shapes and types all match up."
      ]
    },
    {
      "cell_type": "markdown",
      "metadata": {
        "id": "I2uzDDGyZkFA",
        "colab_type": "text"
      },
      "source": [
        "###Now I will create my train test split and check to make sure they come out how I would expect in terms of type and shape."
      ]
    },
    {
      "cell_type": "code",
      "metadata": {
        "id": "Wh0DXvUyW22j",
        "colab_type": "code",
        "colab": {}
      },
      "source": [
        "X = df.drop(columns='Churn')\n",
        "y = df.Churn\n",
        "Xtrain, Xtest, ytrain, ytest = train_test_split(X, y, random_state=56)"
      ],
      "execution_count": null,
      "outputs": []
    },
    {
      "cell_type": "code",
      "metadata": {
        "id": "gSfETkqqY3GD",
        "colab_type": "code",
        "colab": {
          "base_uri": "https://localhost:8080/",
          "height": 1000
        },
        "outputId": "7bff38eb-11aa-4b3b-a896-631517cd71f5"
      },
      "source": [
        "print('Xtrain', type(Xtrain), Xtrain.shape, Xtrain)\n",
        "print('\\n')\n",
        "print(\"Xtrest\", type(Xtest), Xtest.shape, Xtest)\n",
        "print('\\n')\n",
        "print('ytrain', type(ytrain), ytrain.shape, ytrain)\n",
        "print('\\n')\n",
        "print(\"ytrest\", type(ytest), ytest.shape, ytest)"
      ],
      "execution_count": null,
      "outputs": [
        {
          "output_type": "stream",
          "text": [
            "Xtrain <class 'pandas.core.frame.DataFrame'> (5282, 19)       gender  SeniorCitizen  ... MonthlyCharges TotalCharges\n",
            "2500    Male              0  ...          75.50      4025.60\n",
            "2456    Male              0  ...          24.55      1160.45\n",
            "1705  Female              1  ...          90.45      5044.80\n",
            "3011  Female              0  ...          19.75       210.65\n",
            "5444    Male              0  ...         107.75      4882.80\n",
            "...      ...            ...  ...            ...          ...\n",
            "1259  Female              1  ...          95.25      4424.20\n",
            "5538  Female              0  ...          81.10        81.10\n",
            "3264  Female              0  ...          91.10       964.35\n",
            "399   Female              0  ...          20.05       415.10\n",
            "2532  Female              1  ...         101.10      4016.20\n",
            "\n",
            "[5282 rows x 19 columns]\n",
            "\n",
            "\n",
            "Xtrest <class 'pandas.core.frame.DataFrame'> (1761, 19)       gender  SeniorCitizen  ... MonthlyCharges TotalCharges\n",
            "6046  Female              0  ...          85.30       781.40\n",
            "6494  Female              0  ...          29.80       786.50\n",
            "2702    Male              0  ...          44.00        44.00\n",
            "1532    Male              0  ...          19.60       300.40\n",
            "3999  Female              1  ...          69.60       131.65\n",
            "...      ...            ...  ...            ...          ...\n",
            "3724    Male              0  ...          24.80      1476.25\n",
            "5540  Female              0  ...          20.55        20.55\n",
            "6546    Male              0  ...          51.15      1275.70\n",
            "5582  Female              0  ...          24.00      1183.05\n",
            "1621  Female              0  ...          86.45      3029.10\n",
            "\n",
            "[1761 rows x 19 columns]\n",
            "\n",
            "\n",
            "ytrain <class 'pandas.core.series.Series'> (5282,) 2500     No\n",
            "2456     No\n",
            "1705     No\n",
            "3011     No\n",
            "5444     No\n",
            "       ... \n",
            "1259    Yes\n",
            "5538    Yes\n",
            "3264     No\n",
            "399      No\n",
            "2532     No\n",
            "Name: Churn, Length: 5282, dtype: object\n",
            "\n",
            "\n",
            "ytrest <class 'pandas.core.series.Series'> (1761,) 6046     No\n",
            "6494     No\n",
            "2702     No\n",
            "1532     No\n",
            "3999    Yes\n",
            "       ... \n",
            "3724     No\n",
            "5540    Yes\n",
            "6546     No\n",
            "5582     No\n",
            "1621    Yes\n",
            "Name: Churn, Length: 1761, dtype: object\n"
          ],
          "name": "stdout"
        }
      ]
    },
    {
      "cell_type": "markdown",
      "metadata": {
        "id": "jSYSq9nAPLyb",
        "colab_type": "text"
      },
      "source": [
        "###Now I will set up a generic pipeline and with a column transfor to OneHotEncode the categorical features and StandardScaler for numerical features. Then I will pass it into base SciKit Learn LogisticRegression model using a cross validation process. This is will give me a baseline score. Later I will include a gridsearchCV for hyperparameter selection."
      ]
    },
    {
      "cell_type": "code",
      "metadata": {
        "id": "ePWQ_cKYaFsT",
        "colab_type": "code",
        "colab": {
          "base_uri": "https://localhost:8080/",
          "height": 102
        },
        "outputId": "0c6b796b-d195-4fee-b9da-caddeacc3660"
      },
      "source": [
        "cat_features = X.select_dtypes(include=['object']).columns\n",
        "cat_features"
      ],
      "execution_count": null,
      "outputs": [
        {
          "output_type": "execute_result",
          "data": {
            "text/plain": [
              "Index(['gender', 'Partner', 'Dependents', 'PhoneService', 'MultipleLines',\n",
              "       'InternetService', 'OnlineSecurity', 'OnlineBackup', 'DeviceProtection',\n",
              "       'TechSupport', 'StreamingTV', 'StreamingMovies', 'Contract',\n",
              "       'PaperlessBilling', 'PaymentMethod'],\n",
              "      dtype='object')"
            ]
          },
          "metadata": {
            "tags": []
          },
          "execution_count": 11
        }
      ]
    },
    {
      "cell_type": "code",
      "metadata": {
        "id": "MYesucCKbmFL",
        "colab_type": "code",
        "colab": {
          "base_uri": "https://localhost:8080/",
          "height": 34
        },
        "outputId": "390942d8-6e53-4e03-ec64-4cece6cb2caf"
      },
      "source": [
        "num_features = X.select_dtypes(include=['float64', 'int64']).columns\n",
        "num_features"
      ],
      "execution_count": null,
      "outputs": [
        {
          "output_type": "execute_result",
          "data": {
            "text/plain": [
              "Index(['SeniorCitizen', 'tenure', 'MonthlyCharges', 'TotalCharges'], dtype='object')"
            ]
          },
          "metadata": {
            "tags": []
          },
          "execution_count": 12
        }
      ]
    },
    {
      "cell_type": "code",
      "metadata": {
        "id": "YaFSv1XCPK4j",
        "colab_type": "code",
        "colab": {}
      },
      "source": [
        "column_trans = make_column_transformer((OneHotEncoder(), cat_features), (StandardScaler(), num_features), remainder='passthrough')\n",
        "logreg = LogisticRegression(max_iter=5000)"
      ],
      "execution_count": null,
      "outputs": []
    },
    {
      "cell_type": "code",
      "metadata": {
        "id": "ywYwp-eafsbN",
        "colab_type": "code",
        "colab": {
          "base_uri": "https://localhost:8080/",
          "height": 34
        },
        "outputId": "4eb5c8c1-893c-4c88-fb67-b5543d5279ec"
      },
      "source": [
        "logreg_pipeline = make_pipeline(column_trans, logreg)\n",
        "logreg_cvs = cross_val_score(logreg_pipeline, Xtrain, ytrain, scoring='accuracy')\n",
        "logreg_cvs"
      ],
      "execution_count": null,
      "outputs": [
        {
          "output_type": "execute_result",
          "data": {
            "text/plain": [
              "0.7996959304492417"
            ]
          },
          "metadata": {
            "tags": []
          },
          "execution_count": 14
        }
      ]
    },
    {
      "cell_type": "code",
      "metadata": {
        "id": "BXKDzfC-eF70",
        "colab_type": "code",
        "colab": {
          "base_uri": "https://localhost:8080/",
          "height": 408
        },
        "outputId": "ad2e6827-7c59-47c3-e0bb-94a369c96558"
      },
      "source": [
        "logreg_pipeline.fit(Xtrain, ytrain)"
      ],
      "execution_count": null,
      "outputs": [
        {
          "output_type": "execute_result",
          "data": {
            "text/plain": [
              "Pipeline(memory=None,\n",
              "         steps=[('columntransformer',\n",
              "                 ColumnTransformer(n_jobs=None, remainder='passthrough',\n",
              "                                   sparse_threshold=0.3,\n",
              "                                   transformer_weights=None,\n",
              "                                   transformers=[('onehotencoder',\n",
              "                                                  OneHotEncoder(categories='auto',\n",
              "                                                                drop=None,\n",
              "                                                                dtype=<class 'numpy.float64'>,\n",
              "                                                                handle_unknown='error',\n",
              "                                                                sparse=True),\n",
              "                                                  Index(['gender', 'Partner', 'Dependents', 'PhoneService', 'Multiple...\n",
              "                                                  Index(['SeniorCitizen', 'tenure', 'MonthlyCharges', 'TotalCharges'], dtype='object'))],\n",
              "                                   verbose=False)),\n",
              "                ('logisticregression',\n",
              "                 LogisticRegression(C=1.0, class_weight=None, dual=False,\n",
              "                                    fit_intercept=True, intercept_scaling=1,\n",
              "                                    l1_ratio=None, max_iter=5000,\n",
              "                                    multi_class='auto', n_jobs=None,\n",
              "                                    penalty='l2', random_state=None,\n",
              "                                    solver='lbfgs', tol=0.0001, verbose=0,\n",
              "                                    warm_start=False))],\n",
              "         verbose=False)"
            ]
          },
          "metadata": {
            "tags": []
          },
          "execution_count": 15
        }
      ]
    },
    {
      "cell_type": "code",
      "metadata": {
        "id": "-7iBFM9Nn-oO",
        "colab_type": "code",
        "colab": {}
      },
      "source": [
        "ypred_train = logreg_pipeline.predict(Xtrain)"
      ],
      "execution_count": null,
      "outputs": []
    },
    {
      "cell_type": "code",
      "metadata": {
        "id": "XGGTWEUioLr1",
        "colab_type": "code",
        "colab": {
          "base_uri": "https://localhost:8080/",
          "height": 34
        },
        "outputId": "e6273065-c45a-4d62-84fc-36e79430cd62"
      },
      "source": [
        "ypred_train"
      ],
      "execution_count": null,
      "outputs": [
        {
          "output_type": "execute_result",
          "data": {
            "text/plain": [
              "array(['No', 'No', 'No', ..., 'Yes', 'No', 'No'], dtype=object)"
            ]
          },
          "metadata": {
            "tags": []
          },
          "execution_count": 17
        }
      ]
    },
    {
      "cell_type": "code",
      "metadata": {
        "id": "-mJp0vn2oR4v",
        "colab_type": "code",
        "colab": {
          "base_uri": "https://localhost:8080/",
          "height": 170
        },
        "outputId": "859e795c-6b1d-4424-e50d-bcb5e07b8a31"
      },
      "source": [
        "#target_names = ['No', 'Yes']\n",
        "class_report_train = classification_report(ytrain, ypred_train)\n",
        "print(class_report_train)"
      ],
      "execution_count": null,
      "outputs": [
        {
          "output_type": "stream",
          "text": [
            "              precision    recall  f1-score   support\n",
            "\n",
            "          No       0.85      0.89      0.87      3885\n",
            "         Yes       0.65      0.55      0.59      1397\n",
            "\n",
            "    accuracy                           0.80      5282\n",
            "   macro avg       0.75      0.72      0.73      5282\n",
            "weighted avg       0.79      0.80      0.80      5282\n",
            "\n"
          ],
          "name": "stdout"
        }
      ]
    },
    {
      "cell_type": "code",
      "metadata": {
        "id": "WWATwZbQlCpg",
        "colab_type": "code",
        "colab": {}
      },
      "source": [
        "ypred = logreg_pipeline.predict(Xtest)"
      ],
      "execution_count": null,
      "outputs": []
    },
    {
      "cell_type": "code",
      "metadata": {
        "id": "_TM0CAb1mYR9",
        "colab_type": "code",
        "colab": {
          "base_uri": "https://localhost:8080/",
          "height": 34
        },
        "outputId": "13b6a2ce-0ef5-4c3a-fcbe-f95ebd4fa15f"
      },
      "source": [
        "ypred"
      ],
      "execution_count": null,
      "outputs": [
        {
          "output_type": "execute_result",
          "data": {
            "text/plain": [
              "array(['Yes', 'No', 'No', ..., 'No', 'No', 'Yes'], dtype=object)"
            ]
          },
          "metadata": {
            "tags": []
          },
          "execution_count": 20
        }
      ]
    },
    {
      "cell_type": "code",
      "metadata": {
        "id": "0uhTF_ERrRiw",
        "colab_type": "code",
        "colab": {
          "base_uri": "https://localhost:8080/",
          "height": 170
        },
        "outputId": "5938ba36-1535-4d1c-84d8-3eb03f10ab92"
      },
      "source": [
        "class_report = classification_report(ytest, ypred)\n",
        "print(class_report)"
      ],
      "execution_count": null,
      "outputs": [
        {
          "output_type": "stream",
          "text": [
            "              precision    recall  f1-score   support\n",
            "\n",
            "          No       0.85      0.91      0.88      1289\n",
            "         Yes       0.70      0.55      0.62       472\n",
            "\n",
            "    accuracy                           0.82      1761\n",
            "   macro avg       0.77      0.73      0.75      1761\n",
            "weighted avg       0.81      0.82      0.81      1761\n",
            "\n"
          ],
          "name": "stdout"
        }
      ]
    },
    {
      "cell_type": "markdown",
      "metadata": {
        "id": "WAIjSmdidjQT",
        "colab_type": "text"
      },
      "source": [
        "###We see two major things here. <br> 1)That the accuracy for the test case is higher than the accuracy for the training case. This tells us that there has not been overfitting, but instead there might be an issue with our base model. I will go back and look at the percentages for our target variable and see if there is an issue there. <br> 2)The recall for Yes is very low. To answere our business question of trying to help determine which customers are prone to Churning, this model has not done that very well. I will see how our adjustments to fix the imbalanced data will change this result before deciding on further action."
      ]
    },
    {
      "cell_type": "code",
      "metadata": {
        "id": "yaP72vmFmig4",
        "colab_type": "code",
        "colab": {
          "base_uri": "https://localhost:8080/",
          "height": 51
        },
        "outputId": "53b6f8ff-36fa-4a7e-bcdd-d6438091c51f"
      },
      "source": [
        "cnf_matrix_strandard_logreg = metrics.confusion_matrix(ytest, ypred)\n",
        "cnf_matrix_strandard_logreg"
      ],
      "execution_count": null,
      "outputs": [
        {
          "output_type": "execute_result",
          "data": {
            "text/plain": [
              "array([[1177,  112],\n",
              "       [ 212,  260]])"
            ]
          },
          "metadata": {
            "tags": []
          },
          "execution_count": 22
        }
      ]
    },
    {
      "cell_type": "code",
      "metadata": {
        "id": "26SjTS8rnKgd",
        "colab_type": "code",
        "colab": {
          "base_uri": "https://localhost:8080/",
          "height": 315
        },
        "outputId": "923faca8-0438-4733-926a-84e41e272791"
      },
      "source": [
        "class_names = ['No', 'Yes']\n",
        "fig, ax = plt.subplots()\n",
        "tick_marks = np.arange(len(class_names))\n",
        "plt.xticks(tick_marks, class_names)\n",
        "plt.yticks(tick_marks, class_names)\n",
        "sns.heatmap(pd.DataFrame(cnf_matrix_strandard_logreg), annot=True,\n",
        "            cmap='YlGnBu', fmt='g')\n",
        "ax.xaxis.set_label_position('top')\n",
        "plt.title('Confusion Matrix for Initial LogReg', y=1)\n",
        "plt.ylabel('Actual label')\n",
        "plt.xlabel('Predicted label')"
      ],
      "execution_count": null,
      "outputs": [
        {
          "output_type": "execute_result",
          "data": {
            "text/plain": [
              "Text(0.5, 12.5, 'Predicted label')"
            ]
          },
          "metadata": {
            "tags": []
          },
          "execution_count": 23
        },
        {
          "output_type": "display_data",
          "data": {
            "image/png": "[encoded data removed]",
            "text/plain": [
              "<Figure size 432x288 with 2 Axes>"
            ]
          },
          "metadata": {
            "tags": [],
            "needs_background": "light"
          }
        }
      ]
    },
    {
      "cell_type": "code",
      "metadata": {
        "id": "68sFZyl7pC2y",
        "colab_type": "code",
        "colab": {
          "base_uri": "https://localhost:8080/",
          "height": 68
        },
        "outputId": "d83ad5d0-2fb3-4f79-b8b4-da6ab2772f0e"
      },
      "source": [
        "print('Accuracy:', metrics.accuracy_score(ytest, ypred))\n",
        "print('Precision:', metrics.precision_score(ytest, ypred, pos_label='Yes'))\n",
        "print('Recall:', metrics.recall_score(ytest, ypred, pos_label='Yes'))"
      ],
      "execution_count": null,
      "outputs": [
        {
          "output_type": "stream",
          "text": [
            "Accuracy: 0.8160136286201022\n",
            "Precision: 0.6989247311827957\n",
            "Recall: 0.5508474576271186\n"
          ],
          "name": "stdout"
        }
      ]
    },
    {
      "cell_type": "code",
      "metadata": {
        "id": "AHIIH4DSr39w",
        "colab_type": "code",
        "colab": {
          "base_uri": "https://localhost:8080/",
          "height": 268
        },
        "outputId": "beba0459-1d81-48b2-cf65-ce92ccdbf5e3"
      },
      "source": [
        "ypred_prob = logreg_pipeline.predict_proba(Xtest)[::,1]\n",
        "fpr, tpr, _ = metrics.roc_curve(ytest, ypred_prob, pos_label='Yes')\n",
        "auc = metrics.roc_auc_score(ytest, ypred_prob)\n",
        "plt.plot(fpr, tpr, label='Standard LogReg, auc='+ str(auc))\n",
        "plt.legend(loc='best')\n",
        "plt.show()"
      ],
      "execution_count": null,
      "outputs": [
        {
          "output_type": "display_data",
          "data": {
            "image/png": "[encoded data removed]",
            "text/plain": [
              "<Figure size 432x288 with 1 Axes>"
            ]
          },
          "metadata": {
            "tags": [],
            "needs_background": "light"
          }
        }
      ]
    }
  ]
}
