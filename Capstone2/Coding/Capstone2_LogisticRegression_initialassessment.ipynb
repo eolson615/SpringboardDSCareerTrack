{
  "nbformat": 4,
  "nbformat_minor": 0,
  "metadata": {
    "colab": {
      "name": "Capstone2_LogisticRegression_initialassessment.ipynb",
      "provenance": [],
      "collapsed_sections": [],
      "mount_file_id": "13dgI4izI8mcf9WNWOvesH38bVmSO9X1R",
      "authorship_tag": "ABX9TyPd2jO8SUNRIztGGQz2mcE7",
      "include_colab_link": true
    },
    "kernelspec": {
      "name": "python3",
      "display_name": "Python 3"
    }
  },
  "cells": [
    {
      "cell_type": "markdown",
      "metadata": {
        "id": "view-in-github",
        "colab_type": "text"
      },
      "source": [
        "<a href=\"https://colab.research.google.com/github/eolson615/SpringboardDSCareerTrack/blob/master/Capstone2_LogisticRegression_initialassessment.ipynb\" target=\"_parent\"><img src=\"https://colab.research.google.com/assets/colab-badge.svg\" alt=\"Open In Colab\"/></a>"
      ]
    },
    {
      "cell_type": "markdown",
      "metadata": {
        "id": "grnxQMHW9RwM",
        "colab_type": "text"
      },
      "source": [
        "#This notebook contains the preprocessing, pipeline creation, model training, and model testing along with subsequent analysis using a logistic regression model on the Telco Customer Churn dataset. I have already done the data cleaning and EDA in previous notebooks (Capstone2_cleaningdata & Capstone2_EDA)."
      ]
    },
    {
      "cell_type": "code",
      "metadata": {
        "id": "SPFI83WO9H3K",
        "colab_type": "code",
        "colab": {
          "base_uri": "https://localhost:8080/",
          "height": 70
        },
        "outputId": "45ead2af-d45d-4130-f033-7003dd52c1e6"
      },
      "source": [
        "import pandas as pd\n",
        "import numpy as np\n",
        "import matplotlib.pyplot as plt\n",
        "import seaborn as sns\n",
        "sns.set()\n",
        "from sklearn.model_selection import train_test_split\n",
        "from sklearn.compose import make_column_transformer\n",
        "from sklearn.preprocessing import OneHotEncoder\n",
        "from sklearn.preprocessing import StandardScaler\n",
        "from sklearn.linear_model import LogisticRegression\n",
        "from sklearn.pipeline import make_pipeline\n",
        "from sklearn import metrics\n",
        "from sklearn.metrics import classification_report"
      ],
      "execution_count": 1,
      "outputs": [
        {
          "output_type": "stream",
          "text": [
            "/usr/local/lib/python3.6/dist-packages/statsmodels/tools/_testing.py:19: FutureWarning: pandas.util.testing is deprecated. Use the functions in the public API at pandas.testing instead.\n",
            "  import pandas.util.testing as tm\n"
          ],
          "name": "stderr"
        }
      ]
    },
    {
      "cell_type": "code",
      "metadata": {
        "id": "HcLOo5Ch_Z4i",
        "colab_type": "code",
        "colab": {
          "base_uri": "https://localhost:8080/",
          "height": 282
        },
        "outputId": "87e0dd65-eda0-4838-a6fd-f94119c34c11"
      },
      "source": [
        "df_url = 'https://raw.githubusercontent.com/eolson615/SpringboardDSCareerTrack/master/Capstone2/Data/telcodata_posteda.csv'\n",
        "df = pd.read_csv(df_url, index_col=[0])\n",
        "df.head()"
      ],
      "execution_count": 2,
      "outputs": [
        {
          "output_type": "execute_result",
          "data": {
            "text/html": [
              "<div>\n",
              "<style scoped>\n",
              "    .dataframe tbody tr th:only-of-type {\n",
              "        vertical-align: middle;\n",
              "    }\n",
              "\n",
              "    .dataframe tbody tr th {\n",
              "        vertical-align: top;\n",
              "    }\n",
              "\n",
              "    .dataframe thead th {\n",
              "        text-align: right;\n",
              "    }\n",
              "</style>\n",
              "<table border=\"1\" class=\"dataframe\">\n",
              "  <thead>\n",
              "    <tr style=\"text-align: right;\">\n",
              "      <th></th>\n",
              "      <th>gender</th>\n",
              "      <th>SeniorCitizen</th>\n",
              "      <th>Partner</th>\n",
              "      <th>Dependents</th>\n",
              "      <th>tenure</th>\n",
              "      <th>PhoneService</th>\n",
              "      <th>MultipleLines</th>\n",
              "      <th>InternetService</th>\n",
              "      <th>OnlineSecurity</th>\n",
              "      <th>OnlineBackup</th>\n",
              "      <th>DeviceProtection</th>\n",
              "      <th>TechSupport</th>\n",
              "      <th>StreamingTV</th>\n",
              "      <th>StreamingMovies</th>\n",
              "      <th>Contract</th>\n",
              "      <th>PaperlessBilling</th>\n",
              "      <th>PaymentMethod</th>\n",
              "      <th>MonthlyCharges</th>\n",
              "      <th>TotalCharges</th>\n",
              "      <th>Churn</th>\n",
              "    </tr>\n",
              "  </thead>\n",
              "  <tbody>\n",
              "    <tr>\n",
              "      <th>0</th>\n",
              "      <td>Female</td>\n",
              "      <td>0</td>\n",
              "      <td>Yes</td>\n",
              "      <td>No</td>\n",
              "      <td>1</td>\n",
              "      <td>No</td>\n",
              "      <td>No phone service</td>\n",
              "      <td>DSL</td>\n",
              "      <td>No</td>\n",
              "      <td>Yes</td>\n",
              "      <td>No</td>\n",
              "      <td>No</td>\n",
              "      <td>No</td>\n",
              "      <td>No</td>\n",
              "      <td>Month-to-month</td>\n",
              "      <td>Yes</td>\n",
              "      <td>Electronic check</td>\n",
              "      <td>29.85</td>\n",
              "      <td>29.85</td>\n",
              "      <td>No</td>\n",
              "    </tr>\n",
              "    <tr>\n",
              "      <th>1</th>\n",
              "      <td>Male</td>\n",
              "      <td>0</td>\n",
              "      <td>No</td>\n",
              "      <td>No</td>\n",
              "      <td>34</td>\n",
              "      <td>Yes</td>\n",
              "      <td>No</td>\n",
              "      <td>DSL</td>\n",
              "      <td>Yes</td>\n",
              "      <td>No</td>\n",
              "      <td>Yes</td>\n",
              "      <td>No</td>\n",
              "      <td>No</td>\n",
              "      <td>No</td>\n",
              "      <td>One year</td>\n",
              "      <td>No</td>\n",
              "      <td>Mailed check</td>\n",
              "      <td>56.95</td>\n",
              "      <td>1889.50</td>\n",
              "      <td>No</td>\n",
              "    </tr>\n",
              "    <tr>\n",
              "      <th>2</th>\n",
              "      <td>Male</td>\n",
              "      <td>0</td>\n",
              "      <td>No</td>\n",
              "      <td>No</td>\n",
              "      <td>2</td>\n",
              "      <td>Yes</td>\n",
              "      <td>No</td>\n",
              "      <td>DSL</td>\n",
              "      <td>Yes</td>\n",
              "      <td>Yes</td>\n",
              "      <td>No</td>\n",
              "      <td>No</td>\n",
              "      <td>No</td>\n",
              "      <td>No</td>\n",
              "      <td>Month-to-month</td>\n",
              "      <td>Yes</td>\n",
              "      <td>Mailed check</td>\n",
              "      <td>53.85</td>\n",
              "      <td>108.15</td>\n",
              "      <td>Yes</td>\n",
              "    </tr>\n",
              "    <tr>\n",
              "      <th>3</th>\n",
              "      <td>Male</td>\n",
              "      <td>0</td>\n",
              "      <td>No</td>\n",
              "      <td>No</td>\n",
              "      <td>45</td>\n",
              "      <td>No</td>\n",
              "      <td>No phone service</td>\n",
              "      <td>DSL</td>\n",
              "      <td>Yes</td>\n",
              "      <td>No</td>\n",
              "      <td>Yes</td>\n",
              "      <td>Yes</td>\n",
              "      <td>No</td>\n",
              "      <td>No</td>\n",
              "      <td>One year</td>\n",
              "      <td>No</td>\n",
              "      <td>Bank transfer (automatic)</td>\n",
              "      <td>42.30</td>\n",
              "      <td>1840.75</td>\n",
              "      <td>No</td>\n",
              "    </tr>\n",
              "    <tr>\n",
              "      <th>4</th>\n",
              "      <td>Female</td>\n",
              "      <td>0</td>\n",
              "      <td>No</td>\n",
              "      <td>No</td>\n",
              "      <td>2</td>\n",
              "      <td>Yes</td>\n",
              "      <td>No</td>\n",
              "      <td>Fiber optic</td>\n",
              "      <td>No</td>\n",
              "      <td>No</td>\n",
              "      <td>No</td>\n",
              "      <td>No</td>\n",
              "      <td>No</td>\n",
              "      <td>No</td>\n",
              "      <td>Month-to-month</td>\n",
              "      <td>Yes</td>\n",
              "      <td>Electronic check</td>\n",
              "      <td>70.70</td>\n",
              "      <td>151.65</td>\n",
              "      <td>Yes</td>\n",
              "    </tr>\n",
              "  </tbody>\n",
              "</table>\n",
              "</div>"
            ],
            "text/plain": [
              "   gender  SeniorCitizen Partner  ... MonthlyCharges  TotalCharges Churn\n",
              "0  Female              0     Yes  ...          29.85         29.85    No\n",
              "1    Male              0      No  ...          56.95       1889.50    No\n",
              "2    Male              0      No  ...          53.85        108.15   Yes\n",
              "3    Male              0      No  ...          42.30       1840.75    No\n",
              "4  Female              0      No  ...          70.70        151.65   Yes\n",
              "\n",
              "[5 rows x 20 columns]"
            ]
          },
          "metadata": {
            "tags": []
          },
          "execution_count": 2
        }
      ]
    },
    {
      "cell_type": "code",
      "metadata": {
        "id": "lWcHLJGiOG1r",
        "colab_type": "code",
        "colab": {
          "base_uri": "https://localhost:8080/",
          "height": 34
        },
        "outputId": "ec15c004-2428-41fa-ee15-1f1d44627300"
      },
      "source": [
        "df.shape"
      ],
      "execution_count": 3,
      "outputs": [
        {
          "output_type": "execute_result",
          "data": {
            "text/plain": [
              "(7043, 20)"
            ]
          },
          "metadata": {
            "tags": []
          },
          "execution_count": 3
        }
      ]
    },
    {
      "cell_type": "markdown",
      "metadata": {
        "id": "6ffBsFS1OgBb",
        "colab_type": "text"
      },
      "source": [
        "###I check out the shape and types of my X and y datasets to make sure they are compatible and there are no unexpected idiosyncrasies. I then create my train test split and check to make sure they came out how I would expect in terms of type and shape."
      ]
    },
    {
      "cell_type": "code",
      "metadata": {
        "id": "qU3ILhXyNQAH",
        "colab_type": "code",
        "colab": {
          "base_uri": "https://localhost:8080/",
          "height": 151
        },
        "outputId": "2f8fdc60-ee09-4570-af03-c35c24411af6"
      },
      "source": [
        "Xcheck = df.drop(columns='Churn').values\n",
        "Xcheck"
      ],
      "execution_count": 4,
      "outputs": [
        {
          "output_type": "execute_result",
          "data": {
            "text/plain": [
              "array([['Female', 0, 'Yes', ..., 'Electronic check', 29.85, 29.85],\n",
              "       ['Male', 0, 'No', ..., 'Mailed check', 56.95, 1889.5],\n",
              "       ['Male', 0, 'No', ..., 'Mailed check', 53.85, 108.15],\n",
              "       ...,\n",
              "       ['Female', 0, 'Yes', ..., 'Electronic check', 29.6, 346.45],\n",
              "       ['Male', 1, 'Yes', ..., 'Mailed check', 74.4, 306.6],\n",
              "       ['Male', 0, 'No', ..., 'Bank transfer (automatic)', 105.65,\n",
              "        6844.5]], dtype=object)"
            ]
          },
          "metadata": {
            "tags": []
          },
          "execution_count": 4
        }
      ]
    },
    {
      "cell_type": "code",
      "metadata": {
        "id": "uaZh0DHJNweY",
        "colab_type": "code",
        "colab": {
          "base_uri": "https://localhost:8080/",
          "height": 34
        },
        "outputId": "fc8e941e-44dc-4cc2-b997-0a4a496f656a"
      },
      "source": [
        "type(Xcheck), Xcheck.shape"
      ],
      "execution_count": 5,
      "outputs": [
        {
          "output_type": "execute_result",
          "data": {
            "text/plain": [
              "(numpy.ndarray, (7043, 19))"
            ]
          },
          "metadata": {
            "tags": []
          },
          "execution_count": 5
        }
      ]
    },
    {
      "cell_type": "code",
      "metadata": {
        "id": "jrBuM0h9LNr9",
        "colab_type": "code",
        "colab": {
          "base_uri": "https://localhost:8080/",
          "height": 34
        },
        "outputId": "11bd9f59-d16d-44e8-cb17-a41a69d13544"
      },
      "source": [
        "ycheck = (df.Churn == 'Yes').values\n",
        "ycheck"
      ],
      "execution_count": 6,
      "outputs": [
        {
          "output_type": "execute_result",
          "data": {
            "text/plain": [
              "array([False, False,  True, ..., False,  True, False])"
            ]
          },
          "metadata": {
            "tags": []
          },
          "execution_count": 6
        }
      ]
    },
    {
      "cell_type": "code",
      "metadata": {
        "id": "vEAUMC0ON5EO",
        "colab_type": "code",
        "colab": {
          "base_uri": "https://localhost:8080/",
          "height": 34
        },
        "outputId": "8a07da18-c098-46a6-fe1b-b63293598e7b"
      },
      "source": [
        "type(ycheck), ycheck.shape"
      ],
      "execution_count": 7,
      "outputs": [
        {
          "output_type": "execute_result",
          "data": {
            "text/plain": [
              "(numpy.ndarray, (7043,))"
            ]
          },
          "metadata": {
            "tags": []
          },
          "execution_count": 7
        }
      ]
    },
    {
      "cell_type": "code",
      "metadata": {
        "id": "Wh0DXvUyW22j",
        "colab_type": "code",
        "colab": {}
      },
      "source": [
        "X = df.drop(columns='Churn')\n",
        "y = df.Churn\n",
        "Xtrain, Xtest, ytrain, ytest = train_test_split(X, y, random_state=56)"
      ],
      "execution_count": 8,
      "outputs": []
    },
    {
      "cell_type": "code",
      "metadata": {
        "id": "gSfETkqqY3GD",
        "colab_type": "code",
        "colab": {
          "base_uri": "https://localhost:8080/",
          "height": 1000
        },
        "outputId": "fde7ee5e-071e-4d66-d267-ba72473ade9f"
      },
      "source": [
        "print('Xtrain', type(Xtrain), Xtrain.shape, Xtrain)\n",
        "print('\\n')\n",
        "print(\"Xtrest\", type(Xtest), Xtest.shape, Xtest)\n",
        "print('\\n')\n",
        "print('ytrain', type(ytrain), ytrain.shape, ytrain)\n",
        "print('\\n')\n",
        "print(\"ytrest\", type(ytest), ytest.shape, ytest)"
      ],
      "execution_count": 9,
      "outputs": [
        {
          "output_type": "stream",
          "text": [
            "Xtrain <class 'pandas.core.frame.DataFrame'> (5282, 19)       gender  SeniorCitizen  ... MonthlyCharges TotalCharges\n",
            "2500    Male              0  ...          75.50      4025.60\n",
            "2456    Male              0  ...          24.55      1160.45\n",
            "1705  Female              1  ...          90.45      5044.80\n",
            "3011  Female              0  ...          19.75       210.65\n",
            "5444    Male              0  ...         107.75      4882.80\n",
            "...      ...            ...  ...            ...          ...\n",
            "1259  Female              1  ...          95.25      4424.20\n",
            "5538  Female              0  ...          81.10        81.10\n",
            "3264  Female              0  ...          91.10       964.35\n",
            "399   Female              0  ...          20.05       415.10\n",
            "2532  Female              1  ...         101.10      4016.20\n",
            "\n",
            "[5282 rows x 19 columns]\n",
            "\n",
            "\n",
            "Xtrest <class 'pandas.core.frame.DataFrame'> (1761, 19)       gender  SeniorCitizen  ... MonthlyCharges TotalCharges\n",
            "6046  Female              0  ...          85.30       781.40\n",
            "6494  Female              0  ...          29.80       786.50\n",
            "2702    Male              0  ...          44.00        44.00\n",
            "1532    Male              0  ...          19.60       300.40\n",
            "3999  Female              1  ...          69.60       131.65\n",
            "...      ...            ...  ...            ...          ...\n",
            "3724    Male              0  ...          24.80      1476.25\n",
            "5540  Female              0  ...          20.55        20.55\n",
            "6546    Male              0  ...          51.15      1275.70\n",
            "5582  Female              0  ...          24.00      1183.05\n",
            "1621  Female              0  ...          86.45      3029.10\n",
            "\n",
            "[1761 rows x 19 columns]\n",
            "\n",
            "\n",
            "ytrain <class 'pandas.core.series.Series'> (5282,) 2500     No\n",
            "2456     No\n",
            "1705     No\n",
            "3011     No\n",
            "5444     No\n",
            "       ... \n",
            "1259    Yes\n",
            "5538    Yes\n",
            "3264     No\n",
            "399      No\n",
            "2532     No\n",
            "Name: Churn, Length: 5282, dtype: object\n",
            "\n",
            "\n",
            "ytrest <class 'pandas.core.series.Series'> (1761,) 6046     No\n",
            "6494     No\n",
            "2702     No\n",
            "1532     No\n",
            "3999    Yes\n",
            "       ... \n",
            "3724     No\n",
            "5540    Yes\n",
            "6546     No\n",
            "5582     No\n",
            "1621    Yes\n",
            "Name: Churn, Length: 1761, dtype: object\n"
          ],
          "name": "stdout"
        }
      ]
    },
    {
      "cell_type": "markdown",
      "metadata": {
        "id": "jSYSq9nAPLyb",
        "colab_type": "text"
      },
      "source": [
        "###I create a column transformer pipeline to OneHotEncode the categorical features and StandardScaler the numerical features. Then I pass it into a base SciKit Learn LogisticRegression model. This gives me a baseline score to help determine the next steps in this data process. "
      ]
    },
    {
      "cell_type": "code",
      "metadata": {
        "id": "ePWQ_cKYaFsT",
        "colab_type": "code",
        "colab": {
          "base_uri": "https://localhost:8080/",
          "height": 101
        },
        "outputId": "0c009873-4b09-46f5-fb3d-c840e46a079f"
      },
      "source": [
        "cat_features = X.select_dtypes(include=['object']).columns\n",
        "cat_features"
      ],
      "execution_count": 10,
      "outputs": [
        {
          "output_type": "execute_result",
          "data": {
            "text/plain": [
              "Index(['gender', 'Partner', 'Dependents', 'PhoneService', 'MultipleLines',\n",
              "       'InternetService', 'OnlineSecurity', 'OnlineBackup', 'DeviceProtection',\n",
              "       'TechSupport', 'StreamingTV', 'StreamingMovies', 'Contract',\n",
              "       'PaperlessBilling', 'PaymentMethod'],\n",
              "      dtype='object')"
            ]
          },
          "metadata": {
            "tags": []
          },
          "execution_count": 10
        }
      ]
    },
    {
      "cell_type": "code",
      "metadata": {
        "id": "MYesucCKbmFL",
        "colab_type": "code",
        "colab": {
          "base_uri": "https://localhost:8080/",
          "height": 34
        },
        "outputId": "cbdde4bd-3fae-410f-e3cc-1f5f2d3b128f"
      },
      "source": [
        "num_features = X.select_dtypes(include=['float64', 'int64']).columns\n",
        "num_features"
      ],
      "execution_count": 11,
      "outputs": [
        {
          "output_type": "execute_result",
          "data": {
            "text/plain": [
              "Index(['SeniorCitizen', 'tenure', 'MonthlyCharges', 'TotalCharges'], dtype='object')"
            ]
          },
          "metadata": {
            "tags": []
          },
          "execution_count": 11
        }
      ]
    },
    {
      "cell_type": "code",
      "metadata": {
        "id": "YaFSv1XCPK4j",
        "colab_type": "code",
        "colab": {
          "base_uri": "https://localhost:8080/",
          "height": 423
        },
        "outputId": "794a7ed2-0f9d-4912-e865-fa2fde839e69"
      },
      "source": [
        "column_trans = make_column_transformer((OneHotEncoder(), cat_features), (StandardScaler(), num_features), remainder='passthrough')\n",
        "logreg = LogisticRegression(max_iter=5000)\n",
        "logreg_pipeline = make_pipeline(column_trans, logreg)\n",
        "logreg_pipeline.fit(Xtrain, ytrain)"
      ],
      "execution_count": 12,
      "outputs": [
        {
          "output_type": "execute_result",
          "data": {
            "text/plain": [
              "Pipeline(memory=None,\n",
              "         steps=[('columntransformer',\n",
              "                 ColumnTransformer(n_jobs=None, remainder='passthrough',\n",
              "                                   sparse_threshold=0.3,\n",
              "                                   transformer_weights=None,\n",
              "                                   transformers=[('onehotencoder',\n",
              "                                                  OneHotEncoder(categories='auto',\n",
              "                                                                drop=None,\n",
              "                                                                dtype=<class 'numpy.float64'>,\n",
              "                                                                handle_unknown='error',\n",
              "                                                                sparse=True),\n",
              "                                                  Index(['gender', 'Partner', 'Dependents', 'PhoneService', 'Multiple...\n",
              "                                                  Index(['SeniorCitizen', 'tenure', 'MonthlyCharges', 'TotalCharges'], dtype='object'))],\n",
              "                                   verbose=False)),\n",
              "                ('logisticregression',\n",
              "                 LogisticRegression(C=1.0, class_weight=None, dual=False,\n",
              "                                    fit_intercept=True, intercept_scaling=1,\n",
              "                                    l1_ratio=None, max_iter=5000,\n",
              "                                    multi_class='auto', n_jobs=None,\n",
              "                                    penalty='l2', random_state=None,\n",
              "                                    solver='lbfgs', tol=0.0001, verbose=0,\n",
              "                                    warm_start=False))],\n",
              "         verbose=False)"
            ]
          },
          "metadata": {
            "tags": []
          },
          "execution_count": 12
        }
      ]
    },
    {
      "cell_type": "markdown",
      "metadata": {
        "id": "h6hQpep1jmA8",
        "colab_type": "text"
      },
      "source": [
        "##I run both the train data and the test data through the model. The results are compared by using a classification report (below).\n",
        "\n",
        "##The first thing I see is that the accuracy for both is above the 75%, which the minimum benchmark for accuracy based on our EDA (see Capstone2_EDA notebook for more details) which told me if the model would just predict \"No\" for every prediction it would achieve a 75% accuracy rating.\n",
        "\n",
        "##The next thing that I notice is that the training data predicted score accuracy is lower than the testing data predicted accuracy. This indicates that the model is not overfitting. It is also a very good indication that we are dealing with imbalanced data and addressing that issue will generate better results for our purposes than trying to tune the hyperparameters our models.\n",
        "\n",
        "##Another very important issue to note is that the 'Yes' recall score for both is very low (0.55). This means the model is miss identifying almost half of all the customers who will churn. This is important because, for our business case, we want to identify as many of these customers as possible. I will address this in other notebooks (Capstone2_LogisticRegression_imbalanceddata & Capstone2_RandomForest) when I adjust the data for imbalanced data before applying it to the models."
      ]
    },
    {
      "cell_type": "code",
      "metadata": {
        "id": "-7iBFM9Nn-oO",
        "colab_type": "code",
        "colab": {
          "base_uri": "https://localhost:8080/",
          "height": 353
        },
        "outputId": "3c7444f0-e621-48f0-c895-c9557060bc17"
      },
      "source": [
        "ypred_train = logreg_pipeline.predict(Xtrain)\n",
        "class_report_train = classification_report(ytrain, ypred_train)\n",
        "print('Classification Report for the Training Data')\n",
        "print(class_report_train)\n",
        "\n",
        "ypred = logreg_pipeline.predict(Xtest)\n",
        "class_report = classification_report(ytest, ypred)\n",
        "print('Classification Report for the Test Data')\n",
        "print(class_report)"
      ],
      "execution_count": 13,
      "outputs": [
        {
          "output_type": "stream",
          "text": [
            "Classification Report for the Training Data\n",
            "              precision    recall  f1-score   support\n",
            "\n",
            "          No       0.85      0.89      0.87      3885\n",
            "         Yes       0.65      0.55      0.59      1397\n",
            "\n",
            "    accuracy                           0.80      5282\n",
            "   macro avg       0.75      0.72      0.73      5282\n",
            "weighted avg       0.79      0.80      0.80      5282\n",
            "\n",
            "Classification Report for the Test Data\n",
            "              precision    recall  f1-score   support\n",
            "\n",
            "          No       0.85      0.91      0.88      1289\n",
            "         Yes       0.70      0.55      0.62       472\n",
            "\n",
            "    accuracy                           0.82      1761\n",
            "   macro avg       0.77      0.73      0.75      1761\n",
            "weighted avg       0.81      0.82      0.81      1761\n",
            "\n"
          ],
          "name": "stdout"
        }
      ]
    },
    {
      "cell_type": "code",
      "metadata": {
        "id": "68sFZyl7pC2y",
        "colab_type": "code",
        "colab": {
          "base_uri": "https://localhost:8080/",
          "height": 67
        },
        "outputId": "3eedda6a-573e-4fb2-e090-2a04efde8668"
      },
      "source": [
        "print('Accuracy:', metrics.accuracy_score(ytest, ypred))\n",
        "print('Precision:', metrics.precision_score(ytest, ypred, pos_label='Yes'))\n",
        "print('Recall:', metrics.recall_score(ytest, ypred, pos_label='Yes'))"
      ],
      "execution_count": 14,
      "outputs": [
        {
          "output_type": "stream",
          "text": [
            "Accuracy: 0.8160136286201022\n",
            "Precision: 0.6989247311827957\n",
            "Recall: 0.5508474576271186\n"
          ],
          "name": "stdout"
        }
      ]
    },
    {
      "cell_type": "markdown",
      "metadata": {
        "id": "DHDbypZBp-tf",
        "colab_type": "text"
      },
      "source": [
        "##Below are two graphical representations of how the model performed. The first a heat map of the confusion matrix for the model on the test data. From it we can see that the model is very good at identifying the No's, which should be expected, but it is not very good at identifying the Yes's.\n",
        "\n",
        "##The second is an ROC curve with the AUC score."
      ]
    },
    {
      "cell_type": "code",
      "metadata": {
        "id": "26SjTS8rnKgd",
        "colab_type": "code",
        "colab": {
          "base_uri": "https://localhost:8080/",
          "height": 315
        },
        "outputId": "25d87e14-3cee-4124-dc2e-0b447b701d38"
      },
      "source": [
        "cnf_matrix_strandard_logreg = metrics.confusion_matrix(ytest, ypred)\n",
        "class_names = ['No', 'Yes']\n",
        "fig, ax = plt.subplots()\n",
        "tick_marks = np.arange(len(class_names))\n",
        "plt.xticks(tick_marks, class_names)\n",
        "plt.yticks(tick_marks, class_names)\n",
        "sns.heatmap(pd.DataFrame(cnf_matrix_strandard_logreg), annot=True,\n",
        "            cmap='YlOrRd', fmt='g')\n",
        "ax.xaxis.set_label_position('top')\n",
        "plt.title('Confusion Matrix for Initial LogReg', y=1)\n",
        "plt.ylabel('Actual label')\n",
        "plt.xlabel('Predicted label')"
      ],
      "execution_count": 15,
      "outputs": [
        {
          "output_type": "execute_result",
          "data": {
            "text/plain": [
              "Text(0.5, 12.5, 'Predicted label')"
            ]
          },
          "metadata": {
            "tags": []
          },
          "execution_count": 15
        },
        {
          "output_type": "display_data",
          "data": {
            "image/png": "[encoded data removed]",
            "text/plain": [
              "<Figure size 432x288 with 2 Axes>"
            ]
          },
          "metadata": {
            "tags": [],
            "needs_background": "light"
          }
        }
      ]
    },
    {
      "cell_type": "code",
      "metadata": {
        "id": "AHIIH4DSr39w",
        "colab_type": "code",
        "colab": {
          "base_uri": "https://localhost:8080/",
          "height": 268
        },
        "outputId": "677a63c8-b933-4447-f106-de56f55d5842"
      },
      "source": [
        "ypred_prob = logreg_pipeline.predict_proba(Xtest)[::,1]\n",
        "fpr, tpr, _ = metrics.roc_curve(ytest, ypred_prob, pos_label='Yes')\n",
        "auc = metrics.roc_auc_score(ytest, ypred_prob)\n",
        "plt.plot(fpr, tpr, label='Standard LogReg, auc='+ str(auc))\n",
        "plt.legend(loc='best')\n",
        "plt.show()"
      ],
      "execution_count": 16,
      "outputs": [
        {
          "output_type": "display_data",
          "data": {
            "image/png": "[encoded data removed]",
            "text/plain": [
              "<Figure size 432x288 with 1 Axes>"
            ]
          },
          "metadata": {
            "tags": [],
            "needs_background": "light"
          }
        }
      ]
    },
    {
      "cell_type": "markdown",
      "metadata": {
        "id": "L65S3aXgwiwj",
        "colab_type": "text"
      },
      "source": [
        "##This model serves as my baseline. I have four more notebooks where I use different models, different techniques for addressing the imbalanced data issue, and test the feature selection recommendations:<br>Capstone2_LogisticRegression_imbalanceddata<br>Capstone2_randomforest<br>Capstone2_LogReg_and_RFC_usingselectedfeatures<br>Capstone2_year1model"
      ]
    }
  ]
}
