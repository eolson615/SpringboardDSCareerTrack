{
  "nbformat": 4,
  "nbformat_minor": 0,
  "metadata": {
    "colab": {
      "name": "Capstone2_year1model.ipynb",
      "provenance": [],
      "collapsed_sections": [],
      "authorship_tag": "ABX9TyNrvTL4TF+uFycTGztRN56l",
      "include_colab_link": true
    },
    "kernelspec": {
      "name": "python3",
      "display_name": "Python 3"
    }
  },
  "cells": [
    {
      "cell_type": "markdown",
      "metadata": {
        "id": "view-in-github",
        "colab_type": "text"
      },
      "source": [
        "<a href=\"https://colab.research.google.com/github/eolson615/SpringboardDSCareerTrack/blob/master/Capstone2_year1model.ipynb\" target=\"_parent\"><img src=\"https://colab.research.google.com/assets/colab-badge.svg\" alt=\"Open In Colab\"/></a>"
      ]
    },
    {
      "cell_type": "markdown",
      "metadata": {
        "id": "aYKzrCmIObah",
        "colab_type": "text"
      },
      "source": [
        "#In this notebook I train and test both a LogisticRegression model and a RandomForesetClassifier model with the data from those customers who have been with Telco for 12 months or less. Chose this sub-group of customers because during the EDA process (see Capstone2_EDA notebook), I noted that a significant number of customer Churn happened within the first year of the customer being with Telco and of the customers who are in this sub-group almost half of them ended up leaving Telco. \n",
        "\n",
        "#I hoped modeling this sub-group of customers would do two things:\n",
        "#1) Because the ratio of 'Yes' and 'No' churn customers was close to 50% (it was actually No=53% and Yes=47%), then this would give a natural solution to the imbalance data issue without having to either oversample or undersample the data.\n",
        "#2) Provide a greater accuracy and Yes recall for this group. This could help Telco identify with greter efficiency customers who might leave earlier.\n"
      ]
    },
    {
      "cell_type": "code",
      "metadata": {
        "id": "Xnl3fPdZao3_",
        "colab_type": "code",
        "colab": {}
      },
      "source": [
        "import warnings  #This was added for aesthetics on GitHub and was not implemented during the composition of this notebook\n",
        "warnings.filterwarnings('ignore')\n",
        "import pandas as pd\n",
        "import numpy as np\n",
        "import matplotlib.pyplot as plt\n",
        "import seaborn as sns\n",
        "sns.set()\n",
        "from sklearn.model_selection import train_test_split\n",
        "from sklearn.compose import make_column_transformer\n",
        "from sklearn.preprocessing import StandardScaler\n",
        "from sklearn.linear_model import LogisticRegression\n",
        "from sklearn.pipeline import make_pipeline\n",
        "from sklearn.metrics import classification_report, confusion_matrix, recall_score, accuracy_score, roc_curve, roc_auc_score\n",
        "from sklearn.ensemble import RandomForestClassifier\n",
        "from sklearn.metrics import roc_curve, roc_auc_score\n",
        "from sklearn.metrics import accuracy_score"
      ],
      "execution_count": 26,
      "outputs": []
    },
    {
      "cell_type": "code",
      "metadata": {
        "id": "od6165E3wOvA",
        "colab_type": "code",
        "colab": {
          "base_uri": "https://localhost:8080/",
          "height": 292
        },
        "outputId": "62bf51af-c2b4-4574-a370-6f7c22b80864"
      },
      "source": [
        "df_url = 'https://raw.githubusercontent.com/eolson615/SpringboardDSCareerTrack/master/Capstone2/Data/telcodata_posteda.csv'\n",
        "df = pd.read_csv(df_url, index_col=[0])\n",
        "df.head()"
      ],
      "execution_count": 27,
      "outputs": [
        {
          "output_type": "execute_result",
          "data": {
            "text/html": [
              "<div>\n",
              "<style scoped>\n",
              "    .dataframe tbody tr th:only-of-type {\n",
              "        vertical-align: middle;\n",
              "    }\n",
              "\n",
              "    .dataframe tbody tr th {\n",
              "        vertical-align: top;\n",
              "    }\n",
              "\n",
              "    .dataframe thead th {\n",
              "        text-align: right;\n",
              "    }\n",
              "</style>\n",
              "<table border=\"1\" class=\"dataframe\">\n",
              "  <thead>\n",
              "    <tr style=\"text-align: right;\">\n",
              "      <th></th>\n",
              "      <th>gender</th>\n",
              "      <th>SeniorCitizen</th>\n",
              "      <th>Partner</th>\n",
              "      <th>Dependents</th>\n",
              "      <th>tenure</th>\n",
              "      <th>PhoneService</th>\n",
              "      <th>MultipleLines</th>\n",
              "      <th>InternetService</th>\n",
              "      <th>OnlineSecurity</th>\n",
              "      <th>OnlineBackup</th>\n",
              "      <th>DeviceProtection</th>\n",
              "      <th>TechSupport</th>\n",
              "      <th>StreamingTV</th>\n",
              "      <th>StreamingMovies</th>\n",
              "      <th>Contract</th>\n",
              "      <th>PaperlessBilling</th>\n",
              "      <th>PaymentMethod</th>\n",
              "      <th>MonthlyCharges</th>\n",
              "      <th>TotalCharges</th>\n",
              "      <th>Churn</th>\n",
              "    </tr>\n",
              "  </thead>\n",
              "  <tbody>\n",
              "    <tr>\n",
              "      <th>0</th>\n",
              "      <td>Female</td>\n",
              "      <td>0</td>\n",
              "      <td>Yes</td>\n",
              "      <td>No</td>\n",
              "      <td>1</td>\n",
              "      <td>No</td>\n",
              "      <td>No phone service</td>\n",
              "      <td>DSL</td>\n",
              "      <td>No</td>\n",
              "      <td>Yes</td>\n",
              "      <td>No</td>\n",
              "      <td>No</td>\n",
              "      <td>No</td>\n",
              "      <td>No</td>\n",
              "      <td>Month-to-month</td>\n",
              "      <td>Yes</td>\n",
              "      <td>Electronic check</td>\n",
              "      <td>29.85</td>\n",
              "      <td>29.85</td>\n",
              "      <td>No</td>\n",
              "    </tr>\n",
              "    <tr>\n",
              "      <th>1</th>\n",
              "      <td>Male</td>\n",
              "      <td>0</td>\n",
              "      <td>No</td>\n",
              "      <td>No</td>\n",
              "      <td>34</td>\n",
              "      <td>Yes</td>\n",
              "      <td>No</td>\n",
              "      <td>DSL</td>\n",
              "      <td>Yes</td>\n",
              "      <td>No</td>\n",
              "      <td>Yes</td>\n",
              "      <td>No</td>\n",
              "      <td>No</td>\n",
              "      <td>No</td>\n",
              "      <td>One year</td>\n",
              "      <td>No</td>\n",
              "      <td>Mailed check</td>\n",
              "      <td>56.95</td>\n",
              "      <td>1889.50</td>\n",
              "      <td>No</td>\n",
              "    </tr>\n",
              "    <tr>\n",
              "      <th>2</th>\n",
              "      <td>Male</td>\n",
              "      <td>0</td>\n",
              "      <td>No</td>\n",
              "      <td>No</td>\n",
              "      <td>2</td>\n",
              "      <td>Yes</td>\n",
              "      <td>No</td>\n",
              "      <td>DSL</td>\n",
              "      <td>Yes</td>\n",
              "      <td>Yes</td>\n",
              "      <td>No</td>\n",
              "      <td>No</td>\n",
              "      <td>No</td>\n",
              "      <td>No</td>\n",
              "      <td>Month-to-month</td>\n",
              "      <td>Yes</td>\n",
              "      <td>Mailed check</td>\n",
              "      <td>53.85</td>\n",
              "      <td>108.15</td>\n",
              "      <td>Yes</td>\n",
              "    </tr>\n",
              "    <tr>\n",
              "      <th>3</th>\n",
              "      <td>Male</td>\n",
              "      <td>0</td>\n",
              "      <td>No</td>\n",
              "      <td>No</td>\n",
              "      <td>45</td>\n",
              "      <td>No</td>\n",
              "      <td>No phone service</td>\n",
              "      <td>DSL</td>\n",
              "      <td>Yes</td>\n",
              "      <td>No</td>\n",
              "      <td>Yes</td>\n",
              "      <td>Yes</td>\n",
              "      <td>No</td>\n",
              "      <td>No</td>\n",
              "      <td>One year</td>\n",
              "      <td>No</td>\n",
              "      <td>Bank transfer (automatic)</td>\n",
              "      <td>42.30</td>\n",
              "      <td>1840.75</td>\n",
              "      <td>No</td>\n",
              "    </tr>\n",
              "    <tr>\n",
              "      <th>4</th>\n",
              "      <td>Female</td>\n",
              "      <td>0</td>\n",
              "      <td>No</td>\n",
              "      <td>No</td>\n",
              "      <td>2</td>\n",
              "      <td>Yes</td>\n",
              "      <td>No</td>\n",
              "      <td>Fiber optic</td>\n",
              "      <td>No</td>\n",
              "      <td>No</td>\n",
              "      <td>No</td>\n",
              "      <td>No</td>\n",
              "      <td>No</td>\n",
              "      <td>No</td>\n",
              "      <td>Month-to-month</td>\n",
              "      <td>Yes</td>\n",
              "      <td>Electronic check</td>\n",
              "      <td>70.70</td>\n",
              "      <td>151.65</td>\n",
              "      <td>Yes</td>\n",
              "    </tr>\n",
              "  </tbody>\n",
              "</table>\n",
              "</div>"
            ],
            "text/plain": [
              "   gender  SeniorCitizen Partner  ... MonthlyCharges  TotalCharges Churn\n",
              "0  Female              0     Yes  ...          29.85         29.85    No\n",
              "1    Male              0      No  ...          56.95       1889.50    No\n",
              "2    Male              0      No  ...          53.85        108.15   Yes\n",
              "3    Male              0      No  ...          42.30       1840.75    No\n",
              "4  Female              0      No  ...          70.70        151.65   Yes\n",
              "\n",
              "[5 rows x 20 columns]"
            ]
          },
          "metadata": {
            "tags": []
          },
          "execution_count": 27
        }
      ]
    },
    {
      "cell_type": "code",
      "metadata": {
        "id": "5wd9M2UVwdk2",
        "colab_type": "code",
        "colab": {
          "base_uri": "https://localhost:8080/",
          "height": 309
        },
        "outputId": "6b5f932b-433d-4586-8ca8-a88e77540f2c"
      },
      "source": [
        "df_1yr = df.loc[df['tenure'] <= 12, :]\n",
        "df_1yr.head()"
      ],
      "execution_count": 28,
      "outputs": [
        {
          "output_type": "execute_result",
          "data": {
            "text/html": [
              "<div>\n",
              "<style scoped>\n",
              "    .dataframe tbody tr th:only-of-type {\n",
              "        vertical-align: middle;\n",
              "    }\n",
              "\n",
              "    .dataframe tbody tr th {\n",
              "        vertical-align: top;\n",
              "    }\n",
              "\n",
              "    .dataframe thead th {\n",
              "        text-align: right;\n",
              "    }\n",
              "</style>\n",
              "<table border=\"1\" class=\"dataframe\">\n",
              "  <thead>\n",
              "    <tr style=\"text-align: right;\">\n",
              "      <th></th>\n",
              "      <th>gender</th>\n",
              "      <th>SeniorCitizen</th>\n",
              "      <th>Partner</th>\n",
              "      <th>Dependents</th>\n",
              "      <th>tenure</th>\n",
              "      <th>PhoneService</th>\n",
              "      <th>MultipleLines</th>\n",
              "      <th>InternetService</th>\n",
              "      <th>OnlineSecurity</th>\n",
              "      <th>OnlineBackup</th>\n",
              "      <th>DeviceProtection</th>\n",
              "      <th>TechSupport</th>\n",
              "      <th>StreamingTV</th>\n",
              "      <th>StreamingMovies</th>\n",
              "      <th>Contract</th>\n",
              "      <th>PaperlessBilling</th>\n",
              "      <th>PaymentMethod</th>\n",
              "      <th>MonthlyCharges</th>\n",
              "      <th>TotalCharges</th>\n",
              "      <th>Churn</th>\n",
              "    </tr>\n",
              "  </thead>\n",
              "  <tbody>\n",
              "    <tr>\n",
              "      <th>0</th>\n",
              "      <td>Female</td>\n",
              "      <td>0</td>\n",
              "      <td>Yes</td>\n",
              "      <td>No</td>\n",
              "      <td>1</td>\n",
              "      <td>No</td>\n",
              "      <td>No phone service</td>\n",
              "      <td>DSL</td>\n",
              "      <td>No</td>\n",
              "      <td>Yes</td>\n",
              "      <td>No</td>\n",
              "      <td>No</td>\n",
              "      <td>No</td>\n",
              "      <td>No</td>\n",
              "      <td>Month-to-month</td>\n",
              "      <td>Yes</td>\n",
              "      <td>Electronic check</td>\n",
              "      <td>29.85</td>\n",
              "      <td>29.85</td>\n",
              "      <td>No</td>\n",
              "    </tr>\n",
              "    <tr>\n",
              "      <th>2</th>\n",
              "      <td>Male</td>\n",
              "      <td>0</td>\n",
              "      <td>No</td>\n",
              "      <td>No</td>\n",
              "      <td>2</td>\n",
              "      <td>Yes</td>\n",
              "      <td>No</td>\n",
              "      <td>DSL</td>\n",
              "      <td>Yes</td>\n",
              "      <td>Yes</td>\n",
              "      <td>No</td>\n",
              "      <td>No</td>\n",
              "      <td>No</td>\n",
              "      <td>No</td>\n",
              "      <td>Month-to-month</td>\n",
              "      <td>Yes</td>\n",
              "      <td>Mailed check</td>\n",
              "      <td>53.85</td>\n",
              "      <td>108.15</td>\n",
              "      <td>Yes</td>\n",
              "    </tr>\n",
              "    <tr>\n",
              "      <th>4</th>\n",
              "      <td>Female</td>\n",
              "      <td>0</td>\n",
              "      <td>No</td>\n",
              "      <td>No</td>\n",
              "      <td>2</td>\n",
              "      <td>Yes</td>\n",
              "      <td>No</td>\n",
              "      <td>Fiber optic</td>\n",
              "      <td>No</td>\n",
              "      <td>No</td>\n",
              "      <td>No</td>\n",
              "      <td>No</td>\n",
              "      <td>No</td>\n",
              "      <td>No</td>\n",
              "      <td>Month-to-month</td>\n",
              "      <td>Yes</td>\n",
              "      <td>Electronic check</td>\n",
              "      <td>70.70</td>\n",
              "      <td>151.65</td>\n",
              "      <td>Yes</td>\n",
              "    </tr>\n",
              "    <tr>\n",
              "      <th>5</th>\n",
              "      <td>Female</td>\n",
              "      <td>0</td>\n",
              "      <td>No</td>\n",
              "      <td>No</td>\n",
              "      <td>8</td>\n",
              "      <td>Yes</td>\n",
              "      <td>Yes</td>\n",
              "      <td>Fiber optic</td>\n",
              "      <td>No</td>\n",
              "      <td>No</td>\n",
              "      <td>Yes</td>\n",
              "      <td>No</td>\n",
              "      <td>Yes</td>\n",
              "      <td>Yes</td>\n",
              "      <td>Month-to-month</td>\n",
              "      <td>Yes</td>\n",
              "      <td>Electronic check</td>\n",
              "      <td>99.65</td>\n",
              "      <td>820.50</td>\n",
              "      <td>Yes</td>\n",
              "    </tr>\n",
              "    <tr>\n",
              "      <th>7</th>\n",
              "      <td>Female</td>\n",
              "      <td>0</td>\n",
              "      <td>No</td>\n",
              "      <td>No</td>\n",
              "      <td>10</td>\n",
              "      <td>No</td>\n",
              "      <td>No phone service</td>\n",
              "      <td>DSL</td>\n",
              "      <td>Yes</td>\n",
              "      <td>No</td>\n",
              "      <td>No</td>\n",
              "      <td>No</td>\n",
              "      <td>No</td>\n",
              "      <td>No</td>\n",
              "      <td>Month-to-month</td>\n",
              "      <td>No</td>\n",
              "      <td>Mailed check</td>\n",
              "      <td>29.75</td>\n",
              "      <td>301.90</td>\n",
              "      <td>No</td>\n",
              "    </tr>\n",
              "  </tbody>\n",
              "</table>\n",
              "</div>"
            ],
            "text/plain": [
              "   gender  SeniorCitizen Partner  ... MonthlyCharges  TotalCharges Churn\n",
              "0  Female              0     Yes  ...          29.85         29.85    No\n",
              "2    Male              0      No  ...          53.85        108.15   Yes\n",
              "4  Female              0      No  ...          70.70        151.65   Yes\n",
              "5  Female              0      No  ...          99.65        820.50   Yes\n",
              "7  Female              0      No  ...          29.75        301.90    No\n",
              "\n",
              "[5 rows x 20 columns]"
            ]
          },
          "metadata": {
            "tags": []
          },
          "execution_count": 28
        }
      ]
    },
    {
      "cell_type": "code",
      "metadata": {
        "id": "NkxMvsIcw_XN",
        "colab_type": "code",
        "colab": {
          "base_uri": "https://localhost:8080/",
          "height": 34
        },
        "outputId": "25ac47c7-ac77-4b65-d6f3-811000af5e0b"
      },
      "source": [
        "df_1yr.shape"
      ],
      "execution_count": 29,
      "outputs": [
        {
          "output_type": "execute_result",
          "data": {
            "text/plain": [
              "(2186, 20)"
            ]
          },
          "metadata": {
            "tags": []
          },
          "execution_count": 29
        }
      ]
    },
    {
      "cell_type": "code",
      "metadata": {
        "id": "JRMLQNLtxa61",
        "colab_type": "code",
        "colab": {
          "base_uri": "https://localhost:8080/",
          "height": 221
        },
        "outputId": "eb13a4c2-c386-4e0f-dc99-6b58356ea953"
      },
      "source": [
        "print(df_1yr.Churn.value_counts(normalize=True))\n",
        "print(df_1yr.Churn.value_counts())\n",
        "print(df.Churn.value_counts())\n",
        "print('\\n')\n",
        "print('Percent of total Yes Churn that happen within the first year was', (df_1yr.Churn.value_counts().Yes) /  (df.Churn.value_counts().Yes))"
      ],
      "execution_count": 30,
      "outputs": [
        {
          "output_type": "stream",
          "text": [
            "No     0.525618\n",
            "Yes    0.474382\n",
            "Name: Churn, dtype: float64\n",
            "No     1149\n",
            "Yes    1037\n",
            "Name: Churn, dtype: int64\n",
            "No     5174\n",
            "Yes    1869\n",
            "Name: Churn, dtype: int64\n",
            "\n",
            "\n",
            "Percent of total Yes Churn that happen within the first year was 0.5548421615837347\n"
          ],
          "name": "stdout"
        }
      ]
    },
    {
      "cell_type": "markdown",
      "metadata": {
        "id": "YT-rPtAmzO6X",
        "colab_type": "text"
      },
      "source": [
        "##After creating a DataFrame with the customers who had been with Telco for 12 or fewer months, I train test split the data. Before using the data on the LogisticRegression model, I use get_dummies and StandardScaler for the categorical and numeric data respectively. I use classification report, confusion matrix, and coef to analyze how well the model fits the data."
      ]
    },
    {
      "cell_type": "code",
      "metadata": {
        "id": "lZYYkJsdxwB5",
        "colab_type": "code",
        "colab": {
          "base_uri": "https://localhost:8080/",
          "height": 1000
        },
        "outputId": "0694d35a-0213-4b3f-a607-69f1effc246b"
      },
      "source": [
        "X = df_1yr.drop(columns='Churn')\n",
        "y = pd.Series(df_1yr.Churn.map(dict(Yes=1, No=0)))\n",
        "Xtrain, Xtest, ytrain, ytest = train_test_split(X, y, random_state=56, stratify=y)\n",
        "print('Xtrain', type(Xtrain), Xtrain.shape, Xtrain)\n",
        "print('\\n')\n",
        "print(\"Xtrest\", type(Xtest), Xtest.shape, Xtest)\n",
        "print('\\n')\n",
        "print('ytrain', type(ytrain), ytrain.shape, ytrain)\n",
        "print('\\n')\n",
        "print(\"ytrest\", type(ytest), ytest.shape, ytest)"
      ],
      "execution_count": 31,
      "outputs": [
        {
          "output_type": "stream",
          "text": [
            "Xtrain <class 'pandas.core.frame.DataFrame'> (1639, 19)       gender  SeniorCitizen  ... MonthlyCharges TotalCharges\n",
            "6569  Female              0  ...          19.50       162.15\n",
            "3989  Female              0  ...          38.50       330.80\n",
            "1716    Male              0  ...          54.75       438.05\n",
            "687     Male              1  ...          49.25        91.10\n",
            "2413    Male              0  ...          49.65       305.55\n",
            "...      ...            ...  ...            ...          ...\n",
            "5986    Male              1  ...          79.15       827.70\n",
            "3847    Male              0  ...          20.00       198.60\n",
            "1434    Male              0  ...          99.95      1132.75\n",
            "4214    Male              0  ...          90.05       368.10\n",
            "439     Male              0  ...          55.05        55.05\n",
            "\n",
            "[1639 rows x 19 columns]\n",
            "\n",
            "\n",
            "Xtrest <class 'pandas.core.frame.DataFrame'> (547, 19)       gender  SeniorCitizen  ... MonthlyCharges TotalCharges\n",
            "4794    Male              0  ...          19.35        46.35\n",
            "801   Female              0  ...          98.50      1058.25\n",
            "1124    Male              0  ...          49.05       593.05\n",
            "2864    Male              0  ...          63.75       226.20\n",
            "2528  Female              0  ...          80.10       679.30\n",
            "...      ...            ...  ...            ...          ...\n",
            "5561    Male              0  ...          20.65        20.65\n",
            "2212    Male              0  ...          19.50       225.85\n",
            "4546  Female              0  ...          84.50       916.90\n",
            "5300  Female              0  ...          80.05        80.05\n",
            "3960  Female              0  ...          57.55       161.45\n",
            "\n",
            "[547 rows x 19 columns]\n",
            "\n",
            "\n",
            "ytrain <class 'pandas.core.series.Series'> (1639,) 6569    0\n",
            "3989    0\n",
            "1716    0\n",
            "687     1\n",
            "2413    0\n",
            "       ..\n",
            "5986    0\n",
            "3847    0\n",
            "1434    1\n",
            "4214    1\n",
            "439     0\n",
            "Name: Churn, Length: 1639, dtype: int64\n",
            "\n",
            "\n",
            "ytrest <class 'pandas.core.series.Series'> (547,) 4794    0\n",
            "801     1\n",
            "1124    0\n",
            "2864    0\n",
            "2528    1\n",
            "       ..\n",
            "5561    0\n",
            "2212    0\n",
            "4546    1\n",
            "5300    1\n",
            "3960    0\n",
            "Name: Churn, Length: 547, dtype: int64\n"
          ],
          "name": "stdout"
        }
      ]
    },
    {
      "cell_type": "code",
      "metadata": {
        "id": "NnmetOaa0nJR",
        "colab_type": "code",
        "colab": {
          "base_uri": "https://localhost:8080/",
          "height": 153
        },
        "outputId": "ebebcd65-d0af-48f1-c19a-86ca81654c55"
      },
      "source": [
        "print(\"ytrain\")\n",
        "print(ytrain.value_counts(normalize=True))\n",
        "print('ytest')\n",
        "print(ytest.value_counts(normalize=True))"
      ],
      "execution_count": 32,
      "outputs": [
        {
          "output_type": "stream",
          "text": [
            "ytrain\n",
            "0    0.52532\n",
            "1    0.47468\n",
            "Name: Churn, dtype: float64\n",
            "ytest\n",
            "0    0.526508\n",
            "1    0.473492\n",
            "Name: Churn, dtype: float64\n"
          ],
          "name": "stdout"
        }
      ]
    },
    {
      "cell_type": "code",
      "metadata": {
        "id": "CCB_3qDhBQQU",
        "colab_type": "code",
        "colab": {
          "base_uri": "https://localhost:8080/",
          "height": 34
        },
        "outputId": "e9c8bd98-17eb-495c-be22-adcb95857455"
      },
      "source": [
        "X.select_dtypes(include=['float64', 'int64']).columns"
      ],
      "execution_count": 33,
      "outputs": [
        {
          "output_type": "execute_result",
          "data": {
            "text/plain": [
              "Index(['SeniorCitizen', 'tenure', 'MonthlyCharges', 'TotalCharges'], dtype='object')"
            ]
          },
          "metadata": {
            "tags": []
          },
          "execution_count": 33
        }
      ]
    },
    {
      "cell_type": "code",
      "metadata": {
        "id": "zpTOmI7m_LW3",
        "colab_type": "code",
        "colab": {
          "base_uri": "https://localhost:8080/",
          "height": 391
        },
        "outputId": "03b6208a-4596-4e54-e005-2f6ecf91bc83"
      },
      "source": [
        "cat_features = X.select_dtypes(include=['object']).columns\n",
        "num_features = ['SeniorCitizen', 'tenure', 'MonthlyCharges', 'TotalCharges']\n",
        "Xtrain_dummies = pd.get_dummies(Xtrain, columns=cat_features, drop_first=True)\n",
        "Xtest_dummies = pd.get_dummies(Xtest, columns=cat_features, drop_first=True)\n",
        "column_trans = make_column_transformer((StandardScaler(), num_features), remainder='passthrough')\n",
        "logreg_standard = LogisticRegression()\n",
        "logreg_pipeline_standard = make_pipeline(column_trans, logreg_standard)\n",
        "logreg_pipeline_standard.fit(Xtrain_dummies, ytrain)"
      ],
      "execution_count": 34,
      "outputs": [
        {
          "output_type": "execute_result",
          "data": {
            "text/plain": [
              "Pipeline(memory=None,\n",
              "         steps=[('columntransformer',\n",
              "                 ColumnTransformer(n_jobs=None, remainder='passthrough',\n",
              "                                   sparse_threshold=0.3,\n",
              "                                   transformer_weights=None,\n",
              "                                   transformers=[('standardscaler',\n",
              "                                                  StandardScaler(copy=True,\n",
              "                                                                 with_mean=True,\n",
              "                                                                 with_std=True),\n",
              "                                                  ['SeniorCitizen', 'tenure',\n",
              "                                                   'MonthlyCharges',\n",
              "                                                   'TotalCharges'])],\n",
              "                                   verbose=False)),\n",
              "                ('logisticregression',\n",
              "                 LogisticRegression(C=1.0, class_weight=None, dual=False,\n",
              "                                    fit_intercept=True, intercept_scaling=1,\n",
              "                                    l1_ratio=None, max_iter=100,\n",
              "                                    multi_class='auto', n_jobs=None,\n",
              "                                    penalty='l2', random_state=None,\n",
              "                                    solver='lbfgs', tol=0.0001, verbose=0,\n",
              "                                    warm_start=False))],\n",
              "         verbose=False)"
            ]
          },
          "metadata": {
            "tags": []
          },
          "execution_count": 34
        }
      ]
    },
    {
      "cell_type": "code",
      "metadata": {
        "id": "pWqkBE5GC-n8",
        "colab_type": "code",
        "colab": {
          "base_uri": "https://localhost:8080/",
          "height": 357
        },
        "outputId": "28cee5e1-a557-453d-a9ca-02474df79cee"
      },
      "source": [
        "ypred_train_standard = logreg_pipeline_standard.predict(Xtrain_dummies)\n",
        "ypred_test_standard = logreg_pipeline_standard.predict(Xtest_dummies)\n",
        "class_report_ypred_train_standard = classification_report(ytrain, ypred_train_standard)\n",
        "class_report_ypred_test_standard = classification_report(ytest, ypred_test_standard)\n",
        "print('class_report_ypred_train_standard')\n",
        "print(class_report_ypred_train_standard)\n",
        "print('class_report_ypred_test_standard')\n",
        "print(class_report_ypred_test_standard)"
      ],
      "execution_count": 35,
      "outputs": [
        {
          "output_type": "stream",
          "text": [
            "class_report_ypred_train_standard\n",
            "              precision    recall  f1-score   support\n",
            "\n",
            "           0       0.75      0.72      0.73       861\n",
            "           1       0.70      0.74      0.72       778\n",
            "\n",
            "    accuracy                           0.72      1639\n",
            "   macro avg       0.72      0.73      0.72      1639\n",
            "weighted avg       0.73      0.72      0.73      1639\n",
            "\n",
            "class_report_ypred_test_standard\n",
            "              precision    recall  f1-score   support\n",
            "\n",
            "           0       0.72      0.74      0.73       288\n",
            "           1       0.70      0.68      0.69       259\n",
            "\n",
            "    accuracy                           0.71       547\n",
            "   macro avg       0.71      0.71      0.71       547\n",
            "weighted avg       0.71      0.71      0.71       547\n",
            "\n"
          ],
          "name": "stdout"
        }
      ]
    },
    {
      "cell_type": "code",
      "metadata": {
        "id": "kn1_nQhHDq1W",
        "colab_type": "code",
        "colab": {
          "base_uri": "https://localhost:8080/",
          "height": 119
        },
        "outputId": "15f597f0-cc48-40da-ec57-e83ee1a0a86b"
      },
      "source": [
        "cnf_matrix_train_standard_logreg = confusion_matrix(ytrain, ypred_train_standard)\n",
        "cnf_matrix_test_standard_logreg = confusion_matrix(ytest, ypred_test_standard)\n",
        "print('cnf_matrix_train_standard_logreg')\n",
        "print(cnf_matrix_train_standard_logreg)\n",
        "print('cnf_matrix_test_standard_logreg')\n",
        "print(cnf_matrix_test_standard_logreg)"
      ],
      "execution_count": 36,
      "outputs": [
        {
          "output_type": "stream",
          "text": [
            "cnf_matrix_train_standard_logreg\n",
            "[[616 245]\n",
            " [206 572]]\n",
            "cnf_matrix_test_standard_logreg\n",
            "[[212  76]\n",
            " [ 83 176]]\n"
          ],
          "name": "stdout"
        }
      ]
    },
    {
      "cell_type": "code",
      "metadata": {
        "id": "QOMdNIp1PSo3",
        "colab_type": "code",
        "colab": {
          "base_uri": "https://localhost:8080/",
          "height": 979
        },
        "outputId": "695fee2a-85fd-40e5-86f3-b66e402765e1"
      },
      "source": [
        "df_X_dummies_column = pd.melt(pd.DataFrame(data=Xtrain_dummies.columns)).drop(columns='variable')\n",
        "standard_logreg_coef = pd.melt(pd.DataFrame(data=logreg_standard.coef_)).drop(columns='variable')\n",
        "standard_logreg_coef_withnames = standard_logreg_coef.join(df_X_dummies_column, how='outer', rsuffix='feature').sort_values(by=['value'], ignore_index=True)\n",
        "standard_logreg_coef_withnames"
      ],
      "execution_count": 37,
      "outputs": [
        {
          "output_type": "execute_result",
          "data": {
            "text/html": [
              "<div>\n",
              "<style scoped>\n",
              "    .dataframe tbody tr th:only-of-type {\n",
              "        vertical-align: middle;\n",
              "    }\n",
              "\n",
              "    .dataframe tbody tr th {\n",
              "        vertical-align: top;\n",
              "    }\n",
              "\n",
              "    .dataframe thead th {\n",
              "        text-align: right;\n",
              "    }\n",
              "</style>\n",
              "<table border=\"1\" class=\"dataframe\">\n",
              "  <thead>\n",
              "    <tr style=\"text-align: right;\">\n",
              "      <th></th>\n",
              "      <th>value</th>\n",
              "      <th>valuefeature</th>\n",
              "    </tr>\n",
              "  </thead>\n",
              "  <tbody>\n",
              "    <tr>\n",
              "      <th>0</th>\n",
              "      <td>-2.039351</td>\n",
              "      <td>Contract_Two year</td>\n",
              "    </tr>\n",
              "    <tr>\n",
              "      <th>1</th>\n",
              "      <td>-0.758099</td>\n",
              "      <td>Contract_One year</td>\n",
              "    </tr>\n",
              "    <tr>\n",
              "      <th>2</th>\n",
              "      <td>-0.752817</td>\n",
              "      <td>tenure</td>\n",
              "    </tr>\n",
              "    <tr>\n",
              "      <th>3</th>\n",
              "      <td>-0.422094</td>\n",
              "      <td>TechSupport_Yes</td>\n",
              "    </tr>\n",
              "    <tr>\n",
              "      <th>4</th>\n",
              "      <td>-0.374305</td>\n",
              "      <td>PhoneService_Yes</td>\n",
              "    </tr>\n",
              "    <tr>\n",
              "      <th>5</th>\n",
              "      <td>-0.373600</td>\n",
              "      <td>OnlineSecurity_Yes</td>\n",
              "    </tr>\n",
              "    <tr>\n",
              "      <th>6</th>\n",
              "      <td>-0.335407</td>\n",
              "      <td>OnlineBackup_Yes</td>\n",
              "    </tr>\n",
              "    <tr>\n",
              "      <th>7</th>\n",
              "      <td>-0.315903</td>\n",
              "      <td>PaymentMethod_Credit card (automatic)</td>\n",
              "    </tr>\n",
              "    <tr>\n",
              "      <th>8</th>\n",
              "      <td>-0.246046</td>\n",
              "      <td>PaymentMethod_Mailed check</td>\n",
              "    </tr>\n",
              "    <tr>\n",
              "      <th>9</th>\n",
              "      <td>-0.106876</td>\n",
              "      <td>Dependents_Yes</td>\n",
              "    </tr>\n",
              "    <tr>\n",
              "      <th>10</th>\n",
              "      <td>-0.069287</td>\n",
              "      <td>StreamingMovies_No internet service</td>\n",
              "    </tr>\n",
              "    <tr>\n",
              "      <th>11</th>\n",
              "      <td>-0.069287</td>\n",
              "      <td>StreamingTV_No internet service</td>\n",
              "    </tr>\n",
              "    <tr>\n",
              "      <th>12</th>\n",
              "      <td>-0.069287</td>\n",
              "      <td>TechSupport_No internet service</td>\n",
              "    </tr>\n",
              "    <tr>\n",
              "      <th>13</th>\n",
              "      <td>-0.069287</td>\n",
              "      <td>InternetService_No</td>\n",
              "    </tr>\n",
              "    <tr>\n",
              "      <th>14</th>\n",
              "      <td>-0.069287</td>\n",
              "      <td>DeviceProtection_No internet service</td>\n",
              "    </tr>\n",
              "    <tr>\n",
              "      <th>15</th>\n",
              "      <td>-0.069287</td>\n",
              "      <td>OnlineBackup_No internet service</td>\n",
              "    </tr>\n",
              "    <tr>\n",
              "      <th>16</th>\n",
              "      <td>-0.069287</td>\n",
              "      <td>OnlineSecurity_No internet service</td>\n",
              "    </tr>\n",
              "    <tr>\n",
              "      <th>17</th>\n",
              "      <td>-0.045465</td>\n",
              "      <td>gender_Male</td>\n",
              "    </tr>\n",
              "    <tr>\n",
              "      <th>18</th>\n",
              "      <td>0.004949</td>\n",
              "      <td>PaymentMethod_Electronic check</td>\n",
              "    </tr>\n",
              "    <tr>\n",
              "      <th>19</th>\n",
              "      <td>0.050525</td>\n",
              "      <td>Partner_Yes</td>\n",
              "    </tr>\n",
              "    <tr>\n",
              "      <th>20</th>\n",
              "      <td>0.079937</td>\n",
              "      <td>SeniorCitizen</td>\n",
              "    </tr>\n",
              "    <tr>\n",
              "      <th>21</th>\n",
              "      <td>0.080363</td>\n",
              "      <td>DeviceProtection_Yes</td>\n",
              "    </tr>\n",
              "    <tr>\n",
              "      <th>22</th>\n",
              "      <td>0.168786</td>\n",
              "      <td>StreamingMovies_Yes</td>\n",
              "    </tr>\n",
              "    <tr>\n",
              "      <th>23</th>\n",
              "      <td>0.190323</td>\n",
              "      <td>MonthlyCharges</td>\n",
              "    </tr>\n",
              "    <tr>\n",
              "      <th>24</th>\n",
              "      <td>0.253169</td>\n",
              "      <td>TotalCharges</td>\n",
              "    </tr>\n",
              "    <tr>\n",
              "      <th>25</th>\n",
              "      <td>0.315809</td>\n",
              "      <td>StreamingTV_Yes</td>\n",
              "    </tr>\n",
              "    <tr>\n",
              "      <th>26</th>\n",
              "      <td>0.371623</td>\n",
              "      <td>MultipleLines_No phone service</td>\n",
              "    </tr>\n",
              "    <tr>\n",
              "      <th>27</th>\n",
              "      <td>0.379832</td>\n",
              "      <td>PaperlessBilling_Yes</td>\n",
              "    </tr>\n",
              "    <tr>\n",
              "      <th>28</th>\n",
              "      <td>0.401131</td>\n",
              "      <td>MultipleLines_Yes</td>\n",
              "    </tr>\n",
              "    <tr>\n",
              "      <th>29</th>\n",
              "      <td>0.617899</td>\n",
              "      <td>InternetService_Fiber optic</td>\n",
              "    </tr>\n",
              "  </tbody>\n",
              "</table>\n",
              "</div>"
            ],
            "text/plain": [
              "       value                           valuefeature\n",
              "0  -2.039351                      Contract_Two year\n",
              "1  -0.758099                      Contract_One year\n",
              "2  -0.752817                                 tenure\n",
              "3  -0.422094                        TechSupport_Yes\n",
              "4  -0.374305                       PhoneService_Yes\n",
              "5  -0.373600                     OnlineSecurity_Yes\n",
              "6  -0.335407                       OnlineBackup_Yes\n",
              "7  -0.315903  PaymentMethod_Credit card (automatic)\n",
              "8  -0.246046             PaymentMethod_Mailed check\n",
              "9  -0.106876                         Dependents_Yes\n",
              "10 -0.069287    StreamingMovies_No internet service\n",
              "11 -0.069287        StreamingTV_No internet service\n",
              "12 -0.069287        TechSupport_No internet service\n",
              "13 -0.069287                     InternetService_No\n",
              "14 -0.069287   DeviceProtection_No internet service\n",
              "15 -0.069287       OnlineBackup_No internet service\n",
              "16 -0.069287     OnlineSecurity_No internet service\n",
              "17 -0.045465                            gender_Male\n",
              "18  0.004949         PaymentMethod_Electronic check\n",
              "19  0.050525                            Partner_Yes\n",
              "20  0.079937                          SeniorCitizen\n",
              "21  0.080363                   DeviceProtection_Yes\n",
              "22  0.168786                    StreamingMovies_Yes\n",
              "23  0.190323                         MonthlyCharges\n",
              "24  0.253169                           TotalCharges\n",
              "25  0.315809                        StreamingTV_Yes\n",
              "26  0.371623         MultipleLines_No phone service\n",
              "27  0.379832                   PaperlessBilling_Yes\n",
              "28  0.401131                      MultipleLines_Yes\n",
              "29  0.617899            InternetService_Fiber optic"
            ]
          },
          "metadata": {
            "tags": []
          },
          "execution_count": 37
        }
      ]
    },
    {
      "cell_type": "markdown",
      "metadata": {
        "id": "QgIQVhC4FSSn",
        "colab_type": "text"
      },
      "source": [
        "#I do the same with the RandomForestClassifier, except instead of coef I use feature_importance."
      ]
    },
    {
      "cell_type": "code",
      "metadata": {
        "id": "qddw66A6FZey",
        "colab_type": "code",
        "colab": {
          "base_uri": "https://localhost:8080/",
          "height": 459
        },
        "outputId": "bc37f6f7-5ed3-402a-d71a-0615a8550ebc"
      },
      "source": [
        "rfc_standard = RandomForestClassifier(n_estimators=500, random_state=56)\n",
        "rfc_pipeline_standard = make_pipeline(column_trans, rfc_standard)\n",
        "rfc_pipeline_standard.fit(Xtrain_dummies, ytrain)"
      ],
      "execution_count": 38,
      "outputs": [
        {
          "output_type": "execute_result",
          "data": {
            "text/plain": [
              "Pipeline(memory=None,\n",
              "         steps=[('columntransformer',\n",
              "                 ColumnTransformer(n_jobs=None, remainder='passthrough',\n",
              "                                   sparse_threshold=0.3,\n",
              "                                   transformer_weights=None,\n",
              "                                   transformers=[('standardscaler',\n",
              "                                                  StandardScaler(copy=True,\n",
              "                                                                 with_mean=True,\n",
              "                                                                 with_std=True),\n",
              "                                                  ['SeniorCitizen', 'tenure',\n",
              "                                                   'MonthlyCharges',\n",
              "                                                   'TotalCharges'])],\n",
              "                                   verbose=False)),\n",
              "                ('randomforestclassifier',\n",
              "                 RandomFores...=True, ccp_alpha=0.0,\n",
              "                                        class_weight=None, criterion='gini',\n",
              "                                        max_depth=None, max_features='auto',\n",
              "                                        max_leaf_nodes=None, max_samples=None,\n",
              "                                        min_impurity_decrease=0.0,\n",
              "                                        min_impurity_split=None,\n",
              "                                        min_samples_leaf=1, min_samples_split=2,\n",
              "                                        min_weight_fraction_leaf=0.0,\n",
              "                                        n_estimators=500, n_jobs=None,\n",
              "                                        oob_score=False, random_state=56,\n",
              "                                        verbose=0, warm_start=False))],\n",
              "         verbose=False)"
            ]
          },
          "metadata": {
            "tags": []
          },
          "execution_count": 38
        }
      ]
    },
    {
      "cell_type": "code",
      "metadata": {
        "id": "1JNxY-Y5F-Hi",
        "colab_type": "code",
        "colab": {
          "base_uri": "https://localhost:8080/",
          "height": 170
        },
        "outputId": "17f58e2a-3130-4333-8e31-ea79fc24fac5"
      },
      "source": [
        "ypred_test_rfc_standard = rfc_pipeline_standard.predict(Xtest_dummies)\n",
        "class_report_ypred_test_rfc_standard = classification_report(ytest, ypred_test_rfc_standard)\n",
        "print(class_report_ypred_test_rfc_standard)"
      ],
      "execution_count": 39,
      "outputs": [
        {
          "output_type": "stream",
          "text": [
            "              precision    recall  f1-score   support\n",
            "\n",
            "           0       0.69      0.76      0.72       288\n",
            "           1       0.70      0.63      0.66       259\n",
            "\n",
            "    accuracy                           0.69       547\n",
            "   macro avg       0.70      0.69      0.69       547\n",
            "weighted avg       0.70      0.69      0.69       547\n",
            "\n"
          ],
          "name": "stdout"
        }
      ]
    },
    {
      "cell_type": "code",
      "metadata": {
        "id": "7J1msjsUakpm",
        "colab_type": "code",
        "colab": {
          "base_uri": "https://localhost:8080/",
          "height": 68
        },
        "outputId": "367cb34b-8bef-4439-d9d9-fe5f546f37f3"
      },
      "source": [
        "cnf_matrix_test_standard_rfc = confusion_matrix(ytest, ypred_test_rfc_standard)\n",
        "print('cnf_matrix_test_rfc_standard')\n",
        "print(cnf_matrix_test_standard_rfc)"
      ],
      "execution_count": 40,
      "outputs": [
        {
          "output_type": "stream",
          "text": [
            "cnf_matrix_test_rfc_standard\n",
            "[[218  70]\n",
            " [ 97 162]]\n"
          ],
          "name": "stdout"
        }
      ]
    },
    {
      "cell_type": "code",
      "metadata": {
        "id": "rJu6jS-dG70J",
        "colab_type": "code",
        "colab": {
          "base_uri": "https://localhost:8080/",
          "height": 611
        },
        "outputId": "54840cbd-7d09-467c-c6a2-d048638ef455"
      },
      "source": [
        "feature_importance_standard = rfc_standard.feature_importances_\n",
        "feature_importance_standard = 100.0 * (feature_importance_standard / feature_importance_standard.max())\n",
        "sorted_idx = np.argsort(feature_importance_standard)\n",
        "pos = np.arange(sorted_idx.shape[0]) + .5\n",
        "sorted_idx.size\n",
        "plt.figure(figsize=(10, 10))\n",
        "plt.barh(pos, feature_importance_standard[sorted_idx], align='center')\n",
        "plt.yticks(pos, Xtest_dummies.columns[sorted_idx], )\n",
        "plt.xlabel(\"Importance\")\n",
        "plt.ylabel('Variable Importance')\n",
        "plt.show()"
      ],
      "execution_count": 41,
      "outputs": [
        {
          "output_type": "display_data",
          "data": {
            "image/png": "[encoded data removed]",
            "text/plain": [
              "<Figure size 720x720 with 1 Axes>"
            ]
          },
          "metadata": {
            "tags": []
          }
        }
      ]
    },
    {
      "cell_type": "markdown",
      "metadata": {
        "id": "IQ2pz5azczOx",
        "colab_type": "text"
      },
      "source": [
        "##Below I produce a scatter plot and an ROC curve plot with AUC scores to graphically represent how the models performed."
      ]
    },
    {
      "cell_type": "code",
      "metadata": {
        "id": "IQoY9Sq1b25E",
        "colab_type": "code",
        "colab": {
          "base_uri": "https://localhost:8080/",
          "height": 111
        },
        "outputId": "99764983-dd1b-4a25-cb5e-a685d10c1782"
      },
      "source": [
        "list_model_tests = ['logreg_year1model', 'rfc_year1model']\n",
        "list_ypred_tests = [ypred_test_standard, ypred_test_rfc_standard]\n",
        "dict_for_pred_scores = {}\n",
        "list_recall_scores = []\n",
        "list_accuracy_scores = []\n",
        "\n",
        "for ypred in list_ypred_tests:\n",
        "  recallscore = recall_score(ytest, ypred) * 100\n",
        "  list_recall_scores.append(recallscore)\n",
        "  accuracyscore = accuracy_score(ytest, ypred) * 100\n",
        "  list_accuracy_scores.append(accuracyscore)\n",
        "\n",
        "dict_for_pred_scores['model'] = list_model_tests\n",
        "dict_for_pred_scores['recall_score'] = list_recall_scores\n",
        "dict_for_pred_scores['accuracy_score'] = list_accuracy_scores\n",
        "df_model_scores = pd.DataFrame.from_dict(dict_for_pred_scores)\n",
        "df_model_scores.to_csv('year1model_scores.csv')\n",
        "df_model_scores"
      ],
      "execution_count": 42,
      "outputs": [
        {
          "output_type": "execute_result",
          "data": {
            "text/html": [
              "<div>\n",
              "<style scoped>\n",
              "    .dataframe tbody tr th:only-of-type {\n",
              "        vertical-align: middle;\n",
              "    }\n",
              "\n",
              "    .dataframe tbody tr th {\n",
              "        vertical-align: top;\n",
              "    }\n",
              "\n",
              "    .dataframe thead th {\n",
              "        text-align: right;\n",
              "    }\n",
              "</style>\n",
              "<table border=\"1\" class=\"dataframe\">\n",
              "  <thead>\n",
              "    <tr style=\"text-align: right;\">\n",
              "      <th></th>\n",
              "      <th>model</th>\n",
              "      <th>recall_score</th>\n",
              "      <th>accuracy_score</th>\n",
              "    </tr>\n",
              "  </thead>\n",
              "  <tbody>\n",
              "    <tr>\n",
              "      <th>0</th>\n",
              "      <td>logreg_year1model</td>\n",
              "      <td>67.953668</td>\n",
              "      <td>70.932358</td>\n",
              "    </tr>\n",
              "    <tr>\n",
              "      <th>1</th>\n",
              "      <td>rfc_year1model</td>\n",
              "      <td>62.548263</td>\n",
              "      <td>69.469835</td>\n",
              "    </tr>\n",
              "  </tbody>\n",
              "</table>\n",
              "</div>"
            ],
            "text/plain": [
              "               model  recall_score  accuracy_score\n",
              "0  logreg_year1model     67.953668       70.932358\n",
              "1     rfc_year1model     62.548263       69.469835"
            ]
          },
          "metadata": {
            "tags": []
          },
          "execution_count": 42
        }
      ]
    },
    {
      "cell_type": "code",
      "metadata": {
        "id": "8VwO1W71ff1j",
        "colab_type": "code",
        "colab": {
          "base_uri": "https://localhost:8080/",
          "height": 285
        },
        "outputId": "391ded94-1fab-46a0-b2ee-c41a565ac80a"
      },
      "source": [
        "ax = sns.scatterplot(x=\"accuracy_score\", y=\"recall_score\",\n",
        "                    style=\"model\", data=df_model_scores, s=150)\n",
        "_ = plt.ylabel('% of Yes Churn customers predicted')\n",
        "_ = plt.xlabel('Overall % correct for the model')\n",
        "plt.show()"
      ],
      "execution_count": 43,
      "outputs": [
        {
          "output_type": "display_data",
          "data": {
            "image/png": "[encoded data removed]",
            "text/plain": [
              "<Figure size 432x288 with 1 Axes>"
            ]
          },
          "metadata": {
            "tags": []
          }
        }
      ]
    },
    {
      "cell_type": "code",
      "metadata": {
        "id": "sEFnoVNnfpai",
        "colab_type": "code",
        "colab": {
          "base_uri": "https://localhost:8080/",
          "height": 285
        },
        "outputId": "392bf0db-c3a5-4244-86fc-80f4fbd8c7fb"
      },
      "source": [
        "ypred_prob_logreg = logreg_pipeline_standard.predict_proba(Xtest_dummies)[::,1]\n",
        "fpr_logreg, tpr_logreg, _ = roc_curve(ytest, ypred_prob_logreg)\n",
        "auc_logreg = roc_auc_score(ytest, ypred_prob_logreg)\n",
        "\n",
        "ypred_prob_rfc = rfc_pipeline_standard.predict_proba(Xtest_dummies)[::,1]\n",
        "fpr_rfc, tpr_rfc, _ = roc_curve(ytest, ypred_prob_rfc)\n",
        "auc_rfc = roc_auc_score(ytest, ypred_prob_rfc)\n",
        "\n",
        "_ = plt.plot(fpr_logreg, tpr_logreg, label='LogisticRegression, auc='+ str(round(auc_logreg, 3)))\n",
        "_ = plt.plot(fpr_rfc, tpr_rfc, label='RandomForestClassifier, auc='+ str(round(auc_rfc, 3)))\n",
        "plt.legend(loc='best')\n",
        "print(\"This is for the 2 different models using the 1st year customer data\")\n",
        "plt.show()"
      ],
      "execution_count": 44,
      "outputs": [
        {
          "output_type": "stream",
          "text": [
            "This is for the 2 different models using the 1st year customer data\n"
          ],
          "name": "stdout"
        },
        {
          "output_type": "display_data",
          "data": {
            "image/png": "[encoded data removed]",
            "text/plain": [
              "<Figure size 432x288 with 1 Axes>"
            ]
          },
          "metadata": {
            "tags": []
          }
        }
      ]
    },
    {
      "cell_type": "markdown",
      "metadata": {
        "id": "pL5k6WLmhLd6",
        "colab_type": "text"
      },
      "source": [
        "##Neither of these models performed better at predicting the Yes recall or at having a higher overall accuracy than earlier models (see Capstone2_LogisticRegression_imbalanceddata and Capstone2_randomforest). "
      ]
    },
    {
      "cell_type": "code",
      "metadata": {
        "id": "AMXqdF_uiDth",
        "colab_type": "code",
        "colab": {
          "base_uri": "https://localhost:8080/",
          "height": 17
        },
        "outputId": "f6bc3caf-bed4-4818-e9ab-cf82caf22730"
      },
      "source": [
        "from google.colab import files\n",
        "files.download('year1model_scores.csv')"
      ],
      "execution_count": 45,
      "outputs": [
        {
          "output_type": "display_data",
          "data": {
            "application/javascript": [
              "\n",
              "    async function download(id, filename, size) {\n",
              "      if (!google.colab.kernel.accessAllowed) {\n",
              "        return;\n",
              "      }\n",
              "      const div = document.createElement('div');\n",
              "      const label = document.createElement('label');\n",
              "      label.textContent = `Downloading \"${filename}\": `;\n",
              "      div.appendChild(label);\n",
              "      const progress = document.createElement('progress');\n",
              "      progress.max = size;\n",
              "      div.appendChild(progress);\n",
              "      document.body.appendChild(div);\n",
              "\n",
              "      const buffers = [];\n",
              "      let downloaded = 0;\n",
              "\n",
              "      const channel = await google.colab.kernel.comms.open(id);\n",
              "      // Send a message to notify the kernel that we're ready.\n",
              "      channel.send({})\n",
              "\n",
              "      for await (const message of channel.messages) {\n",
              "        // Send a message to notify the kernel that we're ready.\n",
              "        channel.send({})\n",
              "        if (message.buffers) {\n",
              "          for (const buffer of message.buffers) {\n",
              "            buffers.push(buffer);\n",
              "            downloaded += buffer.byteLength;\n",
              "            progress.value = downloaded;\n",
              "          }\n",
              "        }\n",
              "      }\n",
              "      const blob = new Blob(buffers, {type: 'application/binary'});\n",
              "      const a = document.createElement('a');\n",
              "      a.href = window.URL.createObjectURL(blob);\n",
              "      a.download = filename;\n",
              "      div.appendChild(a);\n",
              "      a.click();\n",
              "      div.remove();\n",
              "    }\n",
              "  "
            ],
            "text/plain": [
              "<IPython.core.display.Javascript object>"
            ]
          },
          "metadata": {
            "tags": []
          }
        },
        {
          "output_type": "display_data",
          "data": {
            "application/javascript": [
              "download(\"download_f4baa2ae-8524-4e16-99b9-1ca5c72b0812\", \"year1model_scores.csv\", 144)"
            ],
            "text/plain": [
              "<IPython.core.display.Javascript object>"
            ]
          },
          "metadata": {
            "tags": []
          }
        }
      ]
    }
  ]
}