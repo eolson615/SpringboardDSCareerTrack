{
  "nbformat": 4,
  "nbformat_minor": 0,
  "metadata": {
    "colab": {
      "name": "Capstone2_LogisticRegression_imbalanceddata.ipynb",
      "provenance": [],
      "collapsed_sections": [],
      "include_colab_link": true
    },
    "kernelspec": {
      "name": "python3",
      "display_name": "Python 3"
    }
  },
  "cells": [
    {
      "cell_type": "markdown",
      "metadata": {
        "id": "view-in-github",
        "colab_type": "text"
      },
      "source": [
        "<a href=\"https://colab.research.google.com/github/eolson615/SpringboardDSCareerTrack/blob/master/Capstone2_LogisticRegression_imbalanceddata.ipynb\" target=\"_parent\"><img src=\"https://colab.research.google.com/assets/colab-badge.svg\" alt=\"Open In Colab\"/></a>"
      ]
    },
    {
      "cell_type": "markdown",
      "metadata": {
        "id": "3ST8qemogGab",
        "colab_type": "text"
      },
      "source": [
        "#This notebook addresses the issue of imbalanced data in the Telco customer Churn data. First, I used the stratification process on the train test split to see if it produces a noticeable difference in our model. Then, I implement an oversampling technique, SMOTE, and check the impact it had on our model. Finally, I use an undersampling technique, nearmiss, to see if this will increase the recall for Yes in our Churn target variable. <br> I use the sklearn Logistic Regression model to analyze the effect these different methods are having on the predictive power of our models. "
      ]
    },
    {
      "cell_type": "code",
      "metadata": {
        "id": "T6NDnJaugEyi",
        "colab_type": "code",
        "colab": {}
      },
      "source": [
        "import warnings  #This was added for aesthetics on GitHub and was not implemented during the composition of this notebook\n",
        "warnings.filterwarnings('ignore')\n",
        "import pandas as pd\n",
        "import numpy as np\n",
        "import matplotlib.pyplot as plt\n",
        "import seaborn as sns\n",
        "sns.set()\n",
        "from sklearn.model_selection import train_test_split\n",
        "from sklearn.model_selection import cross_val_score\n",
        "from sklearn.compose import make_column_transformer\n",
        "from sklearn.preprocessing import OneHotEncoder\n",
        "from sklearn.preprocessing import StandardScaler\n",
        "from sklearn.linear_model import LogisticRegression\n",
        "from sklearn.pipeline import make_pipeline\n",
        "from sklearn import metrics\n",
        "from sklearn.metrics import classification_report, recall_score, accuracy_score, roc_curve, roc_auc_score\n",
        "from imblearn.over_sampling import SMOTE\n",
        "from imblearn.under_sampling import NearMiss\n",
        "from imblearn.pipeline import make_pipeline as imb_pipeline"
      ],
      "execution_count": 27,
      "outputs": []
    },
    {
      "cell_type": "code",
      "metadata": {
        "id": "Jhbyh3mQWc7L",
        "colab_type": "code",
        "colab": {
          "base_uri": "https://localhost:8080/",
          "height": 292
        },
        "outputId": "79a2fbbb-7a9f-4d1c-e279-fb35b87b6785"
      },
      "source": [
        "df_url = 'https://raw.githubusercontent.com/eolson615/SpringboardDSCareerTrack/master/Capstone2/Data/telcodata_posteda.csv'\n",
        "df = pd.read_csv(df_url, index_col=[0])\n",
        "df.head()"
      ],
      "execution_count": 2,
      "outputs": [
        {
          "output_type": "execute_result",
          "data": {
            "text/html": [
              "<div>\n",
              "<style scoped>\n",
              "    .dataframe tbody tr th:only-of-type {\n",
              "        vertical-align: middle;\n",
              "    }\n",
              "\n",
              "    .dataframe tbody tr th {\n",
              "        vertical-align: top;\n",
              "    }\n",
              "\n",
              "    .dataframe thead th {\n",
              "        text-align: right;\n",
              "    }\n",
              "</style>\n",
              "<table border=\"1\" class=\"dataframe\">\n",
              "  <thead>\n",
              "    <tr style=\"text-align: right;\">\n",
              "      <th></th>\n",
              "      <th>gender</th>\n",
              "      <th>SeniorCitizen</th>\n",
              "      <th>Partner</th>\n",
              "      <th>Dependents</th>\n",
              "      <th>tenure</th>\n",
              "      <th>PhoneService</th>\n",
              "      <th>MultipleLines</th>\n",
              "      <th>InternetService</th>\n",
              "      <th>OnlineSecurity</th>\n",
              "      <th>OnlineBackup</th>\n",
              "      <th>DeviceProtection</th>\n",
              "      <th>TechSupport</th>\n",
              "      <th>StreamingTV</th>\n",
              "      <th>StreamingMovies</th>\n",
              "      <th>Contract</th>\n",
              "      <th>PaperlessBilling</th>\n",
              "      <th>PaymentMethod</th>\n",
              "      <th>MonthlyCharges</th>\n",
              "      <th>TotalCharges</th>\n",
              "      <th>Churn</th>\n",
              "    </tr>\n",
              "  </thead>\n",
              "  <tbody>\n",
              "    <tr>\n",
              "      <th>0</th>\n",
              "      <td>Female</td>\n",
              "      <td>0</td>\n",
              "      <td>Yes</td>\n",
              "      <td>No</td>\n",
              "      <td>1</td>\n",
              "      <td>No</td>\n",
              "      <td>No phone service</td>\n",
              "      <td>DSL</td>\n",
              "      <td>No</td>\n",
              "      <td>Yes</td>\n",
              "      <td>No</td>\n",
              "      <td>No</td>\n",
              "      <td>No</td>\n",
              "      <td>No</td>\n",
              "      <td>Month-to-month</td>\n",
              "      <td>Yes</td>\n",
              "      <td>Electronic check</td>\n",
              "      <td>29.85</td>\n",
              "      <td>29.85</td>\n",
              "      <td>No</td>\n",
              "    </tr>\n",
              "    <tr>\n",
              "      <th>1</th>\n",
              "      <td>Male</td>\n",
              "      <td>0</td>\n",
              "      <td>No</td>\n",
              "      <td>No</td>\n",
              "      <td>34</td>\n",
              "      <td>Yes</td>\n",
              "      <td>No</td>\n",
              "      <td>DSL</td>\n",
              "      <td>Yes</td>\n",
              "      <td>No</td>\n",
              "      <td>Yes</td>\n",
              "      <td>No</td>\n",
              "      <td>No</td>\n",
              "      <td>No</td>\n",
              "      <td>One year</td>\n",
              "      <td>No</td>\n",
              "      <td>Mailed check</td>\n",
              "      <td>56.95</td>\n",
              "      <td>1889.50</td>\n",
              "      <td>No</td>\n",
              "    </tr>\n",
              "    <tr>\n",
              "      <th>2</th>\n",
              "      <td>Male</td>\n",
              "      <td>0</td>\n",
              "      <td>No</td>\n",
              "      <td>No</td>\n",
              "      <td>2</td>\n",
              "      <td>Yes</td>\n",
              "      <td>No</td>\n",
              "      <td>DSL</td>\n",
              "      <td>Yes</td>\n",
              "      <td>Yes</td>\n",
              "      <td>No</td>\n",
              "      <td>No</td>\n",
              "      <td>No</td>\n",
              "      <td>No</td>\n",
              "      <td>Month-to-month</td>\n",
              "      <td>Yes</td>\n",
              "      <td>Mailed check</td>\n",
              "      <td>53.85</td>\n",
              "      <td>108.15</td>\n",
              "      <td>Yes</td>\n",
              "    </tr>\n",
              "    <tr>\n",
              "      <th>3</th>\n",
              "      <td>Male</td>\n",
              "      <td>0</td>\n",
              "      <td>No</td>\n",
              "      <td>No</td>\n",
              "      <td>45</td>\n",
              "      <td>No</td>\n",
              "      <td>No phone service</td>\n",
              "      <td>DSL</td>\n",
              "      <td>Yes</td>\n",
              "      <td>No</td>\n",
              "      <td>Yes</td>\n",
              "      <td>Yes</td>\n",
              "      <td>No</td>\n",
              "      <td>No</td>\n",
              "      <td>One year</td>\n",
              "      <td>No</td>\n",
              "      <td>Bank transfer (automatic)</td>\n",
              "      <td>42.30</td>\n",
              "      <td>1840.75</td>\n",
              "      <td>No</td>\n",
              "    </tr>\n",
              "    <tr>\n",
              "      <th>4</th>\n",
              "      <td>Female</td>\n",
              "      <td>0</td>\n",
              "      <td>No</td>\n",
              "      <td>No</td>\n",
              "      <td>2</td>\n",
              "      <td>Yes</td>\n",
              "      <td>No</td>\n",
              "      <td>Fiber optic</td>\n",
              "      <td>No</td>\n",
              "      <td>No</td>\n",
              "      <td>No</td>\n",
              "      <td>No</td>\n",
              "      <td>No</td>\n",
              "      <td>No</td>\n",
              "      <td>Month-to-month</td>\n",
              "      <td>Yes</td>\n",
              "      <td>Electronic check</td>\n",
              "      <td>70.70</td>\n",
              "      <td>151.65</td>\n",
              "      <td>Yes</td>\n",
              "    </tr>\n",
              "  </tbody>\n",
              "</table>\n",
              "</div>"
            ],
            "text/plain": [
              "   gender  SeniorCitizen Partner  ... MonthlyCharges  TotalCharges Churn\n",
              "0  Female              0     Yes  ...          29.85         29.85    No\n",
              "1    Male              0      No  ...          56.95       1889.50    No\n",
              "2    Male              0      No  ...          53.85        108.15   Yes\n",
              "3    Male              0      No  ...          42.30       1840.75    No\n",
              "4  Female              0      No  ...          70.70        151.65   Yes\n",
              "\n",
              "[5 rows x 20 columns]"
            ]
          },
          "metadata": {
            "tags": []
          },
          "execution_count": 2
        }
      ]
    },
    {
      "cell_type": "code",
      "metadata": {
        "id": "VXr834SHcteF",
        "colab_type": "code",
        "colab": {
          "base_uri": "https://localhost:8080/",
          "height": 575
        },
        "outputId": "77322a75-6a48-46a6-87ca-921f49b5e5e1"
      },
      "source": [
        "X = df.drop(columns='Churn')\n",
        "X"
      ],
      "execution_count": 3,
      "outputs": [
        {
          "output_type": "execute_result",
          "data": {
            "text/html": [
              "<div>\n",
              "<style scoped>\n",
              "    .dataframe tbody tr th:only-of-type {\n",
              "        vertical-align: middle;\n",
              "    }\n",
              "\n",
              "    .dataframe tbody tr th {\n",
              "        vertical-align: top;\n",
              "    }\n",
              "\n",
              "    .dataframe thead th {\n",
              "        text-align: right;\n",
              "    }\n",
              "</style>\n",
              "<table border=\"1\" class=\"dataframe\">\n",
              "  <thead>\n",
              "    <tr style=\"text-align: right;\">\n",
              "      <th></th>\n",
              "      <th>gender</th>\n",
              "      <th>SeniorCitizen</th>\n",
              "      <th>Partner</th>\n",
              "      <th>Dependents</th>\n",
              "      <th>tenure</th>\n",
              "      <th>PhoneService</th>\n",
              "      <th>MultipleLines</th>\n",
              "      <th>InternetService</th>\n",
              "      <th>OnlineSecurity</th>\n",
              "      <th>OnlineBackup</th>\n",
              "      <th>DeviceProtection</th>\n",
              "      <th>TechSupport</th>\n",
              "      <th>StreamingTV</th>\n",
              "      <th>StreamingMovies</th>\n",
              "      <th>Contract</th>\n",
              "      <th>PaperlessBilling</th>\n",
              "      <th>PaymentMethod</th>\n",
              "      <th>MonthlyCharges</th>\n",
              "      <th>TotalCharges</th>\n",
              "    </tr>\n",
              "  </thead>\n",
              "  <tbody>\n",
              "    <tr>\n",
              "      <th>0</th>\n",
              "      <td>Female</td>\n",
              "      <td>0</td>\n",
              "      <td>Yes</td>\n",
              "      <td>No</td>\n",
              "      <td>1</td>\n",
              "      <td>No</td>\n",
              "      <td>No phone service</td>\n",
              "      <td>DSL</td>\n",
              "      <td>No</td>\n",
              "      <td>Yes</td>\n",
              "      <td>No</td>\n",
              "      <td>No</td>\n",
              "      <td>No</td>\n",
              "      <td>No</td>\n",
              "      <td>Month-to-month</td>\n",
              "      <td>Yes</td>\n",
              "      <td>Electronic check</td>\n",
              "      <td>29.85</td>\n",
              "      <td>29.85</td>\n",
              "    </tr>\n",
              "    <tr>\n",
              "      <th>1</th>\n",
              "      <td>Male</td>\n",
              "      <td>0</td>\n",
              "      <td>No</td>\n",
              "      <td>No</td>\n",
              "      <td>34</td>\n",
              "      <td>Yes</td>\n",
              "      <td>No</td>\n",
              "      <td>DSL</td>\n",
              "      <td>Yes</td>\n",
              "      <td>No</td>\n",
              "      <td>Yes</td>\n",
              "      <td>No</td>\n",
              "      <td>No</td>\n",
              "      <td>No</td>\n",
              "      <td>One year</td>\n",
              "      <td>No</td>\n",
              "      <td>Mailed check</td>\n",
              "      <td>56.95</td>\n",
              "      <td>1889.50</td>\n",
              "    </tr>\n",
              "    <tr>\n",
              "      <th>2</th>\n",
              "      <td>Male</td>\n",
              "      <td>0</td>\n",
              "      <td>No</td>\n",
              "      <td>No</td>\n",
              "      <td>2</td>\n",
              "      <td>Yes</td>\n",
              "      <td>No</td>\n",
              "      <td>DSL</td>\n",
              "      <td>Yes</td>\n",
              "      <td>Yes</td>\n",
              "      <td>No</td>\n",
              "      <td>No</td>\n",
              "      <td>No</td>\n",
              "      <td>No</td>\n",
              "      <td>Month-to-month</td>\n",
              "      <td>Yes</td>\n",
              "      <td>Mailed check</td>\n",
              "      <td>53.85</td>\n",
              "      <td>108.15</td>\n",
              "    </tr>\n",
              "    <tr>\n",
              "      <th>3</th>\n",
              "      <td>Male</td>\n",
              "      <td>0</td>\n",
              "      <td>No</td>\n",
              "      <td>No</td>\n",
              "      <td>45</td>\n",
              "      <td>No</td>\n",
              "      <td>No phone service</td>\n",
              "      <td>DSL</td>\n",
              "      <td>Yes</td>\n",
              "      <td>No</td>\n",
              "      <td>Yes</td>\n",
              "      <td>Yes</td>\n",
              "      <td>No</td>\n",
              "      <td>No</td>\n",
              "      <td>One year</td>\n",
              "      <td>No</td>\n",
              "      <td>Bank transfer (automatic)</td>\n",
              "      <td>42.30</td>\n",
              "      <td>1840.75</td>\n",
              "    </tr>\n",
              "    <tr>\n",
              "      <th>4</th>\n",
              "      <td>Female</td>\n",
              "      <td>0</td>\n",
              "      <td>No</td>\n",
              "      <td>No</td>\n",
              "      <td>2</td>\n",
              "      <td>Yes</td>\n",
              "      <td>No</td>\n",
              "      <td>Fiber optic</td>\n",
              "      <td>No</td>\n",
              "      <td>No</td>\n",
              "      <td>No</td>\n",
              "      <td>No</td>\n",
              "      <td>No</td>\n",
              "      <td>No</td>\n",
              "      <td>Month-to-month</td>\n",
              "      <td>Yes</td>\n",
              "      <td>Electronic check</td>\n",
              "      <td>70.70</td>\n",
              "      <td>151.65</td>\n",
              "    </tr>\n",
              "    <tr>\n",
              "      <th>...</th>\n",
              "      <td>...</td>\n",
              "      <td>...</td>\n",
              "      <td>...</td>\n",
              "      <td>...</td>\n",
              "      <td>...</td>\n",
              "      <td>...</td>\n",
              "      <td>...</td>\n",
              "      <td>...</td>\n",
              "      <td>...</td>\n",
              "      <td>...</td>\n",
              "      <td>...</td>\n",
              "      <td>...</td>\n",
              "      <td>...</td>\n",
              "      <td>...</td>\n",
              "      <td>...</td>\n",
              "      <td>...</td>\n",
              "      <td>...</td>\n",
              "      <td>...</td>\n",
              "      <td>...</td>\n",
              "    </tr>\n",
              "    <tr>\n",
              "      <th>7038</th>\n",
              "      <td>Male</td>\n",
              "      <td>0</td>\n",
              "      <td>Yes</td>\n",
              "      <td>Yes</td>\n",
              "      <td>24</td>\n",
              "      <td>Yes</td>\n",
              "      <td>Yes</td>\n",
              "      <td>DSL</td>\n",
              "      <td>Yes</td>\n",
              "      <td>No</td>\n",
              "      <td>Yes</td>\n",
              "      <td>Yes</td>\n",
              "      <td>Yes</td>\n",
              "      <td>Yes</td>\n",
              "      <td>One year</td>\n",
              "      <td>Yes</td>\n",
              "      <td>Mailed check</td>\n",
              "      <td>84.80</td>\n",
              "      <td>1990.50</td>\n",
              "    </tr>\n",
              "    <tr>\n",
              "      <th>7039</th>\n",
              "      <td>Female</td>\n",
              "      <td>0</td>\n",
              "      <td>Yes</td>\n",
              "      <td>Yes</td>\n",
              "      <td>72</td>\n",
              "      <td>Yes</td>\n",
              "      <td>Yes</td>\n",
              "      <td>Fiber optic</td>\n",
              "      <td>No</td>\n",
              "      <td>Yes</td>\n",
              "      <td>Yes</td>\n",
              "      <td>No</td>\n",
              "      <td>Yes</td>\n",
              "      <td>Yes</td>\n",
              "      <td>One year</td>\n",
              "      <td>Yes</td>\n",
              "      <td>Credit card (automatic)</td>\n",
              "      <td>103.20</td>\n",
              "      <td>7362.90</td>\n",
              "    </tr>\n",
              "    <tr>\n",
              "      <th>7040</th>\n",
              "      <td>Female</td>\n",
              "      <td>0</td>\n",
              "      <td>Yes</td>\n",
              "      <td>Yes</td>\n",
              "      <td>11</td>\n",
              "      <td>No</td>\n",
              "      <td>No phone service</td>\n",
              "      <td>DSL</td>\n",
              "      <td>Yes</td>\n",
              "      <td>No</td>\n",
              "      <td>No</td>\n",
              "      <td>No</td>\n",
              "      <td>No</td>\n",
              "      <td>No</td>\n",
              "      <td>Month-to-month</td>\n",
              "      <td>Yes</td>\n",
              "      <td>Electronic check</td>\n",
              "      <td>29.60</td>\n",
              "      <td>346.45</td>\n",
              "    </tr>\n",
              "    <tr>\n",
              "      <th>7041</th>\n",
              "      <td>Male</td>\n",
              "      <td>1</td>\n",
              "      <td>Yes</td>\n",
              "      <td>No</td>\n",
              "      <td>4</td>\n",
              "      <td>Yes</td>\n",
              "      <td>Yes</td>\n",
              "      <td>Fiber optic</td>\n",
              "      <td>No</td>\n",
              "      <td>No</td>\n",
              "      <td>No</td>\n",
              "      <td>No</td>\n",
              "      <td>No</td>\n",
              "      <td>No</td>\n",
              "      <td>Month-to-month</td>\n",
              "      <td>Yes</td>\n",
              "      <td>Mailed check</td>\n",
              "      <td>74.40</td>\n",
              "      <td>306.60</td>\n",
              "    </tr>\n",
              "    <tr>\n",
              "      <th>7042</th>\n",
              "      <td>Male</td>\n",
              "      <td>0</td>\n",
              "      <td>No</td>\n",
              "      <td>No</td>\n",
              "      <td>66</td>\n",
              "      <td>Yes</td>\n",
              "      <td>No</td>\n",
              "      <td>Fiber optic</td>\n",
              "      <td>Yes</td>\n",
              "      <td>No</td>\n",
              "      <td>Yes</td>\n",
              "      <td>Yes</td>\n",
              "      <td>Yes</td>\n",
              "      <td>Yes</td>\n",
              "      <td>Two year</td>\n",
              "      <td>Yes</td>\n",
              "      <td>Bank transfer (automatic)</td>\n",
              "      <td>105.65</td>\n",
              "      <td>6844.50</td>\n",
              "    </tr>\n",
              "  </tbody>\n",
              "</table>\n",
              "<p>7043 rows × 19 columns</p>\n",
              "</div>"
            ],
            "text/plain": [
              "      gender  SeniorCitizen  ... MonthlyCharges TotalCharges\n",
              "0     Female              0  ...          29.85        29.85\n",
              "1       Male              0  ...          56.95      1889.50\n",
              "2       Male              0  ...          53.85       108.15\n",
              "3       Male              0  ...          42.30      1840.75\n",
              "4     Female              0  ...          70.70       151.65\n",
              "...      ...            ...  ...            ...          ...\n",
              "7038    Male              0  ...          84.80      1990.50\n",
              "7039  Female              0  ...         103.20      7362.90\n",
              "7040  Female              0  ...          29.60       346.45\n",
              "7041    Male              1  ...          74.40       306.60\n",
              "7042    Male              0  ...         105.65      6844.50\n",
              "\n",
              "[7043 rows x 19 columns]"
            ]
          },
          "metadata": {
            "tags": []
          },
          "execution_count": 3
        }
      ]
    },
    {
      "cell_type": "code",
      "metadata": {
        "id": "NjbMx9Ljbyk3",
        "colab_type": "code",
        "colab": {
          "base_uri": "https://localhost:8080/",
          "height": 221
        },
        "outputId": "afa99669-1155-44fc-e2b6-a3356f0ad6a2"
      },
      "source": [
        "y = pd.Series(df.Churn.map(dict(Yes=1, No=0)))\n",
        "y"
      ],
      "execution_count": 4,
      "outputs": [
        {
          "output_type": "execute_result",
          "data": {
            "text/plain": [
              "0       0\n",
              "1       0\n",
              "2       1\n",
              "3       0\n",
              "4       1\n",
              "       ..\n",
              "7038    0\n",
              "7039    0\n",
              "7040    0\n",
              "7041    1\n",
              "7042    0\n",
              "Name: Churn, Length: 7043, dtype: int64"
            ]
          },
          "metadata": {
            "tags": []
          },
          "execution_count": 4
        }
      ]
    },
    {
      "cell_type": "markdown",
      "metadata": {
        "id": "P1mvKOkg1UbD",
        "colab_type": "text"
      },
      "source": [
        "##I train test split the data. The data is then passed through a pipeline with a column transfer for the categorical features and the numeric features. OneHotEncoder and StandardScaler are used for this first model. The model is then trained and tested. The Classification report indicates that the Yes recall increased slightly, but still not helpful for the company when the model miss identifies almost half of the customers who will churn."
      ]
    },
    {
      "cell_type": "code",
      "metadata": {
        "id": "XFbzWXtFc_MT",
        "colab_type": "code",
        "colab": {}
      },
      "source": [
        "Xtrain, Xtest, ytrain, ytest = train_test_split(X, y, random_state=56, stratify=y)"
      ],
      "execution_count": 5,
      "outputs": []
    },
    {
      "cell_type": "code",
      "metadata": {
        "id": "UmwAWXyzfUNz",
        "colab_type": "code",
        "colab": {
          "base_uri": "https://localhost:8080/",
          "height": 1000
        },
        "outputId": "b31ee1ee-f332-4ab0-9959-8d47b7c8a6d4"
      },
      "source": [
        "print('Xtrain', type(Xtrain), Xtrain.shape, Xtrain)\n",
        "print('\\n')\n",
        "print(\"Xtrest\", type(Xtest), Xtest.shape, Xtest)\n",
        "print('\\n')\n",
        "print('ytrain', type(ytrain), ytrain.shape, ytrain)\n",
        "print('\\n')\n",
        "print(\"ytrest\", type(ytest), ytest.shape, ytest)"
      ],
      "execution_count": 6,
      "outputs": [
        {
          "output_type": "stream",
          "text": [
            "Xtrain <class 'pandas.core.frame.DataFrame'> (5282, 19)       gender  SeniorCitizen  ... MonthlyCharges TotalCharges\n",
            "3333    Male              0  ...          19.35       212.30\n",
            "1526  Female              0  ...          95.40       293.15\n",
            "3336  Female              0  ...          20.30      1079.05\n",
            "6451    Male              1  ...         116.25      7862.25\n",
            "2192    Male              1  ...          85.65      4824.45\n",
            "...      ...            ...  ...            ...          ...\n",
            "5604    Male              0  ...          70.80      1207.00\n",
            "4739  Female              0  ...          79.00       929.30\n",
            "523   Female              0  ...          75.60      1758.60\n",
            "2471  Female              0  ...          98.40      5149.50\n",
            "3115  Female              0  ...          84.45      1058.60\n",
            "\n",
            "[5282 rows x 19 columns]\n",
            "\n",
            "\n",
            "Xtrest <class 'pandas.core.frame.DataFrame'> (1761, 19)       gender  SeniorCitizen  ... MonthlyCharges TotalCharges\n",
            "5480  Female              0  ...          45.40        45.40\n",
            "4274    Male              0  ...          18.85       867.30\n",
            "5587  Female              1  ...          91.30      4126.35\n",
            "36      Male              0  ...          69.70       316.90\n",
            "2316    Male              0  ...          20.70        73.05\n",
            "...      ...            ...  ...            ...          ...\n",
            "1727    Male              0  ...          71.05      2168.15\n",
            "4955    Male              0  ...          69.40        69.40\n",
            "4816  Female              0  ...          75.00      4213.90\n",
            "5341  Female              1  ...          74.45        74.45\n",
            "5441  Female              0  ...          65.30      4759.75\n",
            "\n",
            "[1761 rows x 19 columns]\n",
            "\n",
            "\n",
            "ytrain <class 'pandas.core.series.Series'> (5282,) 3333    0\n",
            "1526    0\n",
            "3336    0\n",
            "6451    0\n",
            "2192    0\n",
            "       ..\n",
            "5604    0\n",
            "4739    0\n",
            "523     1\n",
            "2471    1\n",
            "3115    1\n",
            "Name: Churn, Length: 5282, dtype: int64\n",
            "\n",
            "\n",
            "ytrest <class 'pandas.core.series.Series'> (1761,) 5480    0\n",
            "4274    0\n",
            "5587    0\n",
            "36      1\n",
            "2316    0\n",
            "       ..\n",
            "1727    0\n",
            "4955    1\n",
            "4816    0\n",
            "5341    1\n",
            "5441    1\n",
            "Name: Churn, Length: 1761, dtype: int64\n"
          ],
          "name": "stdout"
        }
      ]
    },
    {
      "cell_type": "code",
      "metadata": {
        "id": "XovCtjryfdO3",
        "colab_type": "code",
        "colab": {
          "base_uri": "https://localhost:8080/",
          "height": 153
        },
        "outputId": "abbfc85b-bdbe-4be7-fad1-0f2ab448d344"
      },
      "source": [
        "print(\"ytrain\")\n",
        "print(ytrain.value_counts(normalize=True))\n",
        "print('ytest')\n",
        "print(ytest.value_counts(normalize=True))"
      ],
      "execution_count": 7,
      "outputs": [
        {
          "output_type": "stream",
          "text": [
            "ytrain\n",
            "0    0.73457\n",
            "1    0.26543\n",
            "Name: Churn, dtype: float64\n",
            "ytest\n",
            "0    0.73481\n",
            "1    0.26519\n",
            "Name: Churn, dtype: float64\n"
          ],
          "name": "stdout"
        }
      ]
    },
    {
      "cell_type": "code",
      "metadata": {
        "id": "QfKZ_cXvlzjl",
        "colab_type": "code",
        "colab": {}
      },
      "source": [
        "cat_features = X.select_dtypes(include=['object']).columns\n",
        "num_features = X.select_dtypes(include=['float64', 'int64']).columns"
      ],
      "execution_count": 8,
      "outputs": []
    },
    {
      "cell_type": "code",
      "metadata": {
        "id": "v79o9pYNmDsX",
        "colab_type": "code",
        "colab": {
          "base_uri": "https://localhost:8080/",
          "height": 34
        },
        "outputId": "3c45e0c8-606b-4cdf-95f8-798f45dc7816"
      },
      "source": [
        "column_trans = make_column_transformer((OneHotEncoder(), cat_features), (StandardScaler(), num_features), remainder='passthrough')\n",
        "logreg = LogisticRegression(max_iter=5000)\n",
        "logreg_pipeline = make_pipeline(column_trans, logreg)\n",
        "logreg_cvs = cross_val_score(logreg_pipeline, Xtrain, ytrain, scoring='accuracy').mean()\n",
        "logreg_cvs"
      ],
      "execution_count": 9,
      "outputs": [
        {
          "output_type": "execute_result",
          "data": {
            "text/plain": [
              "0.8025355852756515"
            ]
          },
          "metadata": {
            "tags": []
          },
          "execution_count": 9
        }
      ]
    },
    {
      "cell_type": "code",
      "metadata": {
        "id": "w2fIRki3nvPo",
        "colab_type": "code",
        "colab": {
          "base_uri": "https://localhost:8080/",
          "height": 408
        },
        "outputId": "2c0d3bd7-18fa-4528-cff5-24a752427d6e"
      },
      "source": [
        "logreg_pipeline.fit(Xtrain, ytrain)"
      ],
      "execution_count": 10,
      "outputs": [
        {
          "output_type": "execute_result",
          "data": {
            "text/plain": [
              "Pipeline(memory=None,\n",
              "         steps=[('columntransformer',\n",
              "                 ColumnTransformer(n_jobs=None, remainder='passthrough',\n",
              "                                   sparse_threshold=0.3,\n",
              "                                   transformer_weights=None,\n",
              "                                   transformers=[('onehotencoder',\n",
              "                                                  OneHotEncoder(categories='auto',\n",
              "                                                                drop=None,\n",
              "                                                                dtype=<class 'numpy.float64'>,\n",
              "                                                                handle_unknown='error',\n",
              "                                                                sparse=True),\n",
              "                                                  Index(['gender', 'Partner', 'Dependents', 'PhoneService', 'Multiple...\n",
              "                                                  Index(['SeniorCitizen', 'tenure', 'MonthlyCharges', 'TotalCharges'], dtype='object'))],\n",
              "                                   verbose=False)),\n",
              "                ('logisticregression',\n",
              "                 LogisticRegression(C=1.0, class_weight=None, dual=False,\n",
              "                                    fit_intercept=True, intercept_scaling=1,\n",
              "                                    l1_ratio=None, max_iter=5000,\n",
              "                                    multi_class='auto', n_jobs=None,\n",
              "                                    penalty='l2', random_state=None,\n",
              "                                    solver='lbfgs', tol=0.0001, verbose=0,\n",
              "                                    warm_start=False))],\n",
              "         verbose=False)"
            ]
          },
          "metadata": {
            "tags": []
          },
          "execution_count": 10
        }
      ]
    },
    {
      "cell_type": "code",
      "metadata": {
        "id": "tLfdnh8Vn6i9",
        "colab_type": "code",
        "colab": {
          "base_uri": "https://localhost:8080/",
          "height": 357
        },
        "outputId": "2660fe18-b075-4080-bf02-0680609555a2"
      },
      "source": [
        "ypred_train_unadjusted = logreg_pipeline.predict(Xtrain)\n",
        "class_report_train_unadjusted = classification_report(ytrain, ypred_train_unadjusted)\n",
        "ypred_test_unadjusted = logreg_pipeline.predict(Xtest)\n",
        "class_report_test_unadjusted = classification_report(ytest, ypred_test_unadjusted)\n",
        "print('Unadjusted LogReg model on ytrain')\n",
        "print(class_report_train_unadjusted)\n",
        "print('Unadjusted LogReg model on ytest')\n",
        "print(class_report_test_unadjusted)"
      ],
      "execution_count": 11,
      "outputs": [
        {
          "output_type": "stream",
          "text": [
            "Unadjusted LogReg model on ytrain\n",
            "              precision    recall  f1-score   support\n",
            "\n",
            "           0       0.85      0.90      0.87      3880\n",
            "           1       0.67      0.56      0.61      1402\n",
            "\n",
            "    accuracy                           0.81      5282\n",
            "   macro avg       0.76      0.73      0.74      5282\n",
            "weighted avg       0.80      0.81      0.80      5282\n",
            "\n",
            "Unadjusted LogReg model on ytest\n",
            "              precision    recall  f1-score   support\n",
            "\n",
            "           0       0.85      0.88      0.86      1294\n",
            "           1       0.63      0.57      0.60       467\n",
            "\n",
            "    accuracy                           0.80      1761\n",
            "   macro avg       0.74      0.72      0.73      1761\n",
            "weighted avg       0.79      0.80      0.79      1761\n",
            "\n"
          ],
          "name": "stdout"
        }
      ]
    },
    {
      "cell_type": "markdown",
      "metadata": {
        "id": "I4ocsmT_FOYh",
        "colab_type": "text"
      },
      "source": [
        "##Next, I use the SMOTE oversampling method and apply it to a LogisticRegression model.\n",
        "\n",
        "##The overall accuracy went down, but our Yes recall increased a significant amount. This increase in the Yes recall will help with the business problem."
      ]
    },
    {
      "cell_type": "code",
      "metadata": {
        "id": "FJH4N8yAtOKW",
        "colab_type": "code",
        "colab": {
          "base_uri": "https://localhost:8080/",
          "height": 34
        },
        "outputId": "dd0bf800-2c61-4e52-843e-29ddcce1a583"
      },
      "source": [
        "logreg_smote = LogisticRegression(max_iter=5000)\n",
        "smote = SMOTE(random_state = 56)\n",
        "smote_pipeline = imb_pipeline(column_trans, smote, logreg_smote)\n",
        "smote_cvs = cross_val_score(smote_pipeline, Xtrain, ytrain, scoring='accuracy').mean()\n",
        "smote_cvs"
      ],
      "execution_count": 13,
      "outputs": [
        {
          "output_type": "execute_result",
          "data": {
            "text/plain": [
              "0.7591851581089991"
            ]
          },
          "metadata": {
            "tags": []
          },
          "execution_count": 13
        }
      ]
    },
    {
      "cell_type": "code",
      "metadata": {
        "id": "M_40fNhMLops",
        "colab_type": "code",
        "colab": {
          "base_uri": "https://localhost:8080/",
          "height": 357
        },
        "outputId": "9235851e-ccaa-42dc-dadf-10bebd5aa28b"
      },
      "source": [
        "smote_pipeline.fit(Xtrain, ytrain)\n",
        "\n",
        "ypred_train_smote = smote_pipeline.predict(Xtrain)\n",
        "class_report_train_smote = classification_report(ytrain, ypred_train_smote)\n",
        "print('classification report train smote')\n",
        "print(class_report_train_smote)\n",
        "\n",
        "ypred_test_smote = smote_pipeline.predict(Xtest)\n",
        "class_report_test_smote = classification_report(ytest, ypred_test_smote)\n",
        "print('classification report test smote')\n",
        "print(class_report_test_smote)"
      ],
      "execution_count": 14,
      "outputs": [
        {
          "output_type": "stream",
          "text": [
            "classification report train smote\n",
            "              precision    recall  f1-score   support\n",
            "\n",
            "           0       0.91      0.74      0.82      3880\n",
            "           1       0.53      0.81      0.64      1402\n",
            "\n",
            "    accuracy                           0.76      5282\n",
            "   macro avg       0.72      0.77      0.73      5282\n",
            "weighted avg       0.81      0.76      0.77      5282\n",
            "\n",
            "classification report test smote\n",
            "              precision    recall  f1-score   support\n",
            "\n",
            "           0       0.91      0.73      0.81      1294\n",
            "           1       0.51      0.79      0.62       467\n",
            "\n",
            "    accuracy                           0.75      1761\n",
            "   macro avg       0.71      0.76      0.72      1761\n",
            "weighted avg       0.80      0.75      0.76      1761\n",
            "\n"
          ],
          "name": "stdout"
        }
      ]
    },
    {
      "cell_type": "code",
      "metadata": {
        "id": "RQB_uXQbOtol",
        "colab_type": "code",
        "colab": {
          "base_uri": "https://localhost:8080/",
          "height": 102
        },
        "outputId": "5d50d71a-efc8-4f20-cb80-972afd737154"
      },
      "source": [
        "cnf_matrix_logreg_unadjusted = metrics.confusion_matrix(ytest, ypred_test_unadjusted)\n",
        "cnf_matrix_logreg_smote = metrics.confusion_matrix(ytest, ypred_test_smote)\n",
        "print(cnf_matrix_logreg_unadjusted), print(cnf_matrix_logreg_smote)"
      ],
      "execution_count": 15,
      "outputs": [
        {
          "output_type": "stream",
          "text": [
            "[[1137  157]\n",
            " [ 201  266]]\n",
            "[[946 348]\n",
            " [ 98 369]]\n"
          ],
          "name": "stdout"
        },
        {
          "output_type": "execute_result",
          "data": {
            "text/plain": [
              "(None, None)"
            ]
          },
          "metadata": {
            "tags": []
          },
          "execution_count": 15
        }
      ]
    },
    {
      "cell_type": "markdown",
      "metadata": {
        "id": "GwG3qPO5OmR2",
        "colab_type": "text"
      },
      "source": [
        ""
      ]
    },
    {
      "cell_type": "markdown",
      "metadata": {
        "id": "GCy_RBVXQVeW",
        "colab_type": "text"
      },
      "source": [
        "##Now, I use the nearmiss undersampling technique in conjunction with a LogisticRegression model.\n",
        "\n",
        "##The Yes recall remained the same as the SMOTE oversampling method, but the overall accuracy decreased."
      ]
    },
    {
      "cell_type": "code",
      "metadata": {
        "id": "tmMBMBgJQc2d",
        "colab_type": "code",
        "colab": {
          "base_uri": "https://localhost:8080/",
          "height": 34
        },
        "outputId": "fbe54e52-90bf-4aa8-f75c-bd3094d77cbc"
      },
      "source": [
        "logreg_nearmiss = LogisticRegression(max_iter=5000, random_state=56)\n",
        "nearmiss = NearMiss(random_state = 56)\n",
        "nearmiss_pipeline = imb_pipeline(column_trans, nearmiss, logreg_nearmiss)\n",
        "nearmiss_cvs = cross_val_score(nearmiss_pipeline, Xtrain, ytrain, scoring='accuracy').mean()\n",
        "nearmiss_cvs"
      ],
      "execution_count": 16,
      "outputs": [
        {
          "output_type": "execute_result",
          "data": {
            "text/plain": [
              "0.6667983644390929"
            ]
          },
          "metadata": {
            "tags": []
          },
          "execution_count": 16
        }
      ]
    },
    {
      "cell_type": "code",
      "metadata": {
        "id": "enIFfm7YQ-EZ",
        "colab_type": "code",
        "colab": {
          "base_uri": "https://localhost:8080/",
          "height": 408
        },
        "outputId": "12208422-df38-48fb-a3ef-bc2df839d7d9"
      },
      "source": [
        "nearmiss_pipeline.fit(Xtrain, ytrain)"
      ],
      "execution_count": 17,
      "outputs": [
        {
          "output_type": "execute_result",
          "data": {
            "text/plain": [
              "Pipeline(memory=None,\n",
              "         steps=[('columntransformer',\n",
              "                 ColumnTransformer(n_jobs=None, remainder='passthrough',\n",
              "                                   sparse_threshold=0.3,\n",
              "                                   transformer_weights=None,\n",
              "                                   transformers=[('onehotencoder',\n",
              "                                                  OneHotEncoder(categories='auto',\n",
              "                                                                drop=None,\n",
              "                                                                dtype=<class 'numpy.float64'>,\n",
              "                                                                handle_unknown='error',\n",
              "                                                                sparse=True),\n",
              "                                                  Index(['gender', 'Partner', 'Dependents', 'PhoneService', 'Multiple...\n",
              "                          random_state=56, ratio=None, return_indices=False,\n",
              "                          sampling_strategy='auto', version=1)),\n",
              "                ('logisticregression',\n",
              "                 LogisticRegression(C=1.0, class_weight=None, dual=False,\n",
              "                                    fit_intercept=True, intercept_scaling=1,\n",
              "                                    l1_ratio=None, max_iter=5000,\n",
              "                                    multi_class='auto', n_jobs=None,\n",
              "                                    penalty='l2', random_state=56,\n",
              "                                    solver='lbfgs', tol=0.0001, verbose=0,\n",
              "                                    warm_start=False))],\n",
              "         verbose=False)"
            ]
          },
          "metadata": {
            "tags": []
          },
          "execution_count": 17
        }
      ]
    },
    {
      "cell_type": "code",
      "metadata": {
        "id": "KFRTL9v_RLc1",
        "colab_type": "code",
        "colab": {
          "base_uri": "https://localhost:8080/",
          "height": 357
        },
        "outputId": "3e33036e-6435-484a-9f65-bc95fc10171b"
      },
      "source": [
        "ypred_train_nearmiss = nearmiss_pipeline.predict(Xtrain)\n",
        "class_report_train_nearmiss = classification_report(ytrain, ypred_train_nearmiss)\n",
        "print('classification report train nearmiss')\n",
        "print(class_report_train_nearmiss)\n",
        "\n",
        "ypred_test_nearmiss = nearmiss_pipeline.predict(Xtest)\n",
        "class_report_test_nearmiss = classification_report(ytest, ypred_test_nearmiss)\n",
        "print('classification report test nearmiss')\n",
        "print(class_report_test_nearmiss)"
      ],
      "execution_count": 18,
      "outputs": [
        {
          "output_type": "stream",
          "text": [
            "classification report train nearmiss\n",
            "              precision    recall  f1-score   support\n",
            "\n",
            "           0       0.89      0.63      0.74      3880\n",
            "           1       0.44      0.78      0.56      1402\n",
            "\n",
            "    accuracy                           0.67      5282\n",
            "   macro avg       0.66      0.71      0.65      5282\n",
            "weighted avg       0.77      0.67      0.69      5282\n",
            "\n",
            "classification report test nearmiss\n",
            "              precision    recall  f1-score   support\n",
            "\n",
            "           0       0.89      0.61      0.72      1294\n",
            "           1       0.42      0.79      0.55       467\n",
            "\n",
            "    accuracy                           0.66      1761\n",
            "   macro avg       0.66      0.70      0.64      1761\n",
            "weighted avg       0.77      0.66      0.68      1761\n",
            "\n"
          ],
          "name": "stdout"
        }
      ]
    },
    {
      "cell_type": "markdown",
      "metadata": {
        "id": "WPDewmAuKX1K",
        "colab_type": "text"
      },
      "source": [
        "##Below are comparisons of the different adjustments on the model."
      ]
    },
    {
      "cell_type": "code",
      "metadata": {
        "id": "KFIBwjXESHLp",
        "colab_type": "code",
        "colab": {
          "base_uri": "https://localhost:8080/",
          "height": 527
        },
        "outputId": "3121397d-ffc8-4fa6-db40-ddd80f0f1528"
      },
      "source": [
        "print('Unadjusted LogReg model') \n",
        "print(class_report_test_unadjusted) \n",
        "print('Smote LogReg model') \n",
        "print(class_report_test_smote) \n",
        "print('Nearmiss LogReg model')\n",
        "print(class_report_test_nearmiss)"
      ],
      "execution_count": 19,
      "outputs": [
        {
          "output_type": "stream",
          "text": [
            "Unadjusted LogReg model\n",
            "              precision    recall  f1-score   support\n",
            "\n",
            "           0       0.85      0.88      0.86      1294\n",
            "           1       0.63      0.57      0.60       467\n",
            "\n",
            "    accuracy                           0.80      1761\n",
            "   macro avg       0.74      0.72      0.73      1761\n",
            "weighted avg       0.79      0.80      0.79      1761\n",
            "\n",
            "Smote LogReg model\n",
            "              precision    recall  f1-score   support\n",
            "\n",
            "           0       0.91      0.73      0.81      1294\n",
            "           1       0.51      0.79      0.62       467\n",
            "\n",
            "    accuracy                           0.75      1761\n",
            "   macro avg       0.71      0.76      0.72      1761\n",
            "weighted avg       0.80      0.75      0.76      1761\n",
            "\n",
            "Nearmiss LogReg model\n",
            "              precision    recall  f1-score   support\n",
            "\n",
            "           0       0.89      0.61      0.72      1294\n",
            "           1       0.42      0.79      0.55       467\n",
            "\n",
            "    accuracy                           0.66      1761\n",
            "   macro avg       0.66      0.70      0.64      1761\n",
            "weighted avg       0.77      0.66      0.68      1761\n",
            "\n"
          ],
          "name": "stdout"
        }
      ]
    },
    {
      "cell_type": "code",
      "metadata": {
        "id": "cPRKqO3sSPGk",
        "colab_type": "code",
        "colab": {
          "base_uri": "https://localhost:8080/",
          "height": 170
        },
        "outputId": "32e88919-888c-473d-8dfd-7adccb1eec5a"
      },
      "source": [
        "cnf_matrix_logreg_nearmiss = metrics.confusion_matrix(ytest, ypred_test_nearmiss)\n",
        "print('Confusion matrix unadjusted')\n",
        "print(cnf_matrix_logreg_unadjusted)\n",
        "\n",
        "print('Confusion matrix SMOTE')\n",
        "print(cnf_matrix_logreg_smote)\n",
        "\n",
        "print('Confusion matrix nearmiss')\n",
        "print(cnf_matrix_logreg_nearmiss)"
      ],
      "execution_count": 20,
      "outputs": [
        {
          "output_type": "stream",
          "text": [
            "Confusion matrix unadjusted\n",
            "[[1137  157]\n",
            " [ 201  266]]\n",
            "Confusion matrix SMOTE\n",
            "[[946 348]\n",
            " [ 98 369]]\n",
            "Confusion matrix nearmiss\n",
            "[[789 505]\n",
            " [ 96 371]]\n"
          ],
          "name": "stdout"
        }
      ]
    },
    {
      "cell_type": "code",
      "metadata": {
        "id": "PUrONDQ9ZpZ0",
        "colab_type": "code",
        "colab": {
          "base_uri": "https://localhost:8080/",
          "height": 142
        },
        "outputId": "b1d5caea-ed3a-4ab7-9574-2d451f2f1af2"
      },
      "source": [
        "list_model_tests = ['logreg_notadjusted', 'logreg_smote', 'logreg_nearmiss']\n",
        "list_ypred_tests = [ypred_test_unadjusted, ypred_test_smote, ypred_test_nearmiss]\n",
        "dict_for_pred_scores = {}\n",
        "list_recall_scores = []\n",
        "list_accuracy_scores = []\n",
        "\n",
        "for ypred in list_ypred_tests:\n",
        "  recallscore = recall_score(ytest, ypred) * 100\n",
        "  list_recall_scores.append(recallscore)\n",
        "  accuracyscore = accuracy_score(ytest, ypred) * 100\n",
        "  list_accuracy_scores.append(accuracyscore)\n",
        "\n",
        "dict_for_pred_scores['model'] = list_model_tests\n",
        "dict_for_pred_scores['recall_score'] = list_recall_scores\n",
        "dict_for_pred_scores['accuracy_score'] = list_accuracy_scores\n",
        "df_model_scores = pd.DataFrame.from_dict(dict_for_pred_scores)\n",
        "df_model_scores.to_csv('logreg_imbalanceddate_scores.csv')\n",
        "df_model_scores"
      ],
      "execution_count": 21,
      "outputs": [
        {
          "output_type": "execute_result",
          "data": {
            "text/html": [
              "<div>\n",
              "<style scoped>\n",
              "    .dataframe tbody tr th:only-of-type {\n",
              "        vertical-align: middle;\n",
              "    }\n",
              "\n",
              "    .dataframe tbody tr th {\n",
              "        vertical-align: top;\n",
              "    }\n",
              "\n",
              "    .dataframe thead th {\n",
              "        text-align: right;\n",
              "    }\n",
              "</style>\n",
              "<table border=\"1\" class=\"dataframe\">\n",
              "  <thead>\n",
              "    <tr style=\"text-align: right;\">\n",
              "      <th></th>\n",
              "      <th>model</th>\n",
              "      <th>recall_score</th>\n",
              "      <th>accuracy_score</th>\n",
              "    </tr>\n",
              "  </thead>\n",
              "  <tbody>\n",
              "    <tr>\n",
              "      <th>0</th>\n",
              "      <td>logreg_notadjusted</td>\n",
              "      <td>56.959315</td>\n",
              "      <td>79.670642</td>\n",
              "    </tr>\n",
              "    <tr>\n",
              "      <th>1</th>\n",
              "      <td>logreg_smote</td>\n",
              "      <td>79.014989</td>\n",
              "      <td>74.673481</td>\n",
              "    </tr>\n",
              "    <tr>\n",
              "      <th>2</th>\n",
              "      <td>logreg_nearmiss</td>\n",
              "      <td>79.443255</td>\n",
              "      <td>65.871664</td>\n",
              "    </tr>\n",
              "  </tbody>\n",
              "</table>\n",
              "</div>"
            ],
            "text/plain": [
              "                model  recall_score  accuracy_score\n",
              "0  logreg_notadjusted     56.959315       79.670642\n",
              "1        logreg_smote     79.014989       74.673481\n",
              "2     logreg_nearmiss     79.443255       65.871664"
            ]
          },
          "metadata": {
            "tags": []
          },
          "execution_count": 21
        }
      ]
    },
    {
      "cell_type": "code",
      "metadata": {
        "id": "pyat48g_bE-a",
        "colab_type": "code",
        "colab": {
          "base_uri": "https://localhost:8080/",
          "height": 285
        },
        "outputId": "3a583546-8cb0-44d1-8e6f-25a7ff6abdc7"
      },
      "source": [
        "ax = sns.scatterplot(x=\"accuracy_score\", y=\"recall_score\",\n",
        "                    style=\"model\", data=df_model_scores, s=150)\n",
        "_ = plt.ylabel('% of Yes Churn customers predicted')\n",
        "_ = plt.xlabel('Overall % correct for the model')\n",
        "plt.show()"
      ],
      "execution_count": 22,
      "outputs": [
        {
          "output_type": "display_data",
          "data": {
            "image/png": "[encoded data removed]",
            "text/plain": [
              "<Figure size 432x288 with 1 Axes>"
            ]
          },
          "metadata": {
            "tags": [],
            "needs_background": "light"
          }
        }
      ]
    },
    {
      "cell_type": "markdown",
      "metadata": {
        "id": "4AAEFbF5Tfhu",
        "colab_type": "text"
      },
      "source": [
        "###It looks like even though the Nearmiss undersampling method gave us a similar result on the Yes recall as the Smote oversampling method, overall it performed worse. Thus it appears that the Smote oversampling method of dealing with the imbalanced data was more successful than both the unadjusted model with stratification alone or the Nearmiss undersampling method."
      ]
    },
    {
      "cell_type": "code",
      "metadata": {
        "id": "oxCvx0Tfj4ST",
        "colab_type": "code",
        "colab": {
          "base_uri": "https://localhost:8080/",
          "height": 285
        },
        "outputId": "d5afcb39-a595-421d-b412-d0fe93708b35"
      },
      "source": [
        "ypred_prob_logreg_unadjusted = logreg_pipeline.predict_proba(Xtest)[::,1]\n",
        "fpr_unadjusted, tpr_unadjusted, _ = roc_curve(ytest, ypred_prob_logreg_unadjusted)\n",
        "auc_unadjusted = roc_auc_score(ytest, ypred_prob_logreg_unadjusted)\n",
        "\n",
        "ypred_prob_logreg_smote = smote_pipeline.predict_proba(Xtest)[::,1]\n",
        "fpr_smote, tpr_smote, _ = roc_curve(ytest, ypred_prob_logreg_smote)\n",
        "auc_smote = roc_auc_score(ytest, ypred_prob_logreg_smote)\n",
        "\n",
        "ypred_prob_logreg_nearmiss = nearmiss_pipeline.predict_proba(Xtest)[::,1]\n",
        "fpr_nearmiss, tpr_nearmiss, _ = roc_curve(ytest, ypred_prob_logreg_nearmiss)\n",
        "auc_nearmiss = roc_auc_score(ytest, ypred_prob_logreg_nearmiss)\n",
        "\n",
        "_ = plt.plot(fpr_unadjusted, tpr_unadjusted, label='Logreg unadjusted, auc='+ str(round(auc_unadjusted, 3)))\n",
        "_ = plt.plot(fpr_smote, tpr_smote, label='Logreg with SMOTE, auc='+ str(round(auc_smote, 3)))\n",
        "_ = plt.plot(fpr_nearmiss, tpr_nearmiss, label='Logreg with Nearmiss, auc='+ str(round(auc_nearmiss, 3)))\n",
        "plt.legend(loc='best')\n",
        "print(\"This is for the 3 different methods dealing with imbalanced data\")\n",
        "plt.show()"
      ],
      "execution_count": 23,
      "outputs": [
        {
          "output_type": "stream",
          "text": [
            "This is for the 3 different methods dealing with imbalanced data\n"
          ],
          "name": "stdout"
        },
        {
          "output_type": "display_data",
          "data": {
            "image/png": "[encoded data removed]",
            "text/plain": [
              "<Figure size 432x288 with 1 Axes>"
            ]
          },
          "metadata": {
            "tags": [],
            "needs_background": "light"
          }
        }
      ]
    },
    {
      "cell_type": "markdown",
      "metadata": {
        "id": "ouY6ZMID2O4a",
        "colab_type": "text"
      },
      "source": [
        "##Using the SMOTE model, I am producing a data frame with predicitions in it so that I can better understand the model. This will be done in the notebook Capstone2_BusinessAnalysis."
      ]
    },
    {
      "cell_type": "code",
      "metadata": {
        "id": "ysCL7_2p2OhU",
        "colab_type": "code",
        "colab": {
          "base_uri": "https://localhost:8080/",
          "height": 609
        },
        "outputId": "e637fe1f-8411-4f23-eb66-d3173f562bf8"
      },
      "source": [
        "df_with_test_pred = Xtest\n",
        "df_with_test_pred['Actual_churn'] = ytest\n",
        "df_with_test_pred['Predicted_churn'] = ypred_test_smote\n",
        "df_with_test_pred"
      ],
      "execution_count": 24,
      "outputs": [
        {
          "output_type": "execute_result",
          "data": {
            "text/html": [
              "<div>\n",
              "<style scoped>\n",
              "    .dataframe tbody tr th:only-of-type {\n",
              "        vertical-align: middle;\n",
              "    }\n",
              "\n",
              "    .dataframe tbody tr th {\n",
              "        vertical-align: top;\n",
              "    }\n",
              "\n",
              "    .dataframe thead th {\n",
              "        text-align: right;\n",
              "    }\n",
              "</style>\n",
              "<table border=\"1\" class=\"dataframe\">\n",
              "  <thead>\n",
              "    <tr style=\"text-align: right;\">\n",
              "      <th></th>\n",
              "      <th>gender</th>\n",
              "      <th>SeniorCitizen</th>\n",
              "      <th>Partner</th>\n",
              "      <th>Dependents</th>\n",
              "      <th>tenure</th>\n",
              "      <th>PhoneService</th>\n",
              "      <th>MultipleLines</th>\n",
              "      <th>InternetService</th>\n",
              "      <th>OnlineSecurity</th>\n",
              "      <th>OnlineBackup</th>\n",
              "      <th>DeviceProtection</th>\n",
              "      <th>TechSupport</th>\n",
              "      <th>StreamingTV</th>\n",
              "      <th>StreamingMovies</th>\n",
              "      <th>Contract</th>\n",
              "      <th>PaperlessBilling</th>\n",
              "      <th>PaymentMethod</th>\n",
              "      <th>MonthlyCharges</th>\n",
              "      <th>TotalCharges</th>\n",
              "      <th>Actual_churn</th>\n",
              "      <th>Predicted_churn</th>\n",
              "    </tr>\n",
              "  </thead>\n",
              "  <tbody>\n",
              "    <tr>\n",
              "      <th>5480</th>\n",
              "      <td>Female</td>\n",
              "      <td>0</td>\n",
              "      <td>No</td>\n",
              "      <td>No</td>\n",
              "      <td>1</td>\n",
              "      <td>Yes</td>\n",
              "      <td>No</td>\n",
              "      <td>DSL</td>\n",
              "      <td>No</td>\n",
              "      <td>No</td>\n",
              "      <td>No</td>\n",
              "      <td>No</td>\n",
              "      <td>No</td>\n",
              "      <td>No</td>\n",
              "      <td>Month-to-month</td>\n",
              "      <td>Yes</td>\n",
              "      <td>Mailed check</td>\n",
              "      <td>45.40</td>\n",
              "      <td>45.40</td>\n",
              "      <td>0</td>\n",
              "      <td>1</td>\n",
              "    </tr>\n",
              "    <tr>\n",
              "      <th>4274</th>\n",
              "      <td>Male</td>\n",
              "      <td>0</td>\n",
              "      <td>No</td>\n",
              "      <td>No</td>\n",
              "      <td>45</td>\n",
              "      <td>Yes</td>\n",
              "      <td>No</td>\n",
              "      <td>No</td>\n",
              "      <td>No internet service</td>\n",
              "      <td>No internet service</td>\n",
              "      <td>No internet service</td>\n",
              "      <td>No internet service</td>\n",
              "      <td>No internet service</td>\n",
              "      <td>No internet service</td>\n",
              "      <td>One year</td>\n",
              "      <td>No</td>\n",
              "      <td>Bank transfer (automatic)</td>\n",
              "      <td>18.85</td>\n",
              "      <td>867.30</td>\n",
              "      <td>0</td>\n",
              "      <td>0</td>\n",
              "    </tr>\n",
              "    <tr>\n",
              "      <th>5587</th>\n",
              "      <td>Female</td>\n",
              "      <td>1</td>\n",
              "      <td>No</td>\n",
              "      <td>No</td>\n",
              "      <td>46</td>\n",
              "      <td>Yes</td>\n",
              "      <td>No</td>\n",
              "      <td>Fiber optic</td>\n",
              "      <td>No</td>\n",
              "      <td>Yes</td>\n",
              "      <td>Yes</td>\n",
              "      <td>No</td>\n",
              "      <td>Yes</td>\n",
              "      <td>No</td>\n",
              "      <td>One year</td>\n",
              "      <td>Yes</td>\n",
              "      <td>Bank transfer (automatic)</td>\n",
              "      <td>91.30</td>\n",
              "      <td>4126.35</td>\n",
              "      <td>0</td>\n",
              "      <td>0</td>\n",
              "    </tr>\n",
              "    <tr>\n",
              "      <th>36</th>\n",
              "      <td>Male</td>\n",
              "      <td>0</td>\n",
              "      <td>No</td>\n",
              "      <td>No</td>\n",
              "      <td>5</td>\n",
              "      <td>Yes</td>\n",
              "      <td>No</td>\n",
              "      <td>Fiber optic</td>\n",
              "      <td>No</td>\n",
              "      <td>No</td>\n",
              "      <td>No</td>\n",
              "      <td>No</td>\n",
              "      <td>No</td>\n",
              "      <td>No</td>\n",
              "      <td>Month-to-month</td>\n",
              "      <td>Yes</td>\n",
              "      <td>Electronic check</td>\n",
              "      <td>69.70</td>\n",
              "      <td>316.90</td>\n",
              "      <td>1</td>\n",
              "      <td>1</td>\n",
              "    </tr>\n",
              "    <tr>\n",
              "      <th>2316</th>\n",
              "      <td>Male</td>\n",
              "      <td>0</td>\n",
              "      <td>No</td>\n",
              "      <td>No</td>\n",
              "      <td>4</td>\n",
              "      <td>Yes</td>\n",
              "      <td>No</td>\n",
              "      <td>No</td>\n",
              "      <td>No internet service</td>\n",
              "      <td>No internet service</td>\n",
              "      <td>No internet service</td>\n",
              "      <td>No internet service</td>\n",
              "      <td>No internet service</td>\n",
              "      <td>No internet service</td>\n",
              "      <td>Month-to-month</td>\n",
              "      <td>No</td>\n",
              "      <td>Mailed check</td>\n",
              "      <td>20.70</td>\n",
              "      <td>73.05</td>\n",
              "      <td>0</td>\n",
              "      <td>0</td>\n",
              "    </tr>\n",
              "    <tr>\n",
              "      <th>...</th>\n",
              "      <td>...</td>\n",
              "      <td>...</td>\n",
              "      <td>...</td>\n",
              "      <td>...</td>\n",
              "      <td>...</td>\n",
              "      <td>...</td>\n",
              "      <td>...</td>\n",
              "      <td>...</td>\n",
              "      <td>...</td>\n",
              "      <td>...</td>\n",
              "      <td>...</td>\n",
              "      <td>...</td>\n",
              "      <td>...</td>\n",
              "      <td>...</td>\n",
              "      <td>...</td>\n",
              "      <td>...</td>\n",
              "      <td>...</td>\n",
              "      <td>...</td>\n",
              "      <td>...</td>\n",
              "      <td>...</td>\n",
              "      <td>...</td>\n",
              "    </tr>\n",
              "    <tr>\n",
              "      <th>1727</th>\n",
              "      <td>Male</td>\n",
              "      <td>0</td>\n",
              "      <td>No</td>\n",
              "      <td>No</td>\n",
              "      <td>31</td>\n",
              "      <td>Yes</td>\n",
              "      <td>Yes</td>\n",
              "      <td>DSL</td>\n",
              "      <td>No</td>\n",
              "      <td>Yes</td>\n",
              "      <td>No</td>\n",
              "      <td>Yes</td>\n",
              "      <td>Yes</td>\n",
              "      <td>No</td>\n",
              "      <td>Month-to-month</td>\n",
              "      <td>Yes</td>\n",
              "      <td>Electronic check</td>\n",
              "      <td>71.05</td>\n",
              "      <td>2168.15</td>\n",
              "      <td>0</td>\n",
              "      <td>0</td>\n",
              "    </tr>\n",
              "    <tr>\n",
              "      <th>4955</th>\n",
              "      <td>Male</td>\n",
              "      <td>0</td>\n",
              "      <td>No</td>\n",
              "      <td>No</td>\n",
              "      <td>1</td>\n",
              "      <td>Yes</td>\n",
              "      <td>No</td>\n",
              "      <td>Fiber optic</td>\n",
              "      <td>No</td>\n",
              "      <td>No</td>\n",
              "      <td>No</td>\n",
              "      <td>No</td>\n",
              "      <td>No</td>\n",
              "      <td>No</td>\n",
              "      <td>Month-to-month</td>\n",
              "      <td>No</td>\n",
              "      <td>Mailed check</td>\n",
              "      <td>69.40</td>\n",
              "      <td>69.40</td>\n",
              "      <td>1</td>\n",
              "      <td>1</td>\n",
              "    </tr>\n",
              "    <tr>\n",
              "      <th>4816</th>\n",
              "      <td>Female</td>\n",
              "      <td>0</td>\n",
              "      <td>Yes</td>\n",
              "      <td>Yes</td>\n",
              "      <td>55</td>\n",
              "      <td>Yes</td>\n",
              "      <td>Yes</td>\n",
              "      <td>DSL</td>\n",
              "      <td>Yes</td>\n",
              "      <td>Yes</td>\n",
              "      <td>No</td>\n",
              "      <td>Yes</td>\n",
              "      <td>Yes</td>\n",
              "      <td>No</td>\n",
              "      <td>One year</td>\n",
              "      <td>Yes</td>\n",
              "      <td>Credit card (automatic)</td>\n",
              "      <td>75.00</td>\n",
              "      <td>4213.90</td>\n",
              "      <td>0</td>\n",
              "      <td>0</td>\n",
              "    </tr>\n",
              "    <tr>\n",
              "      <th>5341</th>\n",
              "      <td>Female</td>\n",
              "      <td>1</td>\n",
              "      <td>No</td>\n",
              "      <td>No</td>\n",
              "      <td>1</td>\n",
              "      <td>Yes</td>\n",
              "      <td>Yes</td>\n",
              "      <td>Fiber optic</td>\n",
              "      <td>No</td>\n",
              "      <td>No</td>\n",
              "      <td>No</td>\n",
              "      <td>No</td>\n",
              "      <td>No</td>\n",
              "      <td>No</td>\n",
              "      <td>Month-to-month</td>\n",
              "      <td>Yes</td>\n",
              "      <td>Mailed check</td>\n",
              "      <td>74.45</td>\n",
              "      <td>74.45</td>\n",
              "      <td>1</td>\n",
              "      <td>1</td>\n",
              "    </tr>\n",
              "    <tr>\n",
              "      <th>5441</th>\n",
              "      <td>Female</td>\n",
              "      <td>0</td>\n",
              "      <td>Yes</td>\n",
              "      <td>No</td>\n",
              "      <td>70</td>\n",
              "      <td>Yes</td>\n",
              "      <td>Yes</td>\n",
              "      <td>DSL</td>\n",
              "      <td>Yes</td>\n",
              "      <td>No</td>\n",
              "      <td>Yes</td>\n",
              "      <td>Yes</td>\n",
              "      <td>No</td>\n",
              "      <td>No</td>\n",
              "      <td>Two year</td>\n",
              "      <td>No</td>\n",
              "      <td>Credit card (automatic)</td>\n",
              "      <td>65.30</td>\n",
              "      <td>4759.75</td>\n",
              "      <td>1</td>\n",
              "      <td>0</td>\n",
              "    </tr>\n",
              "  </tbody>\n",
              "</table>\n",
              "<p>1761 rows × 21 columns</p>\n",
              "</div>"
            ],
            "text/plain": [
              "      gender  SeniorCitizen  ... Actual_churn Predicted_churn\n",
              "5480  Female              0  ...            0               1\n",
              "4274    Male              0  ...            0               0\n",
              "5587  Female              1  ...            0               0\n",
              "36      Male              0  ...            1               1\n",
              "2316    Male              0  ...            0               0\n",
              "...      ...            ...  ...          ...             ...\n",
              "1727    Male              0  ...            0               0\n",
              "4955    Male              0  ...            1               1\n",
              "4816  Female              0  ...            0               0\n",
              "5341  Female              1  ...            1               1\n",
              "5441  Female              0  ...            1               0\n",
              "\n",
              "[1761 rows x 21 columns]"
            ]
          },
          "metadata": {
            "tags": []
          },
          "execution_count": 24
        }
      ]
    },
    {
      "cell_type": "code",
      "metadata": {
        "id": "v2eKBSaE_CAn",
        "colab_type": "code",
        "colab": {
          "base_uri": "https://localhost:8080/",
          "height": 17
        },
        "outputId": "15069022-e361-4d1e-d4bd-943acdf42730"
      },
      "source": [
        "df_with_test_pred.to_csv('telcodata_testpred_frombestmodel.csv')\n",
        "\n",
        "from google.colab import files\n",
        "files.download('telcodata_testpred_frombestmodel.csv')"
      ],
      "execution_count": 25,
      "outputs": [
        {
          "output_type": "display_data",
          "data": {
            "application/javascript": [
              "\n",
              "    async function download(id, filename, size) {\n",
              "      if (!google.colab.kernel.accessAllowed) {\n",
              "        return;\n",
              "      }\n",
              "      const div = document.createElement('div');\n",
              "      const label = document.createElement('label');\n",
              "      label.textContent = `Downloading \"${filename}\": `;\n",
              "      div.appendChild(label);\n",
              "      const progress = document.createElement('progress');\n",
              "      progress.max = size;\n",
              "      div.appendChild(progress);\n",
              "      document.body.appendChild(div);\n",
              "\n",
              "      const buffers = [];\n",
              "      let downloaded = 0;\n",
              "\n",
              "      const channel = await google.colab.kernel.comms.open(id);\n",
              "      // Send a message to notify the kernel that we're ready.\n",
              "      channel.send({})\n",
              "\n",
              "      for await (const message of channel.messages) {\n",
              "        // Send a message to notify the kernel that we're ready.\n",
              "        channel.send({})\n",
              "        if (message.buffers) {\n",
              "          for (const buffer of message.buffers) {\n",
              "            buffers.push(buffer);\n",
              "            downloaded += buffer.byteLength;\n",
              "            progress.value = downloaded;\n",
              "          }\n",
              "        }\n",
              "      }\n",
              "      const blob = new Blob(buffers, {type: 'application/binary'});\n",
              "      const a = document.createElement('a');\n",
              "      a.href = window.URL.createObjectURL(blob);\n",
              "      a.download = filename;\n",
              "      div.appendChild(a);\n",
              "      a.click();\n",
              "      div.remove();\n",
              "    }\n",
              "  "
            ],
            "text/plain": [
              "<IPython.core.display.Javascript object>"
            ]
          },
          "metadata": {
            "tags": []
          }
        },
        {
          "output_type": "display_data",
          "data": {
            "application/javascript": [
              "download(\"download_0338eeea-551e-4e9a-a00d-b05caf42dd4f\", \"telcodata_testpred_frombestmodel.csv\", 233897)"
            ],
            "text/plain": [
              "<IPython.core.display.Javascript object>"
            ]
          },
          "metadata": {
            "tags": []
          }
        }
      ]
    },
    {
      "cell_type": "code",
      "metadata": {
        "id": "lY2VM60L8HO1",
        "colab_type": "code",
        "colab": {
          "base_uri": "https://localhost:8080/",
          "height": 17
        },
        "outputId": "240a16ab-9f83-4380-8e29-fa4538e2e051"
      },
      "source": [
        "files.download('logreg_imbalanceddate_scores.csv')"
      ],
      "execution_count": 26,
      "outputs": [
        {
          "output_type": "display_data",
          "data": {
            "application/javascript": [
              "\n",
              "    async function download(id, filename, size) {\n",
              "      if (!google.colab.kernel.accessAllowed) {\n",
              "        return;\n",
              "      }\n",
              "      const div = document.createElement('div');\n",
              "      const label = document.createElement('label');\n",
              "      label.textContent = `Downloading \"${filename}\": `;\n",
              "      div.appendChild(label);\n",
              "      const progress = document.createElement('progress');\n",
              "      progress.max = size;\n",
              "      div.appendChild(progress);\n",
              "      document.body.appendChild(div);\n",
              "\n",
              "      const buffers = [];\n",
              "      let downloaded = 0;\n",
              "\n",
              "      const channel = await google.colab.kernel.comms.open(id);\n",
              "      // Send a message to notify the kernel that we're ready.\n",
              "      channel.send({})\n",
              "\n",
              "      for await (const message of channel.messages) {\n",
              "        // Send a message to notify the kernel that we're ready.\n",
              "        channel.send({})\n",
              "        if (message.buffers) {\n",
              "          for (const buffer of message.buffers) {\n",
              "            buffers.push(buffer);\n",
              "            downloaded += buffer.byteLength;\n",
              "            progress.value = downloaded;\n",
              "          }\n",
              "        }\n",
              "      }\n",
              "      const blob = new Blob(buffers, {type: 'application/binary'});\n",
              "      const a = document.createElement('a');\n",
              "      a.href = window.URL.createObjectURL(blob);\n",
              "      a.download = filename;\n",
              "      div.appendChild(a);\n",
              "      a.click();\n",
              "      div.remove();\n",
              "    }\n",
              "  "
            ],
            "text/plain": [
              "<IPython.core.display.Javascript object>"
            ]
          },
          "metadata": {
            "tags": []
          }
        },
        {
          "output_type": "display_data",
          "data": {
            "application/javascript": [
              "download(\"download_258badeb-5487-4656-8778-cbca9c1ad2bd\", \"logreg_imbalanceddate_scores.csv\", 196)"
            ],
            "text/plain": [
              "<IPython.core.display.Javascript object>"
            ]
          },
          "metadata": {
            "tags": []
          }
        }
      ]
    }
  ]
}