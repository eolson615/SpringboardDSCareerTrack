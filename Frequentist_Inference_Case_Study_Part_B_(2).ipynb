{
  "nbformat": 4,
  "nbformat_minor": 0,
  "metadata": {
    "kernelspec": {
      "display_name": "Python 3",
      "language": "python",
      "name": "python3"
    },
    "language_info": {
      "codemirror_mode": {
        "name": "ipython",
        "version": 3
      },
      "file_extension": ".py",
      "mimetype": "text/x-python",
      "name": "python",
      "nbconvert_exporter": "python",
      "pygments_lexer": "ipython3",
      "version": "3.7.3"
    },
    "colab": {
      "name": "Frequentist Inference Case Study - Part B (2).ipynb",
      "provenance": [],
      "collapsed_sections": [],
      "include_colab_link": true
    }
  },
  "cells": [
    {
      "cell_type": "markdown",
      "metadata": {
        "id": "view-in-github",
        "colab_type": "text"
      },
      "source": [
        "<a href=\"https://colab.research.google.com/github/eolson615/SpringboardDSCareerTrack/blob/master/Frequentist_Inference_Case_Study_Part_B_(2).ipynb\" target=\"_parent\"><img src=\"https://colab.research.google.com/assets/colab-badge.svg\" alt=\"Open In Colab\"/></a>"
      ]
    },
    {
      "cell_type": "markdown",
      "metadata": {
        "id": "6_3916AjW4Qz",
        "colab_type": "text"
      },
      "source": [
        "# Frequentist Inference Case Study - Part B"
      ]
    },
    {
      "cell_type": "markdown",
      "metadata": {
        "id": "OhHPyC2UW4Q0",
        "colab_type": "text"
      },
      "source": [
        "## Learning objectives"
      ]
    },
    {
      "cell_type": "markdown",
      "metadata": {
        "id": "Y6IkC_XRW4Q1",
        "colab_type": "text"
      },
      "source": [
        "Welcome to Part B of the Frequentist inference case study! The purpose of this case study is to help you apply the concepts associated with Frequentist inference in Python. In particular, you'll practice writing Python code to apply the following statistical concepts: \n",
        "* the _z_-statistic\n",
        "* the _t_-statistic\n",
        "* the difference and relationship between the two\n",
        "* the Central Limit Theorem, including its assumptions and consequences\n",
        "* how to estimate the population mean and standard deviation from a sample\n",
        "* the concept of a sampling distribution of a test statistic, particularly for the mean\n",
        "* how to combine these concepts to calculate a confidence interval"
      ]
    },
    {
      "cell_type": "markdown",
      "metadata": {
        "id": "0htSkFGqW4Q2",
        "colab_type": "text"
      },
      "source": [
        "In the previous notebook, we used only data from a known normal distribution. **You'll now tackle real data, rather than simulated data, and answer some relevant real-world business problems using the data.**"
      ]
    },
    {
      "cell_type": "markdown",
      "metadata": {
        "id": "PshHUjU-W4Q2",
        "colab_type": "text"
      },
      "source": [
        "## Hospital medical charges"
      ]
    },
    {
      "cell_type": "markdown",
      "metadata": {
        "id": "P_qECRSmW4Q3",
        "colab_type": "text"
      },
      "source": [
        "Imagine that a hospital has hired you as their data scientist. An administrator is working on the hospital's business operations plan and needs you to help them answer some business questions. \n",
        "\n",
        "In this assignment notebook, you're going to use frequentist statistical inference on a data sample to answer the questions:\n",
        "* has the hospital's revenue stream fallen below a key threshold?\n",
        "* are patients with insurance really charged different amounts than those without?\n",
        "\n",
        "Answering that last question with a frequentist approach makes some assumptions, and requires some knowledge, about the two groups."
      ]
    },
    {
      "cell_type": "markdown",
      "metadata": {
        "id": "fxjlwRdIW4Q3",
        "colab_type": "text"
      },
      "source": [
        "We are going to use some data on medical charges obtained from [Kaggle](https://www.kaggle.com/easonlai/sample-insurance-claim-prediction-dataset). \n",
        "\n",
        "For the purposes of this exercise, assume the observations are the result of random sampling from our single hospital. Recall that in the previous assignment, we introduced the Central Limit Theorem (CLT), and its consequence that the distributions of sample statistics approach a normal distribution as $n$ increases. The amazing thing about this is that it applies to the sampling distributions of statistics that have been calculated from even highly non-normal distributions of data! Recall, also, that hypothesis testing is very much based on making inferences about such sample statistics. You're going to rely heavily on the CLT to apply frequentist (parametric) tests to answer the questions in this notebook."
      ]
    },
    {
      "cell_type": "code",
      "metadata": {
        "id": "6JCNC-baW4Q4",
        "colab_type": "code",
        "colab": {}
      },
      "source": [
        "import pandas as pd\n",
        "import numpy as np\n",
        "import matplotlib.pyplot as plt\n",
        "from scipy.stats import t\n",
        "from numpy.random import seed\n",
        "# medical = pd.read_csv('data/insurance2.csv')"
      ],
      "execution_count": null,
      "outputs": []
    },
    {
      "cell_type": "code",
      "metadata": {
        "id": "pGcv9GxWXq4s",
        "colab_type": "code",
        "colab": {
          "base_uri": "https://localhost:8080/",
          "height": 121
        },
        "outputId": "81413393-f2ab-41d8-d702-11985b763a18"
      },
      "source": [
        "# from google.colab import drive\n",
        "# drive.mount('/content/drive')"
      ],
      "execution_count": null,
      "outputs": [
        {
          "output_type": "stream",
          "text": [
            "Go to this URL in a browser: https://accounts.google.com/o/oauth2/auth?client_id=947318989803-6bn6qk8qdgf4n4g3pfee6491hc0brc4i.apps.googleusercontent.com&redirect_uri=urn%3aietf%3awg%3aoauth%3a2.0%3aoob&response_type=code&scope=email%20https%3a%2f%2fwww.googleapis.com%2fauth%2fdocs.test%20https%3a%2f%2fwww.googleapis.com%2fauth%2fdrive%20https%3a%2f%2fwww.googleapis.com%2fauth%2fdrive.photos.readonly%20https%3a%2f%2fwww.googleapis.com%2fauth%2fpeopleapi.readonly\n",
            "\n",
            "Enter your authorization code:\n",
            "··········\n",
            "Mounted at /content/drive\n"
          ],
          "name": "stdout"
        }
      ]
    },
    {
      "cell_type": "code",
      "metadata": {
        "id": "AfXjD9_PX0Qq",
        "colab_type": "code",
        "colab": {}
      },
      "source": [
        "medical = pd.read_csv('https://raw.githubusercontent.com/eolson615/SpringboardDSCareerTrack/master/Misc_Projects/insurance2.csv')"
      ],
      "execution_count": null,
      "outputs": []
    },
    {
      "cell_type": "code",
      "metadata": {
        "id": "cnSTymFlW4Q7",
        "colab_type": "code",
        "colab": {
          "base_uri": "https://localhost:8080/",
          "height": 34
        },
        "outputId": "c8f65cad-c76e-4dfc-ddc5-72bf66131841"
      },
      "source": [
        "medical.shape"
      ],
      "execution_count": null,
      "outputs": [
        {
          "output_type": "execute_result",
          "data": {
            "text/plain": [
              "(1338, 8)"
            ]
          },
          "metadata": {
            "tags": []
          },
          "execution_count": 3
        }
      ]
    },
    {
      "cell_type": "code",
      "metadata": {
        "id": "R0FO9G0wW4Q-",
        "colab_type": "code",
        "colab": {
          "base_uri": "https://localhost:8080/",
          "height": 204
        },
        "outputId": "cee57383-7175-4666-9885-738d05d28505"
      },
      "source": [
        "medical.head()"
      ],
      "execution_count": null,
      "outputs": [
        {
          "output_type": "execute_result",
          "data": {
            "text/html": [
              "<div>\n",
              "<style scoped>\n",
              "    .dataframe tbody tr th:only-of-type {\n",
              "        vertical-align: middle;\n",
              "    }\n",
              "\n",
              "    .dataframe tbody tr th {\n",
              "        vertical-align: top;\n",
              "    }\n",
              "\n",
              "    .dataframe thead th {\n",
              "        text-align: right;\n",
              "    }\n",
              "</style>\n",
              "<table border=\"1\" class=\"dataframe\">\n",
              "  <thead>\n",
              "    <tr style=\"text-align: right;\">\n",
              "      <th></th>\n",
              "      <th>age</th>\n",
              "      <th>sex</th>\n",
              "      <th>bmi</th>\n",
              "      <th>children</th>\n",
              "      <th>smoker</th>\n",
              "      <th>region</th>\n",
              "      <th>charges</th>\n",
              "      <th>insuranceclaim</th>\n",
              "    </tr>\n",
              "  </thead>\n",
              "  <tbody>\n",
              "    <tr>\n",
              "      <th>0</th>\n",
              "      <td>19</td>\n",
              "      <td>0</td>\n",
              "      <td>27.900</td>\n",
              "      <td>0</td>\n",
              "      <td>1</td>\n",
              "      <td>3</td>\n",
              "      <td>16884.92400</td>\n",
              "      <td>1</td>\n",
              "    </tr>\n",
              "    <tr>\n",
              "      <th>1</th>\n",
              "      <td>18</td>\n",
              "      <td>1</td>\n",
              "      <td>33.770</td>\n",
              "      <td>1</td>\n",
              "      <td>0</td>\n",
              "      <td>2</td>\n",
              "      <td>1725.55230</td>\n",
              "      <td>1</td>\n",
              "    </tr>\n",
              "    <tr>\n",
              "      <th>2</th>\n",
              "      <td>28</td>\n",
              "      <td>1</td>\n",
              "      <td>33.000</td>\n",
              "      <td>3</td>\n",
              "      <td>0</td>\n",
              "      <td>2</td>\n",
              "      <td>4449.46200</td>\n",
              "      <td>0</td>\n",
              "    </tr>\n",
              "    <tr>\n",
              "      <th>3</th>\n",
              "      <td>33</td>\n",
              "      <td>1</td>\n",
              "      <td>22.705</td>\n",
              "      <td>0</td>\n",
              "      <td>0</td>\n",
              "      <td>1</td>\n",
              "      <td>21984.47061</td>\n",
              "      <td>0</td>\n",
              "    </tr>\n",
              "    <tr>\n",
              "      <th>4</th>\n",
              "      <td>32</td>\n",
              "      <td>1</td>\n",
              "      <td>28.880</td>\n",
              "      <td>0</td>\n",
              "      <td>0</td>\n",
              "      <td>1</td>\n",
              "      <td>3866.85520</td>\n",
              "      <td>1</td>\n",
              "    </tr>\n",
              "  </tbody>\n",
              "</table>\n",
              "</div>"
            ],
            "text/plain": [
              "   age  sex     bmi  children  smoker  region      charges  insuranceclaim\n",
              "0   19    0  27.900         0       1       3  16884.92400               1\n",
              "1   18    1  33.770         1       0       2   1725.55230               1\n",
              "2   28    1  33.000         3       0       2   4449.46200               0\n",
              "3   33    1  22.705         0       0       1  21984.47061               0\n",
              "4   32    1  28.880         0       0       1   3866.85520               1"
            ]
          },
          "metadata": {
            "tags": []
          },
          "execution_count": 4
        }
      ]
    },
    {
      "cell_type": "markdown",
      "metadata": {
        "id": "C0z7SDSkW4RA",
        "colab_type": "text"
      },
      "source": [
        "__Q1:__ Plot the histogram of charges and calculate the mean and standard deviation. Comment on the appropriateness of these statistics for the data."
      ]
    },
    {
      "cell_type": "markdown",
      "metadata": {
        "id": "RGqxEuWAW4RB",
        "colab_type": "text"
      },
      "source": [
        "__A:__"
      ]
    },
    {
      "cell_type": "code",
      "metadata": {
        "id": "_6ZC4FoKW4RB",
        "colab_type": "code",
        "colab": {
          "base_uri": "https://localhost:8080/",
          "height": 279
        },
        "outputId": "7262b5ee-d623-49d7-a19b-2f0fd9dcd522"
      },
      "source": [
        "_ = plt.hist(medical['charges'], bins=40)\n",
        "_ = plt.xlabel('Amount Charged ($)')\n",
        "_ = plt.ylabel('Number of Cases')\n",
        "plt.show()"
      ],
      "execution_count": null,
      "outputs": [
        {
          "output_type": "display_data",
          "data": {
            "image/png": "[encoded data removed]",
            "text/plain": [
              "<Figure size 432x288 with 1 Axes>"
            ]
          },
          "metadata": {
            "tags": [],
            "needs_background": "light"
          }
        }
      ]
    },
    {
      "cell_type": "code",
      "metadata": {
        "id": "Y3QTfKINW4RD",
        "colab_type": "code",
        "colab": {
          "base_uri": "https://localhost:8080/",
          "height": 34
        },
        "outputId": "55ee9f15-e9d4-4b23-8aa4-2a475c2b12d5"
      },
      "source": [
        "charges = medical['charges']\n",
        "mean_charges = round(np.mean(charges), 2)\n",
        "std_charges = round(np.std(charges), 2)\n",
        "mean_charges, std_charges"
      ],
      "execution_count": null,
      "outputs": [
        {
          "output_type": "execute_result",
          "data": {
            "text/plain": [
              "(13270.42, 12105.48)"
            ]
          },
          "metadata": {
            "tags": []
          },
          "execution_count": 7
        }
      ]
    },
    {
      "cell_type": "markdown",
      "metadata": {
        "id": "lySVu6yuW4RG",
        "colab_type": "text"
      },
      "source": [
        "__Q2:__ The administrator is concerned that the actual average charge has fallen below 12,000, threatening the hospital's operational model. On the assumption that these data represent a random sample of charges, how would you justify that these data allow you to answer that question? And what would be the most appropriate frequentist test, of the ones discussed so far, to apply?"
      ]
    },
    {
      "cell_type": "markdown",
      "metadata": {
        "id": "z-gZpomYW4RG",
        "colab_type": "text"
      },
      "source": [
        "__A:__ So the question is, has the actual average charge fallen below 12,000. This means we need to try and see what the confidence interval would be that the real average is below 12,000."
      ]
    },
    {
      "cell_type": "markdown",
      "metadata": {
        "id": "chGWfDHBW4RH",
        "colab_type": "text"
      },
      "source": [
        "__Q3:__ Given the nature of the administrator's concern, what is the appropriate confidence interval in this case? A ***one-sided*** or ***two-sided*** interval? (Refresh your understanding of this concept on p. 399 of the *AoS*). Calculate the critical value and the relevant 95% confidence interval for the mean, and comment on whether the administrator should be concerned."
      ]
    },
    {
      "cell_type": "markdown",
      "metadata": {
        "id": "xk8zBEOTW4RH",
        "colab_type": "text"
      },
      "source": [
        "__A:__"
      ]
    },
    {
      "cell_type": "code",
      "metadata": {
        "id": "A6LTpWgBW4RI",
        "colab_type": "code",
        "colab": {
          "base_uri": "https://localhost:8080/",
          "height": 282
        },
        "outputId": "55069d50-7e21-4102-e22f-8eff2392299e"
      },
      "source": [
        "bootstrap = pd.DataFrame({'meanCharge': [medical.sample(100, replace=True).charges.mean() for i in range(10000)]})\n",
        "bootstrap.meanCharge.hist(histtype='step')"
      ],
      "execution_count": null,
      "outputs": [
        {
          "output_type": "execute_result",
          "data": {
            "text/plain": [
              "<matplotlib.axes._subplots.AxesSubplot at 0x7f006a3caeb8>"
            ]
          },
          "metadata": {
            "tags": []
          },
          "execution_count": 8
        },
        {
          "output_type": "display_data",
          "data": {
            "image/png": "[encoded data removed]",
            "text/plain": [
              "<Figure size 432x288 with 1 Axes>"
            ]
          },
          "metadata": {
            "tags": [],
            "needs_background": "light"
          }
        }
      ]
    },
    {
      "cell_type": "code",
      "metadata": {
        "id": "S-c4ZoB_W4RK",
        "colab_type": "code",
        "colab": {
          "base_uri": "https://localhost:8080/",
          "height": 34
        },
        "outputId": "9637da36-cafa-427f-e21e-02a38fd30bc6"
      },
      "source": [
        "bootstrap.meanCharge.quantile(0.05)"
      ],
      "execution_count": null,
      "outputs": [
        {
          "output_type": "execute_result",
          "data": {
            "text/plain": [
              "11344.608226219998"
            ]
          },
          "metadata": {
            "tags": []
          },
          "execution_count": 9
        }
      ]
    },
    {
      "cell_type": "code",
      "metadata": {
        "id": "3iV3LTuwW4RM",
        "colab_type": "code",
        "colab": {
          "base_uri": "https://localhost:8080/",
          "height": 34
        },
        "outputId": "e8f667ac-782a-49da-f607-cd8bfeef35e4"
      },
      "source": [
        "std_away = (round(np.mean(bootstrap['meanCharge']), 2) - 12000) / round(np.std(bootstrap['meanCharge']), 2)\n",
        "std_away"
      ],
      "execution_count": null,
      "outputs": [
        {
          "output_type": "execute_result",
          "data": {
            "text/plain": [
              "1.0527433510858932"
            ]
          },
          "metadata": {
            "tags": []
          },
          "execution_count": 10
        }
      ]
    },
    {
      "cell_type": "code",
      "metadata": {
        "id": "5X87uyW8zGsJ",
        "colab_type": "code",
        "colab": {}
      },
      "source": [
        "#the administrator has room to be concerned"
      ],
      "execution_count": null,
      "outputs": []
    },
    {
      "cell_type": "markdown",
      "metadata": {
        "id": "QedybgdJW4RO",
        "colab_type": "text"
      },
      "source": [
        "The administrator then wants to know whether people with insurance really are charged a different amount to those without.\n",
        "\n",
        "__Q4:__ State the null and alternative hypothesis here. Use the _t_-test for the difference between means, where the pooled standard deviation of the two groups is given by:\n",
        "\\begin{equation}\n",
        "s_p = \\sqrt{\\frac{(n_0 - 1)s^2_0 + (n_1 - 1)s^2_1}{n_0 + n_1 - 2}}\n",
        "\\end{equation}\n",
        "\n",
        "and the *t*-test statistic is then given by:\n",
        "\n",
        "\\begin{equation}\n",
        "t = \\frac{\\bar{x}_0 - \\bar{x}_1}{s_p \\sqrt{1/n_0 + 1/n_1}}.\n",
        "\\end{equation}\n",
        "\n",
        "(If you need some reminding of the general definition of ***t-statistic***, check out the definition on p. 404 of *AoS*). \n",
        "\n",
        "What assumption about the variances of the two groups are we making here?"
      ]
    },
    {
      "cell_type": "markdown",
      "metadata": {
        "id": "0lbZm3YfW4RP",
        "colab_type": "text"
      },
      "source": [
        "__A:__"
      ]
    },
    {
      "cell_type": "markdown",
      "metadata": {
        "id": "1I6XZ6FaW4RP",
        "colab_type": "text"
      },
      "source": [
        "__Q5:__ Perform this hypothesis test both manually, using the above formulae, and then using the appropriate function from [scipy.stats](https://docs.scipy.org/doc/scipy/reference/stats.html#statistical-tests) (hint, you're looking for a function to perform a _t_-test on two independent samples). For the manual approach, calculate the value of the test statistic and then its probability (the p-value). Verify you get the same results from both."
      ]
    },
    {
      "cell_type": "markdown",
      "metadata": {
        "id": "xGHTyQqNW4RP",
        "colab_type": "text"
      },
      "source": [
        "__A:__ "
      ]
    },
    {
      "cell_type": "code",
      "metadata": {
        "id": "mP496ncCW4RQ",
        "colab_type": "code",
        "colab": {
          "base_uri": "https://localhost:8080/",
          "height": 34
        },
        "outputId": "2295b97b-111f-4636-b512-fc828b68fa50"
      },
      "source": [
        "from scipy import stats\n",
        "\n",
        "insured = medical[medical['insuranceclaim'] == 1]\n",
        "withInsurance = insured.loc[:, 'charges']\n",
        "\n",
        "uninsured = medical[medical['insuranceclaim'] == 0]\n",
        "outInsurance = uninsured.loc[:, 'charges']\n",
        "\n",
        "#stats.ttest_ind(withInsurance, outInsurance)\n",
        "# ttest_ind_from_stats(mean1=15.0, std1=np.sqrt(87.5), nobs1=13,\n",
        "#                      mean2=12.0, std2=np.sqrt(39.0), nobs2=11)\n",
        "stats.ttest_ind_from_stats(mean1=np.mean(withInsurance), std1=np.std(withInsurance), nobs1=len(withInsurance),\n",
        "                           mean2=np.mean(outInsurance), std2=np.std(outInsurance), nobs2=len(outInsurance))"
      ],
      "execution_count": null,
      "outputs": [
        {
          "output_type": "execute_result",
          "data": {
            "text/plain": [
              "Ttest_indResult(statistic=11.901306943555387, pvalue=4.090550214373679e-31)"
            ]
          },
          "metadata": {
            "tags": []
          },
          "execution_count": 11
        }
      ]
    },
    {
      "cell_type": "code",
      "metadata": {
        "id": "utXAcrMoW4RS",
        "colab_type": "code",
        "colab": {
          "base_uri": "https://localhost:8080/",
          "height": 34
        },
        "outputId": "303a08fe-23ee-445d-ed4d-2411b71b63c3"
      },
      "source": [
        "n0 = len(withInsurance) - 1\n",
        "n1 = len(outInsurance) - 1\n",
        "s0 = np.std(withInsurance) ** 2\n",
        "s1 = np.std(outInsurance) ** 2\n",
        "# n0_s0 = n0 * s0\n",
        "# n1_s1 = n1 * s1\n",
        "sp = np.sqrt(((n0 * s0) + (n1 * s1)) / (n0 + n1))\n",
        "sp"
      ],
      "execution_count": null,
      "outputs": [
        {
          "output_type": "execute_result",
          "data": {
            "text/plain": [
              "11512.282899205744"
            ]
          },
          "metadata": {
            "tags": []
          },
          "execution_count": 12
        }
      ]
    },
    {
      "cell_type": "code",
      "metadata": {
        "id": "rPk9v1TnW4RU",
        "colab_type": "code",
        "colab": {
          "base_uri": "https://localhost:8080/",
          "height": 34
        },
        "outputId": "9429d3f8-3960-4385-a65a-e8b0b06113af"
      },
      "source": [
        "x0 = np.mean(withInsurance)\n",
        "x1 = np.mean(outInsurance)\n",
        "n_0 = 1 / len(withInsurance)\n",
        "n_1 = 1 / len(outInsurance)\n",
        "denominator = np.sqrt(n_0 + n_1)\n",
        "t_stat = abs(x0-x1) / (sp * denominator)\n",
        "t_stat"
      ],
      "execution_count": null,
      "outputs": [
        {
          "output_type": "execute_result",
          "data": {
            "text/plain": [
              "11.901306943555385"
            ]
          },
          "metadata": {
            "tags": []
          },
          "execution_count": 13
        }
      ]
    },
    {
      "cell_type": "code",
      "metadata": {
        "id": "0D1OpZosW4RX",
        "colab_type": "code",
        "colab": {}
      },
      "source": [
        "# the two t stats that I came up with a fairly similar. The t-value and the p-value both indicate that the\n",
        "#null hypothesis that charges are the same for those who claim insurance "
      ],
      "execution_count": null,
      "outputs": []
    },
    {
      "cell_type": "markdown",
      "metadata": {
        "id": "v0u7Y_0VW4RZ",
        "colab_type": "text"
      },
      "source": [
        "Congratulations! Hopefully you got the exact same numerical results. This shows that you correctly calculated the numbers by hand. Secondly, you used the correct function and saw that it's much easier to use. All you need to do is pass your data to it."
      ]
    },
    {
      "cell_type": "markdown",
      "metadata": {
        "id": "uOAjLthmW4Ra",
        "colab_type": "text"
      },
      "source": [
        "__Q6:__ Conceptual question: look through the documentation for statistical test functions in scipy.stats. You'll see the above _t_-test for a sample, but can you see an equivalent one for performing a *z*-test from a sample? Comment on your answer."
      ]
    },
    {
      "cell_type": "markdown",
      "metadata": {
        "id": "xilm-02lW4Rb",
        "colab_type": "text"
      },
      "source": [
        "__A:__"
      ]
    },
    {
      "cell_type": "markdown",
      "metadata": {
        "id": "QkNUiwudW4Rb",
        "colab_type": "text"
      },
      "source": [
        "## Learning outcomes"
      ]
    },
    {
      "cell_type": "markdown",
      "metadata": {
        "id": "oS2Wa5smW4Rf",
        "colab_type": "text"
      },
      "source": [
        "Having completed this project notebook, you now have good hands-on experience:\n",
        "* using the central limit theorem to help you apply frequentist techniques to answer questions that pertain to very non-normally distributed data from the real world\n",
        "* performing inference using such data to answer business questions\n",
        "* forming a hypothesis and framing the null and alternative hypotheses\n",
        "* testing this using a _t_-test"
      ]
    }
  ]
}